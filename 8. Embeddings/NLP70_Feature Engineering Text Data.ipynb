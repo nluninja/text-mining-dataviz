{
 "cells": [
  {
   "cell_type": "markdown",
   "metadata": {},
   "source": [
    "# Import necessary dependencies and settings"
   ]
  },
  {
   "cell_type": "code",
   "execution_count": 3,
   "metadata": {},
   "outputs": [],
   "source": [
    "import pandas as pd\n",
    "import numpy as np\n",
    "import re\n",
    "import nltk\n",
    "import matplotlib.pyplot as plt\n",
    "\n",
    "pd.options.display.max_colwidth = 200\n",
    "%matplotlib inline"
   ]
  },
  {
   "cell_type": "markdown",
   "metadata": {},
   "source": [
    "# Sample corpus of text documents"
   ]
  },
  {
   "cell_type": "code",
   "execution_count": 4,
   "metadata": {},
   "outputs": [
    {
     "data": {
      "text/html": [
       "<div>\n",
       "<style>\n",
       "    .dataframe thead tr:only-child th {\n",
       "        text-align: right;\n",
       "    }\n",
       "\n",
       "    .dataframe thead th {\n",
       "        text-align: left;\n",
       "    }\n",
       "\n",
       "    .dataframe tbody tr th {\n",
       "        vertical-align: top;\n",
       "    }\n",
       "</style>\n",
       "<table border=\"1\" class=\"dataframe\">\n",
       "  <thead>\n",
       "    <tr style=\"text-align: right;\">\n",
       "      <th></th>\n",
       "      <th>Document</th>\n",
       "      <th>Category</th>\n",
       "    </tr>\n",
       "  </thead>\n",
       "  <tbody>\n",
       "    <tr>\n",
       "      <th>0</th>\n",
       "      <td>The sky is blue and beautiful.</td>\n",
       "      <td>weather</td>\n",
       "    </tr>\n",
       "    <tr>\n",
       "      <th>1</th>\n",
       "      <td>Love this blue and beautiful sky!</td>\n",
       "      <td>weather</td>\n",
       "    </tr>\n",
       "    <tr>\n",
       "      <th>2</th>\n",
       "      <td>The quick brown fox jumps over the lazy dog.</td>\n",
       "      <td>animals</td>\n",
       "    </tr>\n",
       "    <tr>\n",
       "      <th>3</th>\n",
       "      <td>A king's breakfast has sausages, ham, bacon, eggs, toast and beans</td>\n",
       "      <td>food</td>\n",
       "    </tr>\n",
       "    <tr>\n",
       "      <th>4</th>\n",
       "      <td>I love green eggs, ham, sausages and bacon!</td>\n",
       "      <td>food</td>\n",
       "    </tr>\n",
       "    <tr>\n",
       "      <th>5</th>\n",
       "      <td>The brown fox is quick and the blue dog is lazy!</td>\n",
       "      <td>animals</td>\n",
       "    </tr>\n",
       "    <tr>\n",
       "      <th>6</th>\n",
       "      <td>The sky is very blue and the sky is very beautiful today</td>\n",
       "      <td>weather</td>\n",
       "    </tr>\n",
       "    <tr>\n",
       "      <th>7</th>\n",
       "      <td>The dog is lazy but the brown fox is quick!</td>\n",
       "      <td>animals</td>\n",
       "    </tr>\n",
       "  </tbody>\n",
       "</table>\n",
       "</div>"
      ],
      "text/plain": [
       "                                                             Document Category\n",
       "0                                      The sky is blue and beautiful.  weather\n",
       "1                                   Love this blue and beautiful sky!  weather\n",
       "2                        The quick brown fox jumps over the lazy dog.  animals\n",
       "3  A king's breakfast has sausages, ham, bacon, eggs, toast and beans     food\n",
       "4                         I love green eggs, ham, sausages and bacon!     food\n",
       "5                    The brown fox is quick and the blue dog is lazy!  animals\n",
       "6            The sky is very blue and the sky is very beautiful today  weather\n",
       "7                         The dog is lazy but the brown fox is quick!  animals"
      ]
     },
     "execution_count": 4,
     "metadata": {},
     "output_type": "execute_result"
    }
   ],
   "source": [
    "corpus = ['The sky is blue and beautiful.',\n",
    "          'Love this blue and beautiful sky!',\n",
    "          'The quick brown fox jumps over the lazy dog.',\n",
    "          \"A king's breakfast has sausages, ham, bacon, eggs, toast and beans\",\n",
    "          'I love green eggs, ham, sausages and bacon!',\n",
    "          'The brown fox is quick and the blue dog is lazy!',\n",
    "          'The sky is very blue and the sky is very beautiful today',\n",
    "          'The dog is lazy but the brown fox is quick!'    \n",
    "]\n",
    "labels = ['weather', 'weather', 'animals', 'food', 'food', 'animals', 'weather', 'animals']\n",
    "\n",
    "corpus = np.array(corpus)\n",
    "corpus_df = pd.DataFrame({'Document': corpus, \n",
    "                          'Category': labels})\n",
    "corpus_df = corpus_df[['Document', 'Category']]\n",
    "corpus_df"
   ]
  },
  {
   "cell_type": "markdown",
   "metadata": {},
   "source": [
    "# Simple text pre-processing\n",
    "first we remove special characters, extra whitespaces, digits, stopwords and lower casing the text corpus"
   ]
  },
  {
   "cell_type": "code",
   "execution_count": 5,
   "metadata": {},
   "outputs": [],
   "source": [
    "wpt = nltk.WordPunctTokenizer()\n",
    "stop_words = nltk.corpus.stopwords.words('english')\n",
    "\n",
    "def normalize_document(doc):\n",
    "    # lower case and remove special characters\\whitespaces\n",
    "    doc = re.sub(r'[^a-zA-Z\\s]', '', doc, re.I|re.A)\n",
    "    doc = doc.lower()\n",
    "    doc = doc.strip()\n",
    "    # tokenize document\n",
    "    tokens = wpt.tokenize(doc)\n",
    "    # filter stopwords out of document\n",
    "    filtered_tokens = [token for token in tokens if token not in stop_words]\n",
    "    # re-create document from filtered tokens\n",
    "    doc = ' '.join(filtered_tokens)\n",
    "    return doc\n",
    "\n",
    "normalize_corpus = np.vectorize(normalize_document)"
   ]
  },
  {
   "cell_type": "code",
   "execution_count": 6,
   "metadata": {},
   "outputs": [
    {
     "data": {
      "text/plain": [
       "array(['sky blue beautiful', 'love blue beautiful sky',\n",
       "       'quick brown fox jumps lazy dog',\n",
       "       'kings breakfast sausages ham bacon eggs toast beans',\n",
       "       'love green eggs ham sausages bacon',\n",
       "       'brown fox quick blue dog lazy', 'sky blue sky beautiful today',\n",
       "       'dog lazy brown fox quick'], dtype='<U51')"
      ]
     },
     "execution_count": 6,
     "metadata": {},
     "output_type": "execute_result"
    }
   ],
   "source": [
    "norm_corpus = normalize_corpus(corpus)\n",
    "norm_corpus"
   ]
  },
  {
   "cell_type": "markdown",
   "metadata": {},
   "source": [
    "# Word Embeddings"
   ]
  },
  {
   "cell_type": "markdown",
   "metadata": {},
   "source": [
    "## Load up sample corpus - Bible\n",
    "Let’s now load up our other corpus based on The King James Version of the Bible using nltk and pre-process the text."
   ]
  },
  {
   "cell_type": "code",
   "execution_count": 7,
   "metadata": {},
   "outputs": [
    {
     "name": "stdout",
     "output_type": "stream",
     "text": [
      "Total lines: 30103\n",
      "\n",
      "Sample line: ['1', ':', '6', 'And', 'God', 'said', ',', 'Let', 'there', 'be', 'a', 'firmament', 'in', 'the', 'midst', 'of', 'the', 'waters', ',', 'and', 'let', 'it', 'divide', 'the', 'waters', 'from', 'the', 'waters', '.']\n",
      "\n",
      "Processed line: god said let firmament midst waters let divide waters waters\n"
     ]
    }
   ],
   "source": [
    "from nltk.corpus import gutenberg\n",
    "from string import punctuation\n",
    "\n",
    "bible = gutenberg.sents('bible-kjv.txt') \n",
    "remove_terms = punctuation + '0123456789'\n",
    "\n",
    "norm_bible = [[word.lower() for word in sent if word not in remove_terms] for sent in bible]\n",
    "norm_bible = [' '.join(tok_sent) for tok_sent in norm_bible]\n",
    "norm_bible = filter(None, normalize_corpus(norm_bible))\n",
    "norm_bible = [tok_sent for tok_sent in norm_bible if len(tok_sent.split()) > 2]\n",
    "\n",
    "print('Total lines:', len(bible))\n",
    "print('\\nSample line:', bible[10])\n",
    "print('\\nProcessed line:', norm_bible[10])"
   ]
  },
  {
   "cell_type": "markdown",
   "metadata": {},
   "source": [
    "## Implementing a word2vec model using a CBOW (Continuous Bag of Words) neural network architecture\n",
    "altough libraries such as gensim provide default functions, we try to create if from scratch on the Bible corpus"
   ]
  },
  {
   "cell_type": "markdown",
   "metadata": {},
   "source": [
    "### Build Vocabulary"
   ]
  },
  {
   "cell_type": "code",
   "execution_count": 8,
   "metadata": {},
   "outputs": [
    {
     "name": "stdout",
     "output_type": "stream",
     "text": [
      "Vocabulary Size: 12425\n",
      "Vocabulary Sample: [('perceived', 1460), ('flagon', 7287), ('gardener', 11641), ('named', 973), ('remain', 732), ('sticketh', 10622), ('abstinence', 11848), ('rufus', 8190), ('adversary', 2018), ('jehoiachin', 3189)]\n"
     ]
    }
   ],
   "source": [
    "from keras.preprocessing import text\n",
    "from keras.preprocessing import sequence\n",
    "\n",
    "tokenizer = text.Tokenizer()\n",
    "tokenizer.fit_on_texts(norm_bible)\n",
    "word2id = tokenizer.word_index\n",
    "\n",
    "word2id['PAD'] = 0\n",
    "id2word = {v:k for k, v in word2id.items()}\n",
    "wids = [[word2id[w] for w in text.text_to_word_sequence(doc)] for doc in norm_bible]\n",
    "\n",
    "vocab_size = len(word2id)\n",
    "embed_size = 100\n",
    "window_size = 2\n",
    "\n",
    "print('Vocabulary Size:', vocab_size)\n",
    "print('Vocabulary Sample:', list(word2id.items())[:10])"
   ]
  },
  {
   "cell_type": "markdown",
   "metadata": {},
   "source": [
    "### Build (context_words, target_word) pair generator\n",
    "We need pairs which consist of a target centre word and surround context words:\n",
    "* a target word is of length 1  \n",
    "* the surrounding context is of length 2 x window_size "
   ]
  },
  {
   "cell_type": "code",
   "execution_count": 8,
   "metadata": {
    "collapsed": true
   },
   "outputs": [],
   "source": [
    "from tensorflow.keras import utils\n",
    "\n",
    "def generate_context_word_pairs(corpus, window_size, vocab_size):\n",
    "    context_length = window_size*2\n",
    "    for words in corpus:\n",
    "        sentence_length = len(words)\n",
    "        for index, word in enumerate(words):\n",
    "            context_words = []\n",
    "            label_word   = []            \n",
    "            start = index - window_size\n",
    "            end = index + window_size + 1\n",
    "            \n",
    "            context_words.append([words[i] \n",
    "                                 for i in range(start, end) \n",
    "                                 if 0 <= i < sentence_length \n",
    "                                 and i != index])\n",
    "            label_word.append(word)\n",
    "\n",
    "            x = sequence.pad_sequences(context_words, maxlen=context_length)\n",
    "            y = utils.to_categorical(label_word, vocab_size)\n",
    "            yield (x, y)"
   ]
  },
  {
   "cell_type": "code",
   "execution_count": 9,
   "metadata": {},
   "outputs": [
    {
     "name": "stdout",
     "output_type": "stream",
     "text": [
      "Context (X): ['old', 'testament', 'james', 'bible'] -> Target (Y): king\n",
      "Context (X): ['first', 'book', 'called', 'genesis'] -> Target (Y): moses\n",
      "Context (X): ['beginning', 'god', 'heaven', 'earth'] -> Target (Y): created\n",
      "Context (X): ['earth', 'without', 'void', 'darkness'] -> Target (Y): form\n",
      "Context (X): ['without', 'form', 'darkness', 'upon'] -> Target (Y): void\n",
      "Context (X): ['form', 'void', 'upon', 'face'] -> Target (Y): darkness\n",
      "Context (X): ['void', 'darkness', 'face', 'deep'] -> Target (Y): upon\n",
      "Context (X): ['spirit', 'god', 'upon', 'face'] -> Target (Y): moved\n",
      "Context (X): ['god', 'moved', 'face', 'waters'] -> Target (Y): upon\n",
      "Context (X): ['god', 'said', 'light', 'light'] -> Target (Y): let\n",
      "Context (X): ['god', 'saw', 'good', 'god'] -> Target (Y): light\n"
     ]
    }
   ],
   "source": [
    "i = 0\n",
    "for x, y in generate_context_word_pairs(corpus=wids, window_size=window_size, vocab_size=vocab_size):\n",
    "    if 0 not in x[0]:\n",
    "        print('Context (X):', [id2word[w] for w in x[0]], '-> Target (Y):', id2word[np.argwhere(y[0])[0][0]])\n",
    "    \n",
    "        if i == 10:\n",
    "            break\n",
    "        i += 1"
   ]
  },
  {
   "cell_type": "markdown",
   "metadata": {},
   "source": [
    "### Build CBOW Deep Network Model\n",
    "We now leverage keras on top of tensorflow to build our deep learning architecture for the CBOW model.\n",
    "we use:\n",
    "* an embedding layer inialized randomly with weights\n",
    "* we use a layer for averaging the word embeddings\n",
    "* we pass this context embedding to a softmax for categorization\n",
    "* we match the result with the actual target word, compute the loss with categorical_crossentropy.### Build CBOW Deep Network Model"
   ]
  },
  {
   "cell_type": "code",
   "execution_count": 20,
   "metadata": {},
   "outputs": [
    {
     "name": "stdout",
     "output_type": "stream",
     "text": [
      "_________________________________________________________________\n",
      "Layer (type)                 Output Shape              Param #   \n",
      "=================================================================\n",
      "embedding_6 (Embedding)      (None, 4, 100)            1242500   \n",
      "_________________________________________________________________\n",
      "lambda_2 (Lambda)            (None, 100)               0         \n",
      "_________________________________________________________________\n",
      "dense_4 (Dense)              (None, 12425)             1254925   \n",
      "=================================================================\n",
      "Total params: 2,497,425\n",
      "Trainable params: 2,497,425\n",
      "Non-trainable params: 0\n",
      "_________________________________________________________________\n",
      "None\n"
     ]
    }
   ],
   "source": [
    "import keras.backend as K\n",
    "from keras.models import Sequential\n",
    "from keras.layers import Dense, Embedding, Lambda\n",
    "\n",
    "cbow = Sequential()\n",
    "cbow.add(Embedding(input_dim=vocab_size, output_dim=embed_size, input_length=window_size*2))\n",
    "cbow.add(Lambda(lambda x: K.mean(x, axis=1), output_shape=(embed_size,)))\n",
    "cbow.add(Dense(vocab_size, activation='softmax'))\n",
    "\n",
    "cbow.compile(loss='categorical_crossentropy', optimizer='rmsprop')\n",
    "print(cbow.summary())"
   ]
  },
  {
   "cell_type": "markdown",
   "metadata": {},
   "source": [
    "You must install pydot (`pip install pydot`) and install graphviz (see instructions at https://www.graphviz.org/download/) for plot_model to work."
   ]
  },
  {
   "cell_type": "code",
   "execution_count": 21,
   "metadata": {},
   "outputs": [
    {
     "data": {
      "image/svg+xml": [
       "<svg height=\"304pt\" viewBox=\"0.00 0.00 242.00 304.00\" width=\"242pt\" xmlns=\"http://www.w3.org/2000/svg\" xmlns:xlink=\"http://www.w3.org/1999/xlink\">\n",
       "<g class=\"graph\" id=\"graph0\" transform=\"scale(1 1) rotate(0) translate(4 300)\">\n",
       "<title>G</title>\n",
       "<polygon fill=\"white\" points=\"-4,4 -4,-300 238,-300 238,4 -4,4\" stroke=\"none\"/>\n",
       "<!-- 2189455658848 -->\n",
       "<g class=\"node\" id=\"node1\"><title>2189455658848</title>\n",
       "<polygon fill=\"none\" points=\"15.5,-249.5 15.5,-295.5 218.5,-295.5 218.5,-249.5 15.5,-249.5\" stroke=\"black\"/>\n",
       "<text font-family=\"Times New Roman,serif\" font-size=\"14.00\" text-anchor=\"middle\" x=\"54\" y=\"-268.8\">InputLayer</text>\n",
       "<polyline fill=\"none\" points=\"92.5,-249.5 92.5,-295.5 \" stroke=\"black\"/>\n",
       "<text font-family=\"Times New Roman,serif\" font-size=\"14.00\" text-anchor=\"middle\" x=\"120.5\" y=\"-280.3\">input:</text>\n",
       "<polyline fill=\"none\" points=\"92.5,-272.5 148.5,-272.5 \" stroke=\"black\"/>\n",
       "<text font-family=\"Times New Roman,serif\" font-size=\"14.00\" text-anchor=\"middle\" x=\"120.5\" y=\"-257.3\">output:</text>\n",
       "<polyline fill=\"none\" points=\"148.5,-249.5 148.5,-295.5 \" stroke=\"black\"/>\n",
       "<text font-family=\"Times New Roman,serif\" font-size=\"14.00\" text-anchor=\"middle\" x=\"183.5\" y=\"-280.3\">(None, 4)</text>\n",
       "<polyline fill=\"none\" points=\"148.5,-272.5 218.5,-272.5 \" stroke=\"black\"/>\n",
       "<text font-family=\"Times New Roman,serif\" font-size=\"14.00\" text-anchor=\"middle\" x=\"183.5\" y=\"-257.3\">(None, 4)</text>\n",
       "</g>\n",
       "<!-- 2189455657952 -->\n",
       "<g class=\"node\" id=\"node2\"><title>2189455657952</title>\n",
       "<polygon fill=\"none\" points=\"0,-166.5 0,-212.5 234,-212.5 234,-166.5 0,-166.5\" stroke=\"black\"/>\n",
       "<text font-family=\"Times New Roman,serif\" font-size=\"14.00\" text-anchor=\"middle\" x=\"40\" y=\"-185.8\">Embedding</text>\n",
       "<polyline fill=\"none\" points=\"80,-166.5 80,-212.5 \" stroke=\"black\"/>\n",
       "<text font-family=\"Times New Roman,serif\" font-size=\"14.00\" text-anchor=\"middle\" x=\"108\" y=\"-197.3\">input:</text>\n",
       "<polyline fill=\"none\" points=\"80,-189.5 136,-189.5 \" stroke=\"black\"/>\n",
       "<text font-family=\"Times New Roman,serif\" font-size=\"14.00\" text-anchor=\"middle\" x=\"108\" y=\"-174.3\">output:</text>\n",
       "<polyline fill=\"none\" points=\"136,-166.5 136,-212.5 \" stroke=\"black\"/>\n",
       "<text font-family=\"Times New Roman,serif\" font-size=\"14.00\" text-anchor=\"middle\" x=\"185\" y=\"-197.3\">(None, 4)</text>\n",
       "<polyline fill=\"none\" points=\"136,-189.5 234,-189.5 \" stroke=\"black\"/>\n",
       "<text font-family=\"Times New Roman,serif\" font-size=\"14.00\" text-anchor=\"middle\" x=\"185\" y=\"-174.3\">(None, 4, 100)</text>\n",
       "</g>\n",
       "<!-- 2189455658848&#45;&gt;2189455657952 -->\n",
       "<g class=\"edge\" id=\"edge1\"><title>2189455658848-&gt;2189455657952</title>\n",
       "<path d=\"M117,-249.366C117,-241.152 117,-231.658 117,-222.725\" fill=\"none\" stroke=\"black\"/>\n",
       "<polygon fill=\"black\" points=\"120.5,-222.607 117,-212.607 113.5,-222.607 120.5,-222.607\" stroke=\"black\"/>\n",
       "</g>\n",
       "<!-- 2189455658960 -->\n",
       "<g class=\"node\" id=\"node3\"><title>2189455658960</title>\n",
       "<polygon fill=\"none\" points=\"9,-83.5 9,-129.5 225,-129.5 225,-83.5 9,-83.5\" stroke=\"black\"/>\n",
       "<text font-family=\"Times New Roman,serif\" font-size=\"14.00\" text-anchor=\"middle\" x=\"40\" y=\"-102.8\">Lambda</text>\n",
       "<polyline fill=\"none\" points=\"71,-83.5 71,-129.5 \" stroke=\"black\"/>\n",
       "<text font-family=\"Times New Roman,serif\" font-size=\"14.00\" text-anchor=\"middle\" x=\"99\" y=\"-114.3\">input:</text>\n",
       "<polyline fill=\"none\" points=\"71,-106.5 127,-106.5 \" stroke=\"black\"/>\n",
       "<text font-family=\"Times New Roman,serif\" font-size=\"14.00\" text-anchor=\"middle\" x=\"99\" y=\"-91.3\">output:</text>\n",
       "<polyline fill=\"none\" points=\"127,-83.5 127,-129.5 \" stroke=\"black\"/>\n",
       "<text font-family=\"Times New Roman,serif\" font-size=\"14.00\" text-anchor=\"middle\" x=\"176\" y=\"-114.3\">(None, 4, 100)</text>\n",
       "<polyline fill=\"none\" points=\"127,-106.5 225,-106.5 \" stroke=\"black\"/>\n",
       "<text font-family=\"Times New Roman,serif\" font-size=\"14.00\" text-anchor=\"middle\" x=\"176\" y=\"-91.3\">(None, 100)</text>\n",
       "</g>\n",
       "<!-- 2189455657952&#45;&gt;2189455658960 -->\n",
       "<g class=\"edge\" id=\"edge2\"><title>2189455657952-&gt;2189455658960</title>\n",
       "<path d=\"M117,-166.366C117,-158.152 117,-148.658 117,-139.725\" fill=\"none\" stroke=\"black\"/>\n",
       "<polygon fill=\"black\" points=\"120.5,-139.607 117,-129.607 113.5,-139.607 120.5,-139.607\" stroke=\"black\"/>\n",
       "</g>\n",
       "<!-- 2188407672280 -->\n",
       "<g class=\"node\" id=\"node4\"><title>2188407672280</title>\n",
       "<polygon fill=\"none\" points=\"15,-0.5 15,-46.5 219,-46.5 219,-0.5 15,-0.5\" stroke=\"black\"/>\n",
       "<text font-family=\"Times New Roman,serif\" font-size=\"14.00\" text-anchor=\"middle\" x=\"40.5\" y=\"-19.8\">Dense</text>\n",
       "<polyline fill=\"none\" points=\"66,-0.5 66,-46.5 \" stroke=\"black\"/>\n",
       "<text font-family=\"Times New Roman,serif\" font-size=\"14.00\" text-anchor=\"middle\" x=\"94\" y=\"-31.3\">input:</text>\n",
       "<polyline fill=\"none\" points=\"66,-23.5 122,-23.5 \" stroke=\"black\"/>\n",
       "<text font-family=\"Times New Roman,serif\" font-size=\"14.00\" text-anchor=\"middle\" x=\"94\" y=\"-8.3\">output:</text>\n",
       "<polyline fill=\"none\" points=\"122,-0.5 122,-46.5 \" stroke=\"black\"/>\n",
       "<text font-family=\"Times New Roman,serif\" font-size=\"14.00\" text-anchor=\"middle\" x=\"170.5\" y=\"-31.3\">(None, 100)</text>\n",
       "<polyline fill=\"none\" points=\"122,-23.5 219,-23.5 \" stroke=\"black\"/>\n",
       "<text font-family=\"Times New Roman,serif\" font-size=\"14.00\" text-anchor=\"middle\" x=\"170.5\" y=\"-8.3\">(None, 12425)</text>\n",
       "</g>\n",
       "<!-- 2189455658960&#45;&gt;2188407672280 -->\n",
       "<g class=\"edge\" id=\"edge3\"><title>2189455658960-&gt;2188407672280</title>\n",
       "<path d=\"M117,-83.3664C117,-75.1516 117,-65.6579 117,-56.7252\" fill=\"none\" stroke=\"black\"/>\n",
       "<polygon fill=\"black\" points=\"120.5,-56.6068 117,-46.6068 113.5,-56.6069 120.5,-56.6068\" stroke=\"black\"/>\n",
       "</g>\n",
       "</g>\n",
       "</svg>"
      ],
      "text/plain": [
       "<IPython.core.display.SVG object>"
      ]
     },
     "execution_count": 21,
     "metadata": {},
     "output_type": "execute_result"
    }
   ],
   "source": [
    "from keras.utils import plot_model\n",
    "\n",
    "plot_model(cbow, show_shapes=True, show_layer_names=True)"
   ]
  },
  {
   "cell_type": "markdown",
   "metadata": {},
   "source": [
    "![cbow model](cbow.png)\n",
    "(./cbow.png)"
   ]
  },
  {
   "cell_type": "markdown",
   "metadata": {},
   "source": [
    "### Train model for 5 epochs"
   ]
  },
  {
   "cell_type": "code",
   "execution_count": 86,
   "metadata": {},
   "outputs": [
    {
     "name": "stdout",
     "output_type": "stream",
     "text": [
      "Processed 100000 (context, word) pairs\n",
      "Processed 200000 (context, word) pairs\n",
      "Processed 300000 (context, word) pairs\n",
      "Epoch: 1 \tLoss: 4257900.60084\n",
      "\n",
      "Processed 100000 (context, word) pairs\n",
      "Processed 200000 (context, word) pairs\n",
      "Processed 300000 (context, word) pairs\n",
      "Epoch: 2 \tLoss: 4256209.59646\n",
      "\n",
      "Processed 100000 (context, word) pairs\n",
      "Processed 200000 (context, word) pairs\n",
      "Processed 300000 (context, word) pairs\n",
      "Epoch: 3 \tLoss: 4247990.90456\n",
      "\n",
      "Processed 100000 (context, word) pairs\n",
      "Processed 200000 (context, word) pairs\n",
      "Processed 300000 (context, word) pairs\n",
      "Epoch: 4 \tLoss: 4225663.18927\n",
      "\n",
      "Processed 100000 (context, word) pairs\n",
      "Processed 200000 (context, word) pairs\n",
      "Processed 300000 (context, word) pairs\n",
      "Epoch: 5 \tLoss: 4104501.48929\n",
      "\n"
     ]
    }
   ],
   "source": [
    "for epoch in range(1, 6):\n",
    "    loss = 0.\n",
    "    i = 0\n",
    "    for x, y in generate_context_word_pairs(corpus=wids, window_size=window_size, vocab_size=vocab_size):\n",
    "        i += 1\n",
    "        loss += cbow.train_on_batch(x, y)\n",
    "        if i % 100000 == 0:\n",
    "            print('Processed {} (context, word) pairs'.format(i))\n",
    "\n",
    "    print('Epoch:', epoch, '\\tLoss:', loss)\n",
    "    print()"
   ]
  },
  {
   "cell_type": "markdown",
   "metadata": {},
   "source": [
    "### Get word embeddings\n",
    "To get word embeddings for our entire vocabulary, we can extract out the same from our embedding layer.\n",
    "We don’t take the embedding at position 0 since it belongs to the padding (PAD) term which is not really a word of interest."
   ]
  },
  {
   "cell_type": "code",
   "execution_count": 94,
   "metadata": {},
   "outputs": [
    {
     "name": "stdout",
     "output_type": "stream",
     "text": [
      "(12424, 100)\n"
     ]
    },
    {
     "data": {
      "text/html": [
       "<div>\n",
       "<style>\n",
       "    .dataframe thead tr:only-child th {\n",
       "        text-align: right;\n",
       "    }\n",
       "\n",
       "    .dataframe thead th {\n",
       "        text-align: left;\n",
       "    }\n",
       "\n",
       "    .dataframe tbody tr th {\n",
       "        vertical-align: top;\n",
       "    }\n",
       "</style>\n",
       "<table border=\"1\" class=\"dataframe\">\n",
       "  <thead>\n",
       "    <tr style=\"text-align: right;\">\n",
       "      <th></th>\n",
       "      <th>0</th>\n",
       "      <th>1</th>\n",
       "      <th>2</th>\n",
       "      <th>3</th>\n",
       "      <th>4</th>\n",
       "      <th>5</th>\n",
       "      <th>6</th>\n",
       "      <th>7</th>\n",
       "      <th>8</th>\n",
       "      <th>9</th>\n",
       "      <th>...</th>\n",
       "      <th>90</th>\n",
       "      <th>91</th>\n",
       "      <th>92</th>\n",
       "      <th>93</th>\n",
       "      <th>94</th>\n",
       "      <th>95</th>\n",
       "      <th>96</th>\n",
       "      <th>97</th>\n",
       "      <th>98</th>\n",
       "      <th>99</th>\n",
       "    </tr>\n",
       "  </thead>\n",
       "  <tbody>\n",
       "    <tr>\n",
       "      <th>shall</th>\n",
       "      <td>-1.183386</td>\n",
       "      <td>-2.866214</td>\n",
       "      <td>1.046431</td>\n",
       "      <td>0.943265</td>\n",
       "      <td>-1.021784</td>\n",
       "      <td>-0.047069</td>\n",
       "      <td>2.108584</td>\n",
       "      <td>-0.458692</td>\n",
       "      <td>-1.698881</td>\n",
       "      <td>0.905800</td>\n",
       "      <td>...</td>\n",
       "      <td>0.655786</td>\n",
       "      <td>0.703828</td>\n",
       "      <td>0.821803</td>\n",
       "      <td>-0.093732</td>\n",
       "      <td>-2.474536</td>\n",
       "      <td>2.309505</td>\n",
       "      <td>0.713962</td>\n",
       "      <td>-0.175176</td>\n",
       "      <td>0.262700</td>\n",
       "      <td>0.818652</td>\n",
       "    </tr>\n",
       "    <tr>\n",
       "      <th>unto</th>\n",
       "      <td>-1.725262</td>\n",
       "      <td>-1.765972</td>\n",
       "      <td>1.411971</td>\n",
       "      <td>0.917713</td>\n",
       "      <td>0.793832</td>\n",
       "      <td>0.310631</td>\n",
       "      <td>1.541964</td>\n",
       "      <td>-0.082523</td>\n",
       "      <td>-1.346811</td>\n",
       "      <td>0.095824</td>\n",
       "      <td>...</td>\n",
       "      <td>1.682762</td>\n",
       "      <td>-0.872293</td>\n",
       "      <td>1.908597</td>\n",
       "      <td>0.977152</td>\n",
       "      <td>-0.835005</td>\n",
       "      <td>1.128618</td>\n",
       "      <td>0.834068</td>\n",
       "      <td>1.852117</td>\n",
       "      <td>-2.522386</td>\n",
       "      <td>-0.053387</td>\n",
       "    </tr>\n",
       "    <tr>\n",
       "      <th>lord</th>\n",
       "      <td>1.694633</td>\n",
       "      <td>-0.650949</td>\n",
       "      <td>-0.095796</td>\n",
       "      <td>0.950002</td>\n",
       "      <td>0.813837</td>\n",
       "      <td>1.538206</td>\n",
       "      <td>1.125482</td>\n",
       "      <td>-1.655581</td>\n",
       "      <td>-1.352673</td>\n",
       "      <td>0.409504</td>\n",
       "      <td>...</td>\n",
       "      <td>1.553925</td>\n",
       "      <td>-0.819261</td>\n",
       "      <td>1.086127</td>\n",
       "      <td>-1.545129</td>\n",
       "      <td>-0.035251</td>\n",
       "      <td>1.895598</td>\n",
       "      <td>2.378903</td>\n",
       "      <td>-1.632835</td>\n",
       "      <td>1.375105</td>\n",
       "      <td>0.599096</td>\n",
       "    </tr>\n",
       "    <tr>\n",
       "      <th>thou</th>\n",
       "      <td>-1.590623</td>\n",
       "      <td>-0.801968</td>\n",
       "      <td>1.659041</td>\n",
       "      <td>1.314925</td>\n",
       "      <td>-0.455822</td>\n",
       "      <td>1.733872</td>\n",
       "      <td>-0.233771</td>\n",
       "      <td>-0.638922</td>\n",
       "      <td>0.104744</td>\n",
       "      <td>0.490223</td>\n",
       "      <td>...</td>\n",
       "      <td>0.652781</td>\n",
       "      <td>-0.362778</td>\n",
       "      <td>-0.190355</td>\n",
       "      <td>0.040719</td>\n",
       "      <td>-1.988184</td>\n",
       "      <td>2.330042</td>\n",
       "      <td>1.441790</td>\n",
       "      <td>-1.771272</td>\n",
       "      <td>-1.738142</td>\n",
       "      <td>-3.210077</td>\n",
       "    </tr>\n",
       "    <tr>\n",
       "      <th>thy</th>\n",
       "      <td>0.386488</td>\n",
       "      <td>-0.834605</td>\n",
       "      <td>0.585985</td>\n",
       "      <td>0.801969</td>\n",
       "      <td>-0.165132</td>\n",
       "      <td>0.999917</td>\n",
       "      <td>1.224088</td>\n",
       "      <td>-0.317555</td>\n",
       "      <td>-0.671106</td>\n",
       "      <td>-1.073181</td>\n",
       "      <td>...</td>\n",
       "      <td>1.267184</td>\n",
       "      <td>-0.564660</td>\n",
       "      <td>0.089618</td>\n",
       "      <td>-0.979835</td>\n",
       "      <td>-0.215604</td>\n",
       "      <td>2.189568</td>\n",
       "      <td>0.529003</td>\n",
       "      <td>-1.682130</td>\n",
       "      <td>-0.632460</td>\n",
       "      <td>0.578122</td>\n",
       "    </tr>\n",
       "  </tbody>\n",
       "</table>\n",
       "<p>5 rows × 100 columns</p>\n",
       "</div>"
      ],
      "text/plain": [
       "             0         1         2         3         4         5         6   \\\n",
       "shall -1.183386 -2.866214  1.046431  0.943265 -1.021784 -0.047069  2.108584   \n",
       "unto  -1.725262 -1.765972  1.411971  0.917713  0.793832  0.310631  1.541964   \n",
       "lord   1.694633 -0.650949 -0.095796  0.950002  0.813837  1.538206  1.125482   \n",
       "thou  -1.590623 -0.801968  1.659041  1.314925 -0.455822  1.733872 -0.233771   \n",
       "thy    0.386488 -0.834605  0.585985  0.801969 -0.165132  0.999917  1.224088   \n",
       "\n",
       "             7         8         9     ...           90        91        92  \\\n",
       "shall -0.458692 -1.698881  0.905800    ...     0.655786  0.703828  0.821803   \n",
       "unto  -0.082523 -1.346811  0.095824    ...     1.682762 -0.872293  1.908597   \n",
       "lord  -1.655581 -1.352673  0.409504    ...     1.553925 -0.819261  1.086127   \n",
       "thou  -0.638922  0.104744  0.490223    ...     0.652781 -0.362778 -0.190355   \n",
       "thy   -0.317555 -0.671106 -1.073181    ...     1.267184 -0.564660  0.089618   \n",
       "\n",
       "             93        94        95        96        97        98        99  \n",
       "shall -0.093732 -2.474536  2.309505  0.713962 -0.175176  0.262700  0.818652  \n",
       "unto   0.977152 -0.835005  1.128618  0.834068  1.852117 -2.522386 -0.053387  \n",
       "lord  -1.545129 -0.035251  1.895598  2.378903 -1.632835  1.375105  0.599096  \n",
       "thou   0.040719 -1.988184  2.330042  1.441790 -1.771272 -1.738142 -3.210077  \n",
       "thy   -0.979835 -0.215604  2.189568  0.529003 -1.682130 -0.632460  0.578122  \n",
       "\n",
       "[5 rows x 100 columns]"
      ]
     },
     "execution_count": 94,
     "metadata": {},
     "output_type": "execute_result"
    }
   ],
   "source": [
    "weights = cbow.get_weights()[0]\n",
    "weights = weights[1:]\n",
    "print(weights.shape)\n",
    "\n",
    "pd.DataFrame(weights, index=list(id2word.values())[1:]).head()"
   ]
  },
  {
   "cell_type": "markdown",
   "metadata": {},
   "source": [
    "We don’t take the embedding at position 0 since it belongs to the padding (PAD) term which is not really a word of interest.\n",
    "\n",
    "### Build a distance matrix to view the most similar words (contextually)"
   ]
  },
  {
   "cell_type": "code",
   "execution_count": 95,
   "metadata": {},
   "outputs": [
    {
     "name": "stdout",
     "output_type": "stream",
     "text": [
      "(12424, 12424)\n"
     ]
    },
    {
     "data": {
      "text/plain": [
       "{'egypt': ['destroy', 'none', 'whole', 'jacob', 'sea'],\n",
       " 'famine': ['wickedness', 'sore', 'countries', 'cease', 'portion'],\n",
       " 'god': ['therefore', 'heard', 'may', 'behold', 'heaven'],\n",
       " 'gospel': ['church', 'fowls', 'churches', 'preached', 'doctrine'],\n",
       " 'jesus': ['law', 'heard', 'world', 'many', 'dead'],\n",
       " 'john': ['dream', 'bones', 'held', 'present', 'alive'],\n",
       " 'moses': ['pharaoh', 'gate', 'jews', 'departed', 'lifted'],\n",
       " 'noah': ['abram', 'plagues', 'hananiah', 'korah', 'sarah']}"
      ]
     },
     "execution_count": 95,
     "metadata": {},
     "output_type": "execute_result"
    }
   ],
   "source": [
    "from sklearn.metrics.pairwise import euclidean_distances\n",
    "\n",
    "# compute pairwise distance matrix\n",
    "distance_matrix = euclidean_distances(weights)\n",
    "print(distance_matrix.shape)\n",
    "\n",
    "# view contextually similar words\n",
    "similar_words = {search_term: [id2word[idx] for idx in distance_matrix[word2id[search_term]-1].argsort()[1:6]+1] \n",
    "                   for search_term in ['god', 'jesus', 'noah', 'egypt', 'john', 'gospel', 'moses','famine']}\n",
    "\n",
    "similar_words"
   ]
  },
  {
   "cell_type": "markdown",
   "metadata": {},
   "source": [
    "## Implementing a word2vec model using a skip-gram neural network architecture"
   ]
  },
  {
   "cell_type": "markdown",
   "metadata": {},
   "source": [
    "### Build Vocabulary"
   ]
  },
  {
   "cell_type": "code",
   "execution_count": 11,
   "metadata": {},
   "outputs": [
    {
     "name": "stdout",
     "output_type": "stream",
     "text": [
      "Vocabulary Size: 12425\n",
      "Vocabulary Sample: [('perceived', 1460), ('flagon', 7287), ('gardener', 11641), ('named', 973), ('remain', 732), ('sticketh', 10622), ('abstinence', 11848), ('rufus', 8190), ('adversary', 2018), ('jehoiachin', 3189)]\n"
     ]
    }
   ],
   "source": [
    "from keras.preprocessing import text\n",
    "\n",
    "tokenizer = text.Tokenizer()\n",
    "tokenizer.fit_on_texts(norm_bible)\n",
    "\n",
    "word2id = tokenizer.word_index\n",
    "id2word = {v:k for k, v in word2id.items()}\n",
    "\n",
    "vocab_size = len(word2id) + 1 \n",
    "embed_size = 100\n",
    "\n",
    "wids = [[word2id[w] for w in text.text_to_word_sequence(doc)] for doc in norm_bible]\n",
    "print('Vocabulary Size:', vocab_size)\n",
    "print('Vocabulary Sample:', list(word2id.items())[:10])"
   ]
  },
  {
   "cell_type": "markdown",
   "metadata": {},
   "source": [
    "### Build and View sample skip grams ((word1, word2) -> relevancy)\n",
    "keras has a  skipgrams utility which can be used and we don’t have to manually implement this generator like we did in CBOW.This function transforms a sequence of word indexes (list of integers) into tuples of words of the form:\n",
    "\n",
    "* (word, word in the same window), with label 1 (positive samples).\n",
    "\n",
    "* (word, random word from the vocabulary), with label 0 (negative samples)."
   ]
  },
  {
   "cell_type": "code",
   "execution_count": 16,
   "metadata": {},
   "outputs": [
    {
     "name": "stdout",
     "output_type": "stream",
     "text": [
      "(james (1154), king (13)) -> 1\n",
      "(king (13), james (1154)) -> 1\n",
      "(james (1154), perform (1249)) -> 0\n",
      "(bible (5766), dismissed (6274)) -> 0\n",
      "(king (13), alter (5275)) -> 0\n",
      "(james (1154), bible (5766)) -> 1\n",
      "(king (13), bible (5766)) -> 1\n",
      "(bible (5766), king (13)) -> 1\n",
      "(king (13), compassion (1279)) -> 0\n",
      "(james (1154), foreskins (4844)) -> 0\n"
     ]
    }
   ],
   "source": [
    "from keras.preprocessing.sequence import skipgrams\n",
    "\n",
    "# generate skip-grams\n",
    "skip_grams = [skipgrams(wid, vocabulary_size=vocab_size, window_size=10) for wid in wids]\n",
    "\n",
    "# view sample skip-grams\n",
    "pairs, labels = skip_grams[0][0], skip_grams[0][1]\n",
    "for i in range(10):\n",
    "    print(\"({:s} ({:d}), {:s} ({:d})) -> {:d}\".format(\n",
    "          id2word[pairs[i][0]], pairs[i][0], \n",
    "          id2word[pairs[i][1]], pairs[i][1], \n",
    "          labels[i]))"
   ]
  },
  {
   "cell_type": "markdown",
   "metadata": {},
   "source": [
    "### Build Skip-gram Deep Network Model\n",
    "we use:\n",
    "* an embedding randomly generated for target and context word separately with size (vocab_size x embed_size)\n",
    "* we compute the dot product of the two embeddings\n",
    "* a sigmoid then outputs 0 or 1\n",
    "* we compare with the training value, computing the loss  with mean_squared_error loss"
   ]
  },
  {
   "cell_type": "code",
   "execution_count": 22,
   "metadata": {},
   "outputs": [
    {
     "name": "stdout",
     "output_type": "stream",
     "text": [
      "_________________________________________________________________\n",
      "Layer (type)                 Output Shape              Param #   \n",
      "=================================================================\n",
      "merge_3 (Merge)              (None, 1)                 0         \n",
      "_________________________________________________________________\n",
      "dense_5 (Dense)              (None, 1)                 2         \n",
      "=================================================================\n",
      "Total params: 2,485,002\n",
      "Trainable params: 2,485,002\n",
      "Non-trainable params: 0\n",
      "_________________________________________________________________\n",
      "None\n"
     ]
    },
    {
     "name": "stderr",
     "output_type": "stream",
     "text": [
      "C:\\Program Files\\Anaconda3\\lib\\site-packages\\ipykernel\\__main__.py:19: UserWarning: The `Merge` layer is deprecated and will be removed after 08/2017. Use instead layers from `keras.layers.merge`, e.g. `add`, `concatenate`, etc.\n"
     ]
    }
   ],
   "source": [
    "from keras.layers import Merge\n",
    "from keras.layers.core import Dense, Reshape\n",
    "from keras.layers.embeddings import Embedding\n",
    "from keras.models import Sequential\n",
    "\n",
    "word_model = Sequential()\n",
    "word_model.add(Embedding(vocab_size, embed_size,\n",
    "                         embeddings_initializer=\"glorot_uniform\",\n",
    "                         input_length=1))\n",
    "word_model.add(Reshape((embed_size, )))\n",
    "\n",
    "context_model = Sequential()\n",
    "context_model.add(Embedding(vocab_size, embed_size,\n",
    "                  embeddings_initializer=\"glorot_uniform\",\n",
    "                  input_length=1))\n",
    "context_model.add(Reshape((embed_size,)))\n",
    "\n",
    "model = Sequential()\n",
    "model.add(Merge([word_model, context_model], mode=\"dot\"))\n",
    "model.add(Dense(1, kernel_initializer=\"glorot_uniform\", activation=\"sigmoid\"))\n",
    "model.compile(loss=\"mean_squared_error\", optimizer=\"rmsprop\")\n",
    "print(model.summary())"
   ]
  },
  {
   "cell_type": "code",
   "execution_count": 23,
   "metadata": {},
   "outputs": [
    {
     "data": {
      "image/svg+xml": [
       "<svg height=\"387pt\" viewBox=\"0.00 0.00 494.00 387.00\" width=\"494pt\" xmlns=\"http://www.w3.org/2000/svg\" xmlns:xlink=\"http://www.w3.org/1999/xlink\">\n",
       "<g class=\"graph\" id=\"graph0\" transform=\"scale(1 1) rotate(0) translate(4 383)\">\n",
       "<title>G</title>\n",
       "<polygon fill=\"white\" points=\"-4,4 -4,-383 490,-383 490,4 -4,4\" stroke=\"none\"/>\n",
       "<!-- 2188435364272 -->\n",
       "<g class=\"node\" id=\"node1\"><title>2188435364272</title>\n",
       "<polygon fill=\"none\" points=\"15.5,-332.5 15.5,-378.5 218.5,-378.5 218.5,-332.5 15.5,-332.5\" stroke=\"black\"/>\n",
       "<text font-family=\"Times New Roman,serif\" font-size=\"14.00\" text-anchor=\"middle\" x=\"54\" y=\"-351.8\">InputLayer</text>\n",
       "<polyline fill=\"none\" points=\"92.5,-332.5 92.5,-378.5 \" stroke=\"black\"/>\n",
       "<text font-family=\"Times New Roman,serif\" font-size=\"14.00\" text-anchor=\"middle\" x=\"120.5\" y=\"-363.3\">input:</text>\n",
       "<polyline fill=\"none\" points=\"92.5,-355.5 148.5,-355.5 \" stroke=\"black\"/>\n",
       "<text font-family=\"Times New Roman,serif\" font-size=\"14.00\" text-anchor=\"middle\" x=\"120.5\" y=\"-340.3\">output:</text>\n",
       "<polyline fill=\"none\" points=\"148.5,-332.5 148.5,-378.5 \" stroke=\"black\"/>\n",
       "<text font-family=\"Times New Roman,serif\" font-size=\"14.00\" text-anchor=\"middle\" x=\"183.5\" y=\"-363.3\">(None, 1)</text>\n",
       "<polyline fill=\"none\" points=\"148.5,-355.5 218.5,-355.5 \" stroke=\"black\"/>\n",
       "<text font-family=\"Times New Roman,serif\" font-size=\"14.00\" text-anchor=\"middle\" x=\"183.5\" y=\"-340.3\">(None, 1)</text>\n",
       "</g>\n",
       "<!-- 2188435361632 -->\n",
       "<g class=\"node\" id=\"node3\"><title>2188435361632</title>\n",
       "<polygon fill=\"none\" points=\"0,-249.5 0,-295.5 234,-295.5 234,-249.5 0,-249.5\" stroke=\"black\"/>\n",
       "<text font-family=\"Times New Roman,serif\" font-size=\"14.00\" text-anchor=\"middle\" x=\"40\" y=\"-268.8\">Embedding</text>\n",
       "<polyline fill=\"none\" points=\"80,-249.5 80,-295.5 \" stroke=\"black\"/>\n",
       "<text font-family=\"Times New Roman,serif\" font-size=\"14.00\" text-anchor=\"middle\" x=\"108\" y=\"-280.3\">input:</text>\n",
       "<polyline fill=\"none\" points=\"80,-272.5 136,-272.5 \" stroke=\"black\"/>\n",
       "<text font-family=\"Times New Roman,serif\" font-size=\"14.00\" text-anchor=\"middle\" x=\"108\" y=\"-257.3\">output:</text>\n",
       "<polyline fill=\"none\" points=\"136,-249.5 136,-295.5 \" stroke=\"black\"/>\n",
       "<text font-family=\"Times New Roman,serif\" font-size=\"14.00\" text-anchor=\"middle\" x=\"185\" y=\"-280.3\">(None, 1)</text>\n",
       "<polyline fill=\"none\" points=\"136,-272.5 234,-272.5 \" stroke=\"black\"/>\n",
       "<text font-family=\"Times New Roman,serif\" font-size=\"14.00\" text-anchor=\"middle\" x=\"185\" y=\"-257.3\">(None, 1, 100)</text>\n",
       "</g>\n",
       "<!-- 2188435364272&#45;&gt;2188435361632 -->\n",
       "<g class=\"edge\" id=\"edge1\"><title>2188435364272-&gt;2188435361632</title>\n",
       "<path d=\"M117,-332.366C117,-324.152 117,-314.658 117,-305.725\" fill=\"none\" stroke=\"black\"/>\n",
       "<polygon fill=\"black\" points=\"120.5,-305.607 117,-295.607 113.5,-305.607 120.5,-305.607\" stroke=\"black\"/>\n",
       "</g>\n",
       "<!-- 2188435394912 -->\n",
       "<g class=\"node\" id=\"node2\"><title>2188435394912</title>\n",
       "<polygon fill=\"none\" points=\"267.5,-332.5 267.5,-378.5 470.5,-378.5 470.5,-332.5 267.5,-332.5\" stroke=\"black\"/>\n",
       "<text font-family=\"Times New Roman,serif\" font-size=\"14.00\" text-anchor=\"middle\" x=\"306\" y=\"-351.8\">InputLayer</text>\n",
       "<polyline fill=\"none\" points=\"344.5,-332.5 344.5,-378.5 \" stroke=\"black\"/>\n",
       "<text font-family=\"Times New Roman,serif\" font-size=\"14.00\" text-anchor=\"middle\" x=\"372.5\" y=\"-363.3\">input:</text>\n",
       "<polyline fill=\"none\" points=\"344.5,-355.5 400.5,-355.5 \" stroke=\"black\"/>\n",
       "<text font-family=\"Times New Roman,serif\" font-size=\"14.00\" text-anchor=\"middle\" x=\"372.5\" y=\"-340.3\">output:</text>\n",
       "<polyline fill=\"none\" points=\"400.5,-332.5 400.5,-378.5 \" stroke=\"black\"/>\n",
       "<text font-family=\"Times New Roman,serif\" font-size=\"14.00\" text-anchor=\"middle\" x=\"435.5\" y=\"-363.3\">(None, 1)</text>\n",
       "<polyline fill=\"none\" points=\"400.5,-355.5 470.5,-355.5 \" stroke=\"black\"/>\n",
       "<text font-family=\"Times New Roman,serif\" font-size=\"14.00\" text-anchor=\"middle\" x=\"435.5\" y=\"-340.3\">(None, 1)</text>\n",
       "</g>\n",
       "<!-- 2188435394856 -->\n",
       "<g class=\"node\" id=\"node4\"><title>2188435394856</title>\n",
       "<polygon fill=\"none\" points=\"252,-249.5 252,-295.5 486,-295.5 486,-249.5 252,-249.5\" stroke=\"black\"/>\n",
       "<text font-family=\"Times New Roman,serif\" font-size=\"14.00\" text-anchor=\"middle\" x=\"292\" y=\"-268.8\">Embedding</text>\n",
       "<polyline fill=\"none\" points=\"332,-249.5 332,-295.5 \" stroke=\"black\"/>\n",
       "<text font-family=\"Times New Roman,serif\" font-size=\"14.00\" text-anchor=\"middle\" x=\"360\" y=\"-280.3\">input:</text>\n",
       "<polyline fill=\"none\" points=\"332,-272.5 388,-272.5 \" stroke=\"black\"/>\n",
       "<text font-family=\"Times New Roman,serif\" font-size=\"14.00\" text-anchor=\"middle\" x=\"360\" y=\"-257.3\">output:</text>\n",
       "<polyline fill=\"none\" points=\"388,-249.5 388,-295.5 \" stroke=\"black\"/>\n",
       "<text font-family=\"Times New Roman,serif\" font-size=\"14.00\" text-anchor=\"middle\" x=\"437\" y=\"-280.3\">(None, 1)</text>\n",
       "<polyline fill=\"none\" points=\"388,-272.5 486,-272.5 \" stroke=\"black\"/>\n",
       "<text font-family=\"Times New Roman,serif\" font-size=\"14.00\" text-anchor=\"middle\" x=\"437\" y=\"-257.3\">(None, 1, 100)</text>\n",
       "</g>\n",
       "<!-- 2188435394912&#45;&gt;2188435394856 -->\n",
       "<g class=\"edge\" id=\"edge2\"><title>2188435394912-&gt;2188435394856</title>\n",
       "<path d=\"M369,-332.366C369,-324.152 369,-314.658 369,-305.725\" fill=\"none\" stroke=\"black\"/>\n",
       "<polygon fill=\"black\" points=\"372.5,-305.607 369,-295.607 365.5,-305.607 372.5,-305.607\" stroke=\"black\"/>\n",
       "</g>\n",
       "<!-- 2188434920000 -->\n",
       "<g class=\"node\" id=\"node5\"><title>2188434920000</title>\n",
       "<polygon fill=\"none\" points=\"14.5,-166.5 14.5,-212.5 233.5,-212.5 233.5,-166.5 14.5,-166.5\" stroke=\"black\"/>\n",
       "<text font-family=\"Times New Roman,serif\" font-size=\"14.00\" text-anchor=\"middle\" x=\"47\" y=\"-185.8\">Reshape</text>\n",
       "<polyline fill=\"none\" points=\"79.5,-166.5 79.5,-212.5 \" stroke=\"black\"/>\n",
       "<text font-family=\"Times New Roman,serif\" font-size=\"14.00\" text-anchor=\"middle\" x=\"107.5\" y=\"-197.3\">input:</text>\n",
       "<polyline fill=\"none\" points=\"79.5,-189.5 135.5,-189.5 \" stroke=\"black\"/>\n",
       "<text font-family=\"Times New Roman,serif\" font-size=\"14.00\" text-anchor=\"middle\" x=\"107.5\" y=\"-174.3\">output:</text>\n",
       "<polyline fill=\"none\" points=\"135.5,-166.5 135.5,-212.5 \" stroke=\"black\"/>\n",
       "<text font-family=\"Times New Roman,serif\" font-size=\"14.00\" text-anchor=\"middle\" x=\"184.5\" y=\"-197.3\">(None, 1, 100)</text>\n",
       "<polyline fill=\"none\" points=\"135.5,-189.5 233.5,-189.5 \" stroke=\"black\"/>\n",
       "<text font-family=\"Times New Roman,serif\" font-size=\"14.00\" text-anchor=\"middle\" x=\"184.5\" y=\"-174.3\">(None, 100)</text>\n",
       "</g>\n",
       "<!-- 2188435361632&#45;&gt;2188434920000 -->\n",
       "<g class=\"edge\" id=\"edge3\"><title>2188435361632-&gt;2188434920000</title>\n",
       "<path d=\"M118.913,-249.366C119.623,-241.152 120.443,-231.658 121.215,-222.725\" fill=\"none\" stroke=\"black\"/>\n",
       "<polygon fill=\"black\" points=\"124.715,-222.871 122.09,-212.607 117.741,-222.268 124.715,-222.871\" stroke=\"black\"/>\n",
       "</g>\n",
       "<!-- 2188435396816 -->\n",
       "<g class=\"node\" id=\"node6\"><title>2188435396816</title>\n",
       "<polygon fill=\"none\" points=\"255.5,-166.5 255.5,-212.5 474.5,-212.5 474.5,-166.5 255.5,-166.5\" stroke=\"black\"/>\n",
       "<text font-family=\"Times New Roman,serif\" font-size=\"14.00\" text-anchor=\"middle\" x=\"288\" y=\"-185.8\">Reshape</text>\n",
       "<polyline fill=\"none\" points=\"320.5,-166.5 320.5,-212.5 \" stroke=\"black\"/>\n",
       "<text font-family=\"Times New Roman,serif\" font-size=\"14.00\" text-anchor=\"middle\" x=\"348.5\" y=\"-197.3\">input:</text>\n",
       "<polyline fill=\"none\" points=\"320.5,-189.5 376.5,-189.5 \" stroke=\"black\"/>\n",
       "<text font-family=\"Times New Roman,serif\" font-size=\"14.00\" text-anchor=\"middle\" x=\"348.5\" y=\"-174.3\">output:</text>\n",
       "<polyline fill=\"none\" points=\"376.5,-166.5 376.5,-212.5 \" stroke=\"black\"/>\n",
       "<text font-family=\"Times New Roman,serif\" font-size=\"14.00\" text-anchor=\"middle\" x=\"425.5\" y=\"-197.3\">(None, 1, 100)</text>\n",
       "<polyline fill=\"none\" points=\"376.5,-189.5 474.5,-189.5 \" stroke=\"black\"/>\n",
       "<text font-family=\"Times New Roman,serif\" font-size=\"14.00\" text-anchor=\"middle\" x=\"425.5\" y=\"-174.3\">(None, 100)</text>\n",
       "</g>\n",
       "<!-- 2188435394856&#45;&gt;2188435396816 -->\n",
       "<g class=\"edge\" id=\"edge4\"><title>2188435394856-&gt;2188435396816</title>\n",
       "<path d=\"M367.907,-249.366C367.501,-241.152 367.032,-231.658 366.591,-222.725\" fill=\"none\" stroke=\"black\"/>\n",
       "<polygon fill=\"black\" points=\"370.081,-222.422 366.092,-212.607 363.089,-222.767 370.081,-222.422\" stroke=\"black\"/>\n",
       "</g>\n",
       "<!-- 2188435395248 -->\n",
       "<g class=\"node\" id=\"node7\"><title>2188435395248</title>\n",
       "<polygon fill=\"none\" points=\"106.5,-83.5 106.5,-129.5 381.5,-129.5 381.5,-83.5 106.5,-83.5\" stroke=\"black\"/>\n",
       "<text font-family=\"Times New Roman,serif\" font-size=\"14.00\" text-anchor=\"middle\" x=\"132.5\" y=\"-102.8\">Merge</text>\n",
       "<polyline fill=\"none\" points=\"158.5,-83.5 158.5,-129.5 \" stroke=\"black\"/>\n",
       "<text font-family=\"Times New Roman,serif\" font-size=\"14.00\" text-anchor=\"middle\" x=\"186.5\" y=\"-114.3\">input:</text>\n",
       "<polyline fill=\"none\" points=\"158.5,-106.5 214.5,-106.5 \" stroke=\"black\"/>\n",
       "<text font-family=\"Times New Roman,serif\" font-size=\"14.00\" text-anchor=\"middle\" x=\"186.5\" y=\"-91.3\">output:</text>\n",
       "<polyline fill=\"none\" points=\"214.5,-83.5 214.5,-129.5 \" stroke=\"black\"/>\n",
       "<text font-family=\"Times New Roman,serif\" font-size=\"14.00\" text-anchor=\"middle\" x=\"298\" y=\"-114.3\">[(None, 100), (None, 100)]</text>\n",
       "<polyline fill=\"none\" points=\"214.5,-106.5 381.5,-106.5 \" stroke=\"black\"/>\n",
       "<text font-family=\"Times New Roman,serif\" font-size=\"14.00\" text-anchor=\"middle\" x=\"298\" y=\"-91.3\">(None, 1)</text>\n",
       "</g>\n",
       "<!-- 2188434920000&#45;&gt;2188435395248 -->\n",
       "<g class=\"edge\" id=\"edge5\"><title>2188434920000-&gt;2188435395248</title>\n",
       "<path d=\"M156.791,-166.366C170.945,-156.812 187.662,-145.528 202.654,-135.409\" fill=\"none\" stroke=\"black\"/>\n",
       "<polygon fill=\"black\" points=\"204.919,-138.103 211.249,-129.607 201.002,-132.301 204.919,-138.103\" stroke=\"black\"/>\n",
       "</g>\n",
       "<!-- 2188435396816&#45;&gt;2188435395248 -->\n",
       "<g class=\"edge\" id=\"edge6\"><title>2188435396816-&gt;2188435395248</title>\n",
       "<path d=\"M331.936,-166.366C317.664,-156.812 300.807,-145.528 285.691,-135.409\" fill=\"none\" stroke=\"black\"/>\n",
       "<polygon fill=\"black\" points=\"287.281,-132.261 277.024,-129.607 283.387,-138.078 287.281,-132.261\" stroke=\"black\"/>\n",
       "</g>\n",
       "<!-- 2188435445688 -->\n",
       "<g class=\"node\" id=\"node8\"><title>2188435445688</title>\n",
       "<polygon fill=\"none\" points=\"155.5,-0.5 155.5,-46.5 332.5,-46.5 332.5,-0.5 155.5,-0.5\" stroke=\"black\"/>\n",
       "<text font-family=\"Times New Roman,serif\" font-size=\"14.00\" text-anchor=\"middle\" x=\"181\" y=\"-19.8\">Dense</text>\n",
       "<polyline fill=\"none\" points=\"206.5,-0.5 206.5,-46.5 \" stroke=\"black\"/>\n",
       "<text font-family=\"Times New Roman,serif\" font-size=\"14.00\" text-anchor=\"middle\" x=\"234.5\" y=\"-31.3\">input:</text>\n",
       "<polyline fill=\"none\" points=\"206.5,-23.5 262.5,-23.5 \" stroke=\"black\"/>\n",
       "<text font-family=\"Times New Roman,serif\" font-size=\"14.00\" text-anchor=\"middle\" x=\"234.5\" y=\"-8.3\">output:</text>\n",
       "<polyline fill=\"none\" points=\"262.5,-0.5 262.5,-46.5 \" stroke=\"black\"/>\n",
       "<text font-family=\"Times New Roman,serif\" font-size=\"14.00\" text-anchor=\"middle\" x=\"297.5\" y=\"-31.3\">(None, 1)</text>\n",
       "<polyline fill=\"none\" points=\"262.5,-23.5 332.5,-23.5 \" stroke=\"black\"/>\n",
       "<text font-family=\"Times New Roman,serif\" font-size=\"14.00\" text-anchor=\"middle\" x=\"297.5\" y=\"-8.3\">(None, 1)</text>\n",
       "</g>\n",
       "<!-- 2188435395248&#45;&gt;2188435445688 -->\n",
       "<g class=\"edge\" id=\"edge7\"><title>2188435395248-&gt;2188435445688</title>\n",
       "<path d=\"M244,-83.3664C244,-75.1516 244,-65.6579 244,-56.7252\" fill=\"none\" stroke=\"black\"/>\n",
       "<polygon fill=\"black\" points=\"247.5,-56.6068 244,-46.6068 240.5,-56.6069 247.5,-56.6068\" stroke=\"black\"/>\n",
       "</g>\n",
       "</g>\n",
       "</svg>"
      ],
      "text/plain": [
       "<IPython.core.display.SVG object>"
      ]
     },
     "execution_count": 23,
     "metadata": {},
     "output_type": "execute_result"
    }
   ],
   "source": [
    "from keras.utils import plot_model\n",
    "\n",
    "plot_model(model, show_shapes=True, show_layer_names=True)"
   ]
  },
  {
   "cell_type": "markdown",
   "metadata": {},
   "source": [
    "![skigram model](.\\skipgram.png \"Skipgram model\")"
   ]
  },
  {
   "cell_type": "markdown",
   "metadata": {},
   "source": [
    "### Train the model for 5 epochs"
   ]
  },
  {
   "cell_type": "code",
   "execution_count": 43,
   "metadata": {},
   "outputs": [
    {
     "name": "stdout",
     "output_type": "stream",
     "text": [
      "Processed 0 (skip_first, skip_second, relevance) pairs\n",
      "Processed 10000 (skip_first, skip_second, relevance) pairs\n",
      "Processed 20000 (skip_first, skip_second, relevance) pairs\n",
      "Epoch: 1 Loss: 4529.63803683\n",
      "Processed 0 (skip_first, skip_second, relevance) pairs\n",
      "Processed 10000 (skip_first, skip_second, relevance) pairs\n",
      "Processed 20000 (skip_first, skip_second, relevance) pairs\n",
      "Epoch: 2 Loss: 3750.71884749\n",
      "Processed 0 (skip_first, skip_second, relevance) pairs\n",
      "Processed 10000 (skip_first, skip_second, relevance) pairs\n",
      "Processed 20000 (skip_first, skip_second, relevance) pairs\n",
      "Epoch: 3 Loss: 3752.47489296\n",
      "Processed 0 (skip_first, skip_second, relevance) pairs\n",
      "Processed 10000 (skip_first, skip_second, relevance) pairs\n",
      "Processed 20000 (skip_first, skip_second, relevance) pairs\n",
      "Epoch: 4 Loss: 3793.9177565\n",
      "Processed 0 (skip_first, skip_second, relevance) pairs\n",
      "Processed 10000 (skip_first, skip_second, relevance) pairs\n",
      "Processed 20000 (skip_first, skip_second, relevance) pairs\n",
      "Epoch: 5 Loss: 3716.07605051\n"
     ]
    }
   ],
   "source": [
    "for epoch in range(1, 6):\n",
    "    loss = 0\n",
    "    for i, elem in enumerate(skip_grams):\n",
    "        pair_first_elem = np.array(list(zip(*elem[0]))[0], dtype='int32')\n",
    "        pair_second_elem = np.array(list(zip(*elem[0]))[1], dtype='int32')\n",
    "        labels = np.array(elem[1], dtype='int32')\n",
    "        X = [pair_first_elem, pair_second_elem]\n",
    "        Y = labels\n",
    "        if i % 10000 == 0:\n",
    "            print('Processed {} (skip_first, skip_second, relevance) pairs'.format(i))\n",
    "        loss += model.train_on_batch(X,Y)  \n",
    "\n",
    "    print('Epoch:', epoch, 'Loss:', loss)"
   ]
  },
  {
   "cell_type": "markdown",
   "metadata": {},
   "source": [
    "### Get word embeddings\n",
    "To get word embeddings for our entire vocabulary, we can extract out the same from our embedding layer.\n",
    "Do note that we are only interested in the target word embedding layer, hence we will extract the embeddings from our word_model embedding layer. "
   ]
  },
  {
   "cell_type": "code",
   "execution_count": 98,
   "metadata": {},
   "outputs": [
    {
     "name": "stdout",
     "output_type": "stream",
     "text": [
      "(12424, 100)\n"
     ]
    },
    {
     "data": {
      "text/html": [
       "<div>\n",
       "<style>\n",
       "    .dataframe thead tr:only-child th {\n",
       "        text-align: right;\n",
       "    }\n",
       "\n",
       "    .dataframe thead th {\n",
       "        text-align: left;\n",
       "    }\n",
       "\n",
       "    .dataframe tbody tr th {\n",
       "        vertical-align: top;\n",
       "    }\n",
       "</style>\n",
       "<table border=\"1\" class=\"dataframe\">\n",
       "  <thead>\n",
       "    <tr style=\"text-align: right;\">\n",
       "      <th></th>\n",
       "      <th>0</th>\n",
       "      <th>1</th>\n",
       "      <th>2</th>\n",
       "      <th>3</th>\n",
       "      <th>4</th>\n",
       "      <th>5</th>\n",
       "      <th>6</th>\n",
       "      <th>7</th>\n",
       "      <th>8</th>\n",
       "      <th>9</th>\n",
       "      <th>...</th>\n",
       "      <th>90</th>\n",
       "      <th>91</th>\n",
       "      <th>92</th>\n",
       "      <th>93</th>\n",
       "      <th>94</th>\n",
       "      <th>95</th>\n",
       "      <th>96</th>\n",
       "      <th>97</th>\n",
       "      <th>98</th>\n",
       "      <th>99</th>\n",
       "    </tr>\n",
       "  </thead>\n",
       "  <tbody>\n",
       "    <tr>\n",
       "      <th>shall</th>\n",
       "      <td>-0.002272</td>\n",
       "      <td>0.015870</td>\n",
       "      <td>0.018349</td>\n",
       "      <td>0.022802</td>\n",
       "      <td>0.028364</td>\n",
       "      <td>-0.040064</td>\n",
       "      <td>-0.013263</td>\n",
       "      <td>0.136607</td>\n",
       "      <td>0.019667</td>\n",
       "      <td>0.033407</td>\n",
       "      <td>...</td>\n",
       "      <td>0.037663</td>\n",
       "      <td>-0.087140</td>\n",
       "      <td>0.073169</td>\n",
       "      <td>-0.028257</td>\n",
       "      <td>0.085751</td>\n",
       "      <td>0.299031</td>\n",
       "      <td>0.123512</td>\n",
       "      <td>0.082310</td>\n",
       "      <td>0.243142</td>\n",
       "      <td>0.076125</td>\n",
       "    </tr>\n",
       "    <tr>\n",
       "      <th>unto</th>\n",
       "      <td>0.034425</td>\n",
       "      <td>-0.102070</td>\n",
       "      <td>0.018051</td>\n",
       "      <td>0.017960</td>\n",
       "      <td>0.172954</td>\n",
       "      <td>-0.115672</td>\n",
       "      <td>-0.012632</td>\n",
       "      <td>0.096919</td>\n",
       "      <td>-0.049203</td>\n",
       "      <td>-0.040344</td>\n",
       "      <td>...</td>\n",
       "      <td>0.106373</td>\n",
       "      <td>-0.075703</td>\n",
       "      <td>0.013888</td>\n",
       "      <td>-0.134224</td>\n",
       "      <td>0.132703</td>\n",
       "      <td>0.369338</td>\n",
       "      <td>0.149259</td>\n",
       "      <td>-0.031616</td>\n",
       "      <td>-0.069929</td>\n",
       "      <td>-0.136505</td>\n",
       "    </tr>\n",
       "    <tr>\n",
       "      <th>lord</th>\n",
       "      <td>0.051990</td>\n",
       "      <td>-0.113865</td>\n",
       "      <td>0.007226</td>\n",
       "      <td>0.031754</td>\n",
       "      <td>0.052963</td>\n",
       "      <td>-0.094523</td>\n",
       "      <td>-0.067664</td>\n",
       "      <td>0.001706</td>\n",
       "      <td>-0.112827</td>\n",
       "      <td>-0.078586</td>\n",
       "      <td>...</td>\n",
       "      <td>-0.041636</td>\n",
       "      <td>0.053685</td>\n",
       "      <td>0.041299</td>\n",
       "      <td>-0.026255</td>\n",
       "      <td>0.087085</td>\n",
       "      <td>0.253801</td>\n",
       "      <td>0.003064</td>\n",
       "      <td>0.128984</td>\n",
       "      <td>0.157639</td>\n",
       "      <td>-0.174654</td>\n",
       "    </tr>\n",
       "    <tr>\n",
       "      <th>thou</th>\n",
       "      <td>-0.152183</td>\n",
       "      <td>-0.073681</td>\n",
       "      <td>-0.091472</td>\n",
       "      <td>0.022033</td>\n",
       "      <td>0.008415</td>\n",
       "      <td>-0.048438</td>\n",
       "      <td>-0.041181</td>\n",
       "      <td>0.082019</td>\n",
       "      <td>0.004648</td>\n",
       "      <td>0.044870</td>\n",
       "      <td>...</td>\n",
       "      <td>0.101531</td>\n",
       "      <td>-0.018404</td>\n",
       "      <td>-0.070462</td>\n",
       "      <td>-0.041363</td>\n",
       "      <td>0.422717</td>\n",
       "      <td>0.320975</td>\n",
       "      <td>0.026026</td>\n",
       "      <td>0.179628</td>\n",
       "      <td>-0.026965</td>\n",
       "      <td>-0.151183</td>\n",
       "    </tr>\n",
       "    <tr>\n",
       "      <th>thy</th>\n",
       "      <td>-0.257579</td>\n",
       "      <td>-0.023008</td>\n",
       "      <td>0.053303</td>\n",
       "      <td>0.013690</td>\n",
       "      <td>-0.083293</td>\n",
       "      <td>0.034279</td>\n",
       "      <td>0.078811</td>\n",
       "      <td>0.079851</td>\n",
       "      <td>-0.015215</td>\n",
       "      <td>-0.111211</td>\n",
       "      <td>...</td>\n",
       "      <td>-0.064527</td>\n",
       "      <td>0.112085</td>\n",
       "      <td>0.061625</td>\n",
       "      <td>0.026398</td>\n",
       "      <td>0.164085</td>\n",
       "      <td>0.228056</td>\n",
       "      <td>0.031343</td>\n",
       "      <td>-0.009061</td>\n",
       "      <td>0.043006</td>\n",
       "      <td>-0.120782</td>\n",
       "    </tr>\n",
       "  </tbody>\n",
       "</table>\n",
       "<p>5 rows × 100 columns</p>\n",
       "</div>"
      ],
      "text/plain": [
       "             0         1         2         3         4         5         6   \\\n",
       "shall -0.002272  0.015870  0.018349  0.022802  0.028364 -0.040064 -0.013263   \n",
       "unto   0.034425 -0.102070  0.018051  0.017960  0.172954 -0.115672 -0.012632   \n",
       "lord   0.051990 -0.113865  0.007226  0.031754  0.052963 -0.094523 -0.067664   \n",
       "thou  -0.152183 -0.073681 -0.091472  0.022033  0.008415 -0.048438 -0.041181   \n",
       "thy   -0.257579 -0.023008  0.053303  0.013690 -0.083293  0.034279  0.078811   \n",
       "\n",
       "             7         8         9     ...           90        91        92  \\\n",
       "shall  0.136607  0.019667  0.033407    ...     0.037663 -0.087140  0.073169   \n",
       "unto   0.096919 -0.049203 -0.040344    ...     0.106373 -0.075703  0.013888   \n",
       "lord   0.001706 -0.112827 -0.078586    ...    -0.041636  0.053685  0.041299   \n",
       "thou   0.082019  0.004648  0.044870    ...     0.101531 -0.018404 -0.070462   \n",
       "thy    0.079851 -0.015215 -0.111211    ...    -0.064527  0.112085  0.061625   \n",
       "\n",
       "             93        94        95        96        97        98        99  \n",
       "shall -0.028257  0.085751  0.299031  0.123512  0.082310  0.243142  0.076125  \n",
       "unto  -0.134224  0.132703  0.369338  0.149259 -0.031616 -0.069929 -0.136505  \n",
       "lord  -0.026255  0.087085  0.253801  0.003064  0.128984  0.157639 -0.174654  \n",
       "thou  -0.041363  0.422717  0.320975  0.026026  0.179628 -0.026965 -0.151183  \n",
       "thy    0.026398  0.164085  0.228056  0.031343 -0.009061  0.043006 -0.120782  \n",
       "\n",
       "[5 rows x 100 columns]"
      ]
     },
     "execution_count": 98,
     "metadata": {},
     "output_type": "execute_result"
    }
   ],
   "source": [
    "merge_layer = model.layers[0]\n",
    "word_model = merge_layer.layers[0]\n",
    "word_embed_layer = word_model.layers[0]\n",
    "weights = word_embed_layer.get_weights()[0][1:]\n",
    "\n",
    "print(weights.shape)\n",
    "pd.DataFrame(weights, index=id2word.values()).head()"
   ]
  },
  {
   "cell_type": "markdown",
   "metadata": {},
   "source": [
    "### Build a distance matrix to view the most similar words (contextually)"
   ]
  },
  {
   "cell_type": "code",
   "execution_count": 99,
   "metadata": {},
   "outputs": [
    {
     "name": "stdout",
     "output_type": "stream",
     "text": [
      "(12424, 12424)\n"
     ]
    },
    {
     "data": {
      "text/plain": [
       "{'egypt': ['pharaoh', 'mighty', 'houses', 'kept', 'possess'],\n",
       " 'famine': ['rivers', 'foot', 'pestilence', 'wash', 'sabbaths'],\n",
       " 'god': ['evil', 'iniquity', 'none', 'mighty', 'mercy'],\n",
       " 'gospel': ['grace', 'shame', 'believed', 'verily', 'everlasting'],\n",
       " 'jesus': ['christ', 'faith', 'disciples', 'dead', 'say'],\n",
       " 'john': ['ghost', 'knew', 'peter', 'alone', 'master'],\n",
       " 'moses': ['commanded', 'offerings', 'kept', 'presence', 'lamb'],\n",
       " 'noah': ['flood', 'shem', 'peleg', 'abram', 'chose']}"
      ]
     },
     "execution_count": 99,
     "metadata": {},
     "output_type": "execute_result"
    }
   ],
   "source": [
    "from sklearn.metrics.pairwise import euclidean_distances\n",
    "\n",
    "distance_matrix = euclidean_distances(weights)\n",
    "print(distance_matrix.shape)\n",
    "\n",
    "similar_words = {search_term: [id2word[idx] for idx in distance_matrix[word2id[search_term]-1].argsort()[1:6]+1] \n",
    "                   for search_term in ['god', 'jesus', 'noah', 'egypt', 'john', 'gospel', 'moses','famine']}\n",
    "\n",
    "similar_words"
   ]
  },
  {
   "cell_type": "markdown",
   "metadata": {},
   "source": [
    "### Visualize word embeddings\n",
    "\n",
    "Let’s visualize these words embeddings now using t-SNE which stands for t-distributed stochastic neighbor embedding a popular dimensionality reduction technique to visualize higher dimension spaces in lower dimensions (e.g. 2-D)."
   ]
  },
  {
   "cell_type": "code",
   "execution_count": 124,
   "metadata": {},
   "outputs": [
    {
     "name": "stdout",
     "output_type": "stream",
     "text": [
      "Total words: 48 \tWord Embedding shapes: (48, 100)\n"
     ]
    },
    {
     "data": {
      "image/png": "[encoded data removed]",
      "text/plain": [
       "<matplotlib.figure.Figure at 0x7f921460f748>"
      ]
     },
     "metadata": {},
     "output_type": "display_data"
    }
   ],
   "source": [
    "from sklearn.manifold import TSNE\n",
    "\n",
    "words = sum([[k] + v for k, v in similar_words.items()], [])\n",
    "words_ids = [word2id[w] for w in words]\n",
    "word_vectors = np.array([weights[idx] for idx in words_ids])\n",
    "print('Total words:', len(words), '\\tWord Embedding shapes:', word_vectors.shape)\n",
    "\n",
    "tsne = TSNE(n_components=2, random_state=0, n_iter=10000, perplexity=3)\n",
    "np.set_printoptions(suppress=True)\n",
    "T = tsne.fit_transform(word_vectors)\n",
    "labels = words\n",
    "\n",
    "plt.figure(figsize=(14, 8))\n",
    "plt.scatter(T[:, 0], T[:, 1], c='steelblue', edgecolors='k')\n",
    "for label, x, y in zip(labels, T[:, 0], T[:, 1]):\n",
    "    plt.annotate(label, xy=(x+1, y+1), xytext=(0, 0), textcoords='offset points')"
   ]
  },
  {
   "cell_type": "markdown",
   "metadata": {},
   "source": [
    "## Leveraging gensim for building a word2vec model\n",
    " word2vec.Word2Vec from gensim does the work for you:\n",
    "* size: The word embedding dimensionality\n",
    "* window: The context window size\n",
    "* min_count: The minimum word count\n",
    "* sample: The downsample setting for frequent words"
   ]
  },
  {
   "cell_type": "code",
   "execution_count": null,
   "metadata": {},
   "outputs": [],
   "source": [
    "!pip install gensim"
   ]
  },
  {
   "cell_type": "code",
   "execution_count": 1065,
   "metadata": {},
   "outputs": [
    {
     "data": {
      "text/plain": [
       "{'egypt': ['pharaoh', 'egyptians', 'bondage', 'rod', 'flowing'],\n",
       " 'famine': ['pestilence', 'peril', 'blasting', 'mildew', 'morever'],\n",
       " 'god': ['lord', 'promised', 'worldly', 'glory', 'reasonable'],\n",
       " 'gospel': ['faith', 'afflictions', 'christ', 'persecutions', 'godly'],\n",
       " 'jesus': ['peter', 'messias', 'apostles', 'immediately', 'neverthless'],\n",
       " 'john': ['baptist', 'james', 'peter', 'galilee', 'zebedee'],\n",
       " 'moses': ['congregation', 'children', 'aaron', 'ordinance', 'doctor'],\n",
       " 'noah': ['shem', 'japheth', 'ham', 'noe', 'henoch']}"
      ]
     },
     "execution_count": 1065,
     "metadata": {},
     "output_type": "execute_result"
    }
   ],
   "source": [
    "from gensim.models import word2vec\n",
    "\n",
    "# tokenize sentences in corpus\n",
    "wpt = nltk.WordPunctTokenizer()\n",
    "tokenized_corpus = [wpt.tokenize(document) for document in norm_bible]\n",
    "\n",
    "# Set values for various parameters\n",
    "feature_size = 100    # Word vector dimensionality  \n",
    "window_context = 30          # Context window size                                                                                    \n",
    "min_word_count = 1   # Minimum word count                        \n",
    "sample = 1e-3   # Downsample setting for frequent words\n",
    "\n",
    "w2v_model = word2vec.Word2Vec(tokenized_corpus, size=feature_size, \n",
    "                          window=window_context, min_count=min_word_count,\n",
    "                          sample=sample, iter=50)\n",
    "\n",
    "# view similar words based on gensim's model\n",
    "similar_words = {search_term: [item[0] for item in w2v_model.wv.most_similar([search_term], topn=5)]\n",
    "                  for search_term in ['god', 'jesus', 'noah', 'egypt', 'john', 'gospel', 'moses','famine']}\n",
    "similar_words"
   ]
  },
  {
   "cell_type": "markdown",
   "metadata": {},
   "source": [
    "## Visualizing word embeddings"
   ]
  },
  {
   "cell_type": "code",
   "execution_count": 1080,
   "metadata": {},
   "outputs": [
    {
     "data": {
      "image/png": "[encoded data removed]",
      "text/plain": [
       "<matplotlib.figure.Figure at 0x14d6c851b38>"
      ]
     },
     "metadata": {},
     "output_type": "display_data"
    }
   ],
   "source": [
    "from sklearn.manifold import TSNE\n",
    "\n",
    "words = sum([[k] + v for k, v in similar_words.items()], [])\n",
    "wvs = w2v_model.wv[words]\n",
    "\n",
    "tsne = TSNE(n_components=2, random_state=0, n_iter=10000, perplexity=2)\n",
    "np.set_printoptions(suppress=True)\n",
    "T = tsne.fit_transform(wvs)\n",
    "labels = words\n",
    "\n",
    "plt.figure(figsize=(14, 8))\n",
    "plt.scatter(T[:, 0], T[:, 1], c='orange', edgecolors='r')\n",
    "for label, x, y in zip(labels, T[:, 0], T[:, 1]):\n",
    "    plt.annotate(label, xy=(x+1, y+1), xytext=(0, 0), textcoords='offset points')"
   ]
  }
 ],
 "metadata": {
  "anaconda-cloud": {},
  "kernelspec": {
   "display_name": "Python 3 (ipykernel)",
   "language": "python",
   "name": "python3"
  },
  "language_info": {
   "codemirror_mode": {
    "name": "ipython",
    "version": 3
   },
   "file_extension": ".py",
   "mimetype": "text/x-python",
   "name": "python",
   "nbconvert_exporter": "python",
   "pygments_lexer": "ipython3",
   "version": "3.10.9"
  }
 },
 "nbformat": 4,
 "nbformat_minor": 1
}

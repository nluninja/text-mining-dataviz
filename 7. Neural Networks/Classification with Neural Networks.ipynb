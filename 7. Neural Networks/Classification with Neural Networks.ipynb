{
 "cells": [
  {
   "cell_type": "markdown",
   "id": "ad9e7648",
   "metadata": {},
   "source": [
    "# Simple Classifier with Keras and Pytorch\n",
    "The lesson focuses on implementing a simple feed-forward network for classification, using two different deeplearning frameworks:\n",
    "* **Keras**,  an open-source software library that provides a Python interface for artificial neural networks. Keras acts as an interface for the __TensorFlow__ library. Up until version 2.3, Keras supported multiple backends, including TensorFlow, Microsoft Cognitive Toolkit, Theano, and PlaidML. Starting version 2.4 it supports only Tensorflow.\n",
    "* **Pytorch**, a is a machine learning framework based on the Torch library, used for applications such as computer vision and natural language processing, originally developed by Meta AI and now part of the Linux Foundation umbrella. \n",
    "\n",
    "## environment setup\n",
    "\n",
    "As Pytorch and Keras are evolving rapidly, deprecating libraries moving from a version to another, we're going to create a dedicate environment for the following notebooks.\n",
    "\n",
    "The libraries needed by the lesson are listed in the file `environment.yml`, so we can create the environment using the following commands.\n",
    "\n",
    "`conda env create -f environment.yml`"
   ]
  },
  {
   "cell_type": "markdown",
   "id": "8b6a173d",
   "metadata": {},
   "source": [
    "then"
   ]
  },
  {
   "cell_type": "markdown",
   "id": "476eb2c0",
   "metadata": {},
   "source": [
    "`conda activate lesson9`"
   ]
  },
  {
   "cell_type": "code",
   "execution_count": null,
   "id": "c7862080",
   "metadata": {},
   "outputs": [],
   "source": []
  }
 ],
 "metadata": {
  "kernelspec": {
   "display_name": "Python 3",
   "language": "python",
   "name": "python3"
  },
  "language_info": {
   "codemirror_mode": {
    "name": "ipython",
    "version": 3
   },
   "file_extension": ".py",
   "mimetype": "text/x-python",
   "name": "python",
   "nbconvert_exporter": "python",
   "pygments_lexer": "ipython3",
   "version": "3.8.8"
  }
 },
 "nbformat": 4,
 "nbformat_minor": 5
}

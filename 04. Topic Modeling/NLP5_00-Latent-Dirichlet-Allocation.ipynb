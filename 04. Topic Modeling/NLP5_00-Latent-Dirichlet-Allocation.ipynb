{
 "cells": [
  {
   "cell_type": "markdown",
   "metadata": {},
   "source": [
    "___\n",
    "\n",
    "#5 TOPIC MODELLING\n",
    "___"
   ]
  },
  {
   "cell_type": "markdown",
   "metadata": {},
   "source": [
    "# Latent Dirichlet Allocation"
   ]
  },
  {
   "cell_type": "markdown",
   "metadata": {},
   "source": [
    "## Data\n",
    "\n",
    "We will be using articles from NPR (National Public Radio), obtained from their website [www.npr.org](http://www.npr.org)"
   ]
  },
  {
   "cell_type": "code",
   "execution_count": 7,
   "metadata": {},
   "outputs": [],
   "source": [
    "import pandas as pd"
   ]
  },
  {
   "cell_type": "code",
   "execution_count": null,
   "metadata": {},
   "outputs": [],
   "source": [
    "url = 'https://raw.githubusercontent.com/nluninja/text-mining-dataviz/refs/heads/main/4.%20Topic%20Modeling/npr.csv'"
   ]
  },
  {
   "cell_type": "code",
   "execution_count": 8,
   "metadata": {},
   "outputs": [],
   "source": [
    "npr = pd.read_csv(url)"
   ]
  },
  {
   "cell_type": "code",
   "execution_count": 9,
   "metadata": {},
   "outputs": [
    {
     "data": {
      "text/html": [
       "<div>\n",
       "<style scoped>\n",
       "    .dataframe tbody tr th:only-of-type {\n",
       "        vertical-align: middle;\n",
       "    }\n",
       "\n",
       "    .dataframe tbody tr th {\n",
       "        vertical-align: top;\n",
       "    }\n",
       "\n",
       "    .dataframe thead th {\n",
       "        text-align: right;\n",
       "    }\n",
       "</style>\n",
       "<table border=\"1\" class=\"dataframe\">\n",
       "  <thead>\n",
       "    <tr style=\"text-align: right;\">\n",
       "      <th></th>\n",
       "      <th>Article</th>\n",
       "    </tr>\n",
       "  </thead>\n",
       "  <tbody>\n",
       "    <tr>\n",
       "      <th>0</th>\n",
       "      <td>In the Washington of 2016, even when the polic...</td>\n",
       "    </tr>\n",
       "    <tr>\n",
       "      <th>1</th>\n",
       "      <td>Donald Trump has used Twitter  —   his prefe...</td>\n",
       "    </tr>\n",
       "    <tr>\n",
       "      <th>2</th>\n",
       "      <td>Donald Trump is unabashedly praising Russian...</td>\n",
       "    </tr>\n",
       "    <tr>\n",
       "      <th>3</th>\n",
       "      <td>Updated at 2:50 p. m. ET, Russian President Vl...</td>\n",
       "    </tr>\n",
       "    <tr>\n",
       "      <th>4</th>\n",
       "      <td>From photography, illustration and video, to d...</td>\n",
       "    </tr>\n",
       "  </tbody>\n",
       "</table>\n",
       "</div>"
      ],
      "text/plain": [
       "                                             Article\n",
       "0  In the Washington of 2016, even when the polic...\n",
       "1    Donald Trump has used Twitter  —   his prefe...\n",
       "2    Donald Trump is unabashedly praising Russian...\n",
       "3  Updated at 2:50 p. m. ET, Russian President Vl...\n",
       "4  From photography, illustration and video, to d..."
      ]
     },
     "execution_count": 9,
     "metadata": {},
     "output_type": "execute_result"
    }
   ],
   "source": [
    "npr.head()"
   ]
  },
  {
   "cell_type": "markdown",
   "metadata": {},
   "source": [
    "Notice how we don't have the topic of the articles! Let's use LDA to attempt to figure out clusters of the articles."
   ]
  },
  {
   "cell_type": "code",
   "execution_count": 10,
   "metadata": {},
   "outputs": [
    {
     "data": {
      "text/plain": [
       "(11992, 1)"
      ]
     },
     "execution_count": 10,
     "metadata": {},
     "output_type": "execute_result"
    }
   ],
   "source": [
    "npr.shape"
   ]
  },
  {
   "cell_type": "markdown",
   "metadata": {},
   "source": [
    "## Preprocessing"
   ]
  },
  {
   "cell_type": "code",
   "execution_count": 11,
   "metadata": {},
   "outputs": [],
   "source": [
    "from sklearn.feature_extraction.text import CountVectorizer"
   ]
  },
  {
   "cell_type": "markdown",
   "metadata": {},
   "source": [
    "**`max_df`**` : float in range [0.0, 1.0] or int, default=1.0`<br>\n",
    "When building the vocabulary ignore terms that have a document frequency strictly higher than the given threshold (corpus-specific stop words). If float, the parameter represents a proportion of documents, integer absolute counts. This parameter is ignored if vocabulary is not None.\n",
    "\n",
    "**`min_df`**` : float in range [0.0, 1.0] or int, default=1`<br>\n",
    "When building the vocabulary ignore terms that have a document frequency strictly lower than the given threshold. This value is also called cut-off in the literature. If float, the parameter represents a proportion of documents, integer absolute counts. This parameter is ignored if vocabulary is not None."
   ]
  },
  {
   "cell_type": "code",
   "execution_count": 12,
   "metadata": {},
   "outputs": [],
   "source": [
    "cv = CountVectorizer(max_df=0.95, min_df=0.2, stop_words='english')"
   ]
  },
  {
   "cell_type": "code",
   "execution_count": 13,
   "metadata": {},
   "outputs": [],
   "source": [
    "dtm = cv.fit_transform(npr['Article'])"
   ]
  },
  {
   "cell_type": "code",
   "execution_count": 14,
   "metadata": {},
   "outputs": [
    {
     "data": {
      "text/plain": [
       "<11992x96 sparse matrix of type '<class 'numpy.int64'>'\n",
       "\twith 349867 stored elements in Compressed Sparse Row format>"
      ]
     },
     "execution_count": 14,
     "metadata": {},
     "output_type": "execute_result"
    }
   ],
   "source": [
    "dtm"
   ]
  },
  {
   "cell_type": "markdown",
   "metadata": {},
   "source": [
    "## LDA"
   ]
  },
  {
   "cell_type": "code",
   "execution_count": 15,
   "metadata": {},
   "outputs": [],
   "source": [
    "from sklearn.decomposition import LatentDirichletAllocation"
   ]
  },
  {
   "cell_type": "code",
   "execution_count": 16,
   "metadata": {},
   "outputs": [],
   "source": [
    "LDA = LatentDirichletAllocation(n_components=7,random_state=42)"
   ]
  },
  {
   "cell_type": "code",
   "execution_count": 17,
   "metadata": {},
   "outputs": [
    {
     "data": {
      "text/html": [
       "<style>#sk-container-id-1 {color: black;background-color: white;}#sk-container-id-1 pre{padding: 0;}#sk-container-id-1 div.sk-toggleable {background-color: white;}#sk-container-id-1 label.sk-toggleable__label {cursor: pointer;display: block;width: 100%;margin-bottom: 0;padding: 0.3em;box-sizing: border-box;text-align: center;}#sk-container-id-1 label.sk-toggleable__label-arrow:before {content: \"▸\";float: left;margin-right: 0.25em;color: #696969;}#sk-container-id-1 label.sk-toggleable__label-arrow:hover:before {color: black;}#sk-container-id-1 div.sk-estimator:hover label.sk-toggleable__label-arrow:before {color: black;}#sk-container-id-1 div.sk-toggleable__content {max-height: 0;max-width: 0;overflow: hidden;text-align: left;background-color: #f0f8ff;}#sk-container-id-1 div.sk-toggleable__content pre {margin: 0.2em;color: black;border-radius: 0.25em;background-color: #f0f8ff;}#sk-container-id-1 input.sk-toggleable__control:checked~div.sk-toggleable__content {max-height: 200px;max-width: 100%;overflow: auto;}#sk-container-id-1 input.sk-toggleable__control:checked~label.sk-toggleable__label-arrow:before {content: \"▾\";}#sk-container-id-1 div.sk-estimator input.sk-toggleable__control:checked~label.sk-toggleable__label {background-color: #d4ebff;}#sk-container-id-1 div.sk-label input.sk-toggleable__control:checked~label.sk-toggleable__label {background-color: #d4ebff;}#sk-container-id-1 input.sk-hidden--visually {border: 0;clip: rect(1px 1px 1px 1px);clip: rect(1px, 1px, 1px, 1px);height: 1px;margin: -1px;overflow: hidden;padding: 0;position: absolute;width: 1px;}#sk-container-id-1 div.sk-estimator {font-family: monospace;background-color: #f0f8ff;border: 1px dotted black;border-radius: 0.25em;box-sizing: border-box;margin-bottom: 0.5em;}#sk-container-id-1 div.sk-estimator:hover {background-color: #d4ebff;}#sk-container-id-1 div.sk-parallel-item::after {content: \"\";width: 100%;border-bottom: 1px solid gray;flex-grow: 1;}#sk-container-id-1 div.sk-label:hover label.sk-toggleable__label {background-color: #d4ebff;}#sk-container-id-1 div.sk-serial::before {content: \"\";position: absolute;border-left: 1px solid gray;box-sizing: border-box;top: 0;bottom: 0;left: 50%;z-index: 0;}#sk-container-id-1 div.sk-serial {display: flex;flex-direction: column;align-items: center;background-color: white;padding-right: 0.2em;padding-left: 0.2em;position: relative;}#sk-container-id-1 div.sk-item {position: relative;z-index: 1;}#sk-container-id-1 div.sk-parallel {display: flex;align-items: stretch;justify-content: center;background-color: white;position: relative;}#sk-container-id-1 div.sk-item::before, #sk-container-id-1 div.sk-parallel-item::before {content: \"\";position: absolute;border-left: 1px solid gray;box-sizing: border-box;top: 0;bottom: 0;left: 50%;z-index: -1;}#sk-container-id-1 div.sk-parallel-item {display: flex;flex-direction: column;z-index: 1;position: relative;background-color: white;}#sk-container-id-1 div.sk-parallel-item:first-child::after {align-self: flex-end;width: 50%;}#sk-container-id-1 div.sk-parallel-item:last-child::after {align-self: flex-start;width: 50%;}#sk-container-id-1 div.sk-parallel-item:only-child::after {width: 0;}#sk-container-id-1 div.sk-dashed-wrapped {border: 1px dashed gray;margin: 0 0.4em 0.5em 0.4em;box-sizing: border-box;padding-bottom: 0.4em;background-color: white;}#sk-container-id-1 div.sk-label label {font-family: monospace;font-weight: bold;display: inline-block;line-height: 1.2em;}#sk-container-id-1 div.sk-label-container {text-align: center;}#sk-container-id-1 div.sk-container {/* jupyter's `normalize.less` sets `[hidden] { display: none; }` but bootstrap.min.css set `[hidden] { display: none !important; }` so we also need the `!important` here to be able to override the default hidden behavior on the sphinx rendered scikit-learn.org. See: https://github.com/scikit-learn/scikit-learn/issues/21755 */display: inline-block !important;position: relative;}#sk-container-id-1 div.sk-text-repr-fallback {display: none;}</style><div id=\"sk-container-id-1\" class=\"sk-top-container\"><div class=\"sk-text-repr-fallback\"><pre>LatentDirichletAllocation(n_components=7, random_state=42)</pre><b>In a Jupyter environment, please rerun this cell to show the HTML representation or trust the notebook. <br />On GitHub, the HTML representation is unable to render, please try loading this page with nbviewer.org.</b></div><div class=\"sk-container\" hidden><div class=\"sk-item\"><div class=\"sk-estimator sk-toggleable\"><input class=\"sk-toggleable__control sk-hidden--visually\" id=\"sk-estimator-id-1\" type=\"checkbox\" checked><label for=\"sk-estimator-id-1\" class=\"sk-toggleable__label sk-toggleable__label-arrow\">LatentDirichletAllocation</label><div class=\"sk-toggleable__content\"><pre>LatentDirichletAllocation(n_components=7, random_state=42)</pre></div></div></div></div></div>"
      ],
      "text/plain": [
       "LatentDirichletAllocation(n_components=7, random_state=42)"
      ]
     },
     "execution_count": 17,
     "metadata": {},
     "output_type": "execute_result"
    }
   ],
   "source": [
    "# This can take awhile, we're dealing with a large amount of documents!\n",
    "LDA.fit(dtm)"
   ]
  },
  {
   "cell_type": "markdown",
   "metadata": {},
   "source": [
    "## Showing Stored Words"
   ]
  },
  {
   "cell_type": "code",
   "execution_count": 18,
   "metadata": {},
   "outputs": [
    {
     "data": {
      "text/plain": [
       "96"
      ]
     },
     "execution_count": 18,
     "metadata": {},
     "output_type": "execute_result"
    }
   ],
   "source": [
    "len(cv.get_feature_names_out())"
   ]
  },
  {
   "cell_type": "markdown",
   "metadata": {
    "collapsed": true
   },
   "source": [
    "### Showing Top Words Per Topic"
   ]
  },
  {
   "cell_type": "code",
   "execution_count": 19,
   "metadata": {},
   "outputs": [
    {
     "data": {
      "text/plain": [
       "7"
      ]
     },
     "execution_count": 19,
     "metadata": {},
     "output_type": "execute_result"
    }
   ],
   "source": [
    "len(LDA.components_)"
   ]
  },
  {
   "cell_type": "code",
   "execution_count": 20,
   "metadata": {},
   "outputs": [
    {
     "data": {
      "text/plain": [
       "array([[2.43552043e+02, 1.34337302e+02, 3.85012991e+02, 7.85466726e+01,\n",
       "        8.58021410e+01, 3.71066582e+01, 1.02165432e+02, 1.49881745e+02,\n",
       "        2.48899977e+02, 7.24307362e+01, 3.91892846e+01, 3.81252943e+02,\n",
       "        5.98765972e+02, 1.85213664e+02, 1.97551725e+02, 3.15542050e+02,\n",
       "        1.34984408e+02, 8.09879612e+01, 1.73488352e+02, 6.84674431e+01,\n",
       "        1.20871402e+02, 2.77045500e+02, 3.00286106e+02, 1.08809507e+02,\n",
       "        3.70254714e+02, 1.43418045e+02, 1.70030265e+02, 6.59535121e+01,\n",
       "        2.55749281e+02, 4.40564435e+02, 1.50835273e+02, 5.69013850e+01,\n",
       "        3.68657784e+02, 1.55580193e+02, 3.10236425e+02, 3.11392135e+02,\n",
       "        1.36019955e+02, 2.10801949e+02, 5.42806305e+02, 5.11214933e+01,\n",
       "        1.43558915e+02, 3.88475625e+01, 8.25815860e+00, 4.16206831e+02,\n",
       "        1.28422940e+02, 8.99068319e+01, 1.70036766e+02, 1.35189212e+02,\n",
       "        1.64264561e+02, 5.55664288e+02, 2.17691616e+02, 5.46762754e+02,\n",
       "        4.40447399e+02, 1.54030540e+03, 4.65260751e+01, 2.13373763e+02,\n",
       "        1.41387010e+02, 6.26932789e+02, 3.85331707e+02, 1.53175727e+02,\n",
       "        8.15928222e+01, 1.68066584e+02, 1.17596374e+03, 9.26709552e+01,\n",
       "        3.02724063e+02, 3.00540191e+02, 4.16475129e+02, 1.05223796e+02,\n",
       "        7.91433729e+02, 9.33587254e+03, 3.70856458e+03, 2.45621012e+01,\n",
       "        3.44472149e+01, 1.23645304e+02, 1.86928647e+02, 3.00688324e+02,\n",
       "        2.69671775e+01, 1.16990619e+02, 2.36507048e+01, 1.59763474e+01,\n",
       "        1.43161948e-01, 1.11048556e+02, 2.59125578e+02, 5.01574185e+02,\n",
       "        1.93861372e+02, 1.65002233e+02, 1.75693290e+02, 2.95814269e+02,\n",
       "        3.26054006e+02, 3.36107359e+01, 1.45874438e+00, 1.15766116e+02,\n",
       "        9.91105180e+01, 1.71951413e+00, 6.81735760e+02, 3.46480456e+02],\n",
       "       [2.53147460e+03, 1.24603246e+03, 1.51104125e+03, 1.91168142e+02,\n",
       "        6.90794158e+02, 2.86185974e+03, 1.81408528e+02, 5.83357901e+02,\n",
       "        7.31222418e+02, 3.60515585e+02, 3.34991902e+02, 1.00752143e+02,\n",
       "        5.84899785e+02, 4.00421183e+02, 2.63384571e+02, 3.36695512e+03,\n",
       "        8.35284378e+02, 3.63858350e+02, 3.68939537e+02, 1.69697711e+02,\n",
       "        3.08606847e+02, 2.21590426e+02, 1.95005657e+02, 7.33748144e+01,\n",
       "        2.17690441e+02, 5.75130780e+02, 5.21042415e+02, 2.64581355e+02,\n",
       "        8.30865109e+02, 2.52685941e+02, 3.64423102e+02, 1.58806010e+02,\n",
       "        1.29018943e+03, 1.19737529e+03, 5.01532145e+02, 4.11251950e+02,\n",
       "        1.40558123e+02, 8.24148507e+02, 1.21611615e+03, 1.70427471e+01,\n",
       "        3.48342871e+01, 2.35947676e+02, 7.21623182e+01, 6.78060030e+02,\n",
       "        2.09733216e+02, 1.29354376e+02, 5.73311313e+02, 2.85263210e+02,\n",
       "        1.42126522e+02, 7.38798134e+02, 3.11614305e+02, 1.35895587e+03,\n",
       "        3.16339025e+02, 2.16036627e+03, 1.59710253e+02, 3.23267973e+02,\n",
       "        1.06794488e+03, 4.86165327e+03, 6.89880503e+03, 4.78374954e+02,\n",
       "        3.80425252e+02, 1.26249592e+03, 4.33096421e+02, 3.33096543e+01,\n",
       "        3.24679532e+02, 4.03105084e+02, 7.08455103e+02, 9.20988123e+01,\n",
       "        2.76247398e+02, 7.32282460e+01, 9.54288196e+02, 4.99841654e+01,\n",
       "        4.62564275e+01, 6.63763236e+01, 9.72931767e+01, 1.15017680e+03,\n",
       "        4.54122547e+02, 8.81581807e+02, 9.28360196e+01, 2.76765162e+02,\n",
       "        1.72544609e+00, 6.58943097e+01, 4.57652970e+02, 1.64223897e+02,\n",
       "        3.41976577e+02, 3.55356296e+02, 1.26526779e+02, 5.95090588e+02,\n",
       "        5.67586605e+02, 1.64667671e+02, 1.94981073e+03, 4.22156527e+02,\n",
       "        2.05727007e+02, 2.43755006e+03, 4.37860907e+03, 2.87171648e+03],\n",
       "       [5.09887418e+01, 2.96030177e+02, 3.50184874e+01, 1.88157833e+03,\n",
       "        4.06135758e+02, 5.91463341e+02, 9.36778870e+02, 1.63026809e+03,\n",
       "        1.80332311e+03, 1.05676004e+03, 6.21760702e+02, 4.69189717e+02,\n",
       "        1.13069772e+03, 1.65622043e+03, 1.25199171e+03, 5.91252411e+02,\n",
       "        8.02915812e+02, 3.59745087e+02, 1.44846469e+03, 1.16715640e+03,\n",
       "        2.62886913e+03, 1.80584124e+03, 1.78415347e+03, 1.76233792e+03,\n",
       "        5.18202947e+03, 9.33805902e+02, 1.32268595e+03, 1.24069521e+02,\n",
       "        7.29228006e+02, 4.12091239e+03, 2.79270631e+03, 1.45396112e+03,\n",
       "        1.23549809e+01, 3.93837756e+02, 8.63777963e+02, 2.48273030e+02,\n",
       "        1.54286684e+02, 3.64214048e+02, 7.17388519e+03, 2.96269690e+03,\n",
       "        5.35317151e+03, 2.75507035e+02, 1.31641428e+03, 1.08311124e+04,\n",
       "        1.64564496e+03, 1.73359118e+03, 1.35159034e+03, 2.15139065e+03,\n",
       "        3.50681445e+03, 3.94496891e+03, 1.35531826e+03, 9.26282604e+01,\n",
       "        2.10521568e+03, 4.56697347e+03, 3.52140222e+02, 9.70185161e+02,\n",
       "        6.36332030e+02, 9.59900957e+03, 1.27401201e+01, 1.09710649e+03,\n",
       "        1.56518077e+03, 5.80379783e+00, 5.33678174e+02, 5.26323257e+03,\n",
       "        2.61311331e+03, 2.83317609e+02, 2.81561003e+03, 6.45102826e+02,\n",
       "        5.06430880e+02, 1.39398194e+00, 3.76293794e+01, 1.55094577e+03,\n",
       "        2.55420548e+03, 3.90004496e+03, 7.38432510e+03, 3.84013993e+03,\n",
       "        8.46659273e+02, 7.23695791e+02, 2.09470163e+02, 2.99849985e+02,\n",
       "        1.43022003e-01, 1.23948130e+03, 5.42640850e+02, 1.24767321e+03,\n",
       "        8.98170821e+02, 3.99889091e+03, 2.95463691e+03, 5.30142735e+03,\n",
       "        6.26193973e+02, 3.22165087e+02, 7.78271334e+02, 2.54450162e+03,\n",
       "        8.81471242e+02, 2.94495525e+03, 9.31800429e+02, 1.65488358e+03],\n",
       "       [1.15449714e+03, 6.48793775e+02, 3.08621531e+03, 1.44944225e+02,\n",
       "        3.67316224e+02, 5.87095273e+02, 4.57813804e+02, 9.42684801e+01,\n",
       "        7.87872663e+01, 1.56245996e+03, 5.06572924e+02, 2.20157358e+03,\n",
       "        3.37893747e+02, 3.01319642e+02, 3.79567828e+02, 1.06542455e+03,\n",
       "        6.83252933e+02, 8.38262925e+02, 1.32565165e+03, 3.19242075e+02,\n",
       "        2.45026955e+02, 4.04693272e+02, 2.12995285e+02, 1.58031930e+02,\n",
       "        3.67109424e+02, 5.54363257e+02, 2.58352193e+02, 5.09046790e+02,\n",
       "        4.56378832e+02, 2.79182775e+02, 1.53992394e+02, 8.24425679e+01,\n",
       "        3.15915622e+03, 1.51330056e+03, 7.51635324e+02, 2.41005067e+02,\n",
       "        4.54994220e+02, 1.66192363e+03, 6.94734244e+02, 7.79441491e+01,\n",
       "        1.96254909e+02, 9.18343510e+02, 1.61907707e+02, 3.54788311e+02,\n",
       "        1.07083174e+02, 1.86946292e+02, 5.30689354e+02, 1.32945551e+02,\n",
       "        6.39472406e+01, 5.30568215e+02, 3.25721911e+02, 1.59449850e+03,\n",
       "        4.82750240e+02, 3.11297749e+03, 3.24565325e+03, 3.69980886e+03,\n",
       "        4.66973274e+02, 4.17254710e+03, 2.34195103e+01, 5.93146166e+02,\n",
       "        3.73339307e+02, 1.50874184e+03, 2.19389328e+03, 1.68182521e+01,\n",
       "        4.27722378e+02, 1.80397867e+04, 1.76077417e+03, 1.07903490e+03,\n",
       "        1.23392347e+03, 3.37710471e+02, 3.30864028e+02, 4.79283404e+02,\n",
       "        3.49141460e+01, 1.72319581e+02, 1.05508093e+02, 1.91400420e+03,\n",
       "        1.36489376e+03, 5.82985436e+02, 3.69837604e+03, 7.96846467e+02,\n",
       "        1.43400901e-01, 2.90414684e+02, 5.72613671e+02, 9.70208388e+02,\n",
       "        1.21061101e+03, 2.11501685e+02, 3.32233393e+02, 4.35590474e+02,\n",
       "        1.46821254e+03, 3.46888832e+02, 2.37916855e+02, 8.30098223e+02,\n",
       "        4.47693059e+02, 5.74512442e+02, 1.51817421e+03, 1.48980106e+03],\n",
       "       [1.42366398e+03, 6.73487639e+02, 7.82310949e+02, 8.08270610e+02,\n",
       "        1.15166121e+03, 5.20395486e+02, 7.92007488e+02, 8.77998188e+02,\n",
       "        1.12149614e+03, 1.44145112e+03, 5.88286107e+02, 6.14521517e+02,\n",
       "        9.85675627e+02, 1.26279972e+03, 6.04447985e+02, 8.64689907e+02,\n",
       "        1.19929385e+03, 6.73925975e+02, 4.79438121e+02, 7.74394260e+02,\n",
       "        9.19922429e+02, 6.09548080e+02, 1.19182917e+03, 6.65655972e+02,\n",
       "        2.56227616e+03, 5.47246448e+02, 3.22881057e+02, 7.14658752e+02,\n",
       "        7.86631639e+02, 1.66450271e+03, 1.13223167e+03, 8.67265121e+02,\n",
       "        9.16151226e+02, 1.37420456e+03, 2.12206266e+03, 9.31395265e+02,\n",
       "        2.73984196e+02, 9.42066535e+02, 3.75551958e+03, 6.86567207e+02,\n",
       "        1.40622137e+03, 3.72522178e+02, 5.12709564e+02, 4.83379644e+03,\n",
       "        8.97072109e+02, 7.48885484e+02, 1.01551765e+03, 6.54242747e+02,\n",
       "        1.69362076e+03, 2.05263098e+03, 6.22055021e+02, 8.42685891e+02,\n",
       "        1.57575215e+03, 3.60393262e+03, 2.37971051e+02, 1.69269869e+02,\n",
       "        6.36738441e+02, 6.93239002e+03, 6.56892392e+02, 7.80835835e+02,\n",
       "        3.94222815e+02, 1.55797022e+02, 1.09874694e+03, 1.63831249e+03,\n",
       "        1.05736430e+03, 3.70098458e+01, 1.99858813e+03, 1.69861721e+02,\n",
       "        4.23412672e+04, 4.43690529e+00, 1.09591975e+02, 3.44165875e+02,\n",
       "        4.77362755e+02, 7.83101740e+02, 1.24720298e+03, 2.23132194e+03,\n",
       "        5.18640261e+02, 6.13271342e+02, 2.22162476e+02, 5.20260741e+02,\n",
       "        1.42974573e-01, 9.25316229e+02, 2.64340753e+03, 1.90272798e+03,\n",
       "        1.63949923e+03, 1.25411124e+03, 1.48285994e+03, 1.57189953e+03,\n",
       "        4.62423337e+02, 3.39076190e+02, 5.83080706e+01, 2.27648975e+03,\n",
       "        1.09269336e+03, 1.26381368e+03, 1.88609003e+03, 3.26630811e+03],\n",
       "       [4.32837396e+01, 1.95696025e+02, 3.14511759e+01, 3.23038209e+02,\n",
       "        7.27807787e+02, 4.31754150e+02, 1.03384782e+03, 4.69849793e+02,\n",
       "        5.66214194e+02, 9.19261593e+02, 1.80241870e+03, 2.22267698e+02,\n",
       "        1.13819389e+02, 1.19765019e+03, 1.90039453e+02, 2.71639850e+02,\n",
       "        3.00803872e+03, 1.07442222e+03, 2.60917569e+03, 2.84260741e+03,\n",
       "        4.19014185e+02, 2.39874646e+02, 3.55560893e+02, 4.97357846e+02,\n",
       "        1.41401669e+03, 7.42727059e+02, 3.52460918e+02, 4.06361576e+03,\n",
       "        2.03171558e+02, 1.58926238e+03, 8.72680217e+02, 2.40018791e+03,\n",
       "        6.08879796e+00, 1.76327479e+02, 6.60058314e+02, 2.66850606e+03,\n",
       "        1.17464966e+03, 2.01663723e+02, 4.49998375e+03, 6.61397111e+02,\n",
       "        2.50203777e+03, 1.35633799e+03, 4.25202483e+03, 3.71682666e+03,\n",
       "        1.62022331e+03, 7.06474268e+02, 1.01827742e+03, 5.36033211e+02,\n",
       "        7.35899709e+02, 9.74837379e+02, 3.64062890e+02, 4.62311574e+01,\n",
       "        2.86682896e+02, 8.95655092e+02, 6.53763747e+01, 4.53795918e+02,\n",
       "        2.52190889e+02, 1.47546256e+03, 2.54683276e+00, 8.07464647e+02,\n",
       "        5.08572153e+02, 9.18587649e+00, 5.78860788e+01, 1.21307540e+03,\n",
       "        7.86400787e+02, 2.80015513e+03, 9.85617220e+02, 3.44848685e+02,\n",
       "        6.21214648e+02, 4.04511360e+00, 8.96954719e+00, 2.10005838e+03,\n",
       "        8.05471388e+02, 8.87563077e+02, 1.00006031e+03, 4.26378067e+03,\n",
       "        6.26261643e+02, 5.36090157e+02, 1.77149975e+03, 1.33649316e+03,\n",
       "        1.42963860e-01, 5.72978452e+02, 1.53118609e+02, 6.81318846e+01,\n",
       "        2.71663097e+02, 1.12816760e+03, 1.29609459e+03, 1.43086756e+03,\n",
       "        4.09608305e+02, 2.00903307e+03, 2.42077505e+02, 1.33593135e+03,\n",
       "        5.50426754e+02, 9.55086918e+02, 6.24470131e+02, 3.14410768e+03],\n",
       "       [1.45397594e+01, 1.08622627e+02, 1.65949837e+02, 2.26453816e+02,\n",
       "        2.03482724e+02, 8.87325357e+02, 1.70978059e+02, 1.78375806e+02,\n",
       "        4.28056892e+02, 7.03120961e+02, 3.56780381e+02, 1.69442399e+02,\n",
       "        4.15247756e+02, 4.14375169e+02, 1.93016723e+02, 1.12449611e+03,\n",
       "        5.24229896e+02, 4.84797479e+02, 1.12384195e+03, 4.24434703e+02,\n",
       "        1.78689051e+02, 5.21406836e+02, 3.75169414e+02, 2.80432006e+02,\n",
       "        5.90623105e+02, 2.42308509e+02, 3.88547202e+02, 1.10074310e+02,\n",
       "        4.65975575e+02, 1.09988937e+03, 4.37131034e+02, 2.88435886e+02,\n",
       "        7.25401560e+02, 1.72374160e+02, 2.31697166e+02, 4.01764937e+01,\n",
       "        4.49250716e+03, 5.19181609e+02, 9.97954778e+02, 1.41230393e+02,\n",
       "        4.75921237e+02, 4.91494048e+02, 3.52314237e+00, 5.97209322e+02,\n",
       "        1.46820294e+02, 2.90841567e+02, 2.56577152e+02, 3.21935421e+02,\n",
       "        1.65326758e+02, 6.57532100e+02, 2.62535994e+02, 1.27723756e+03,\n",
       "        2.72812606e+02, 1.63478966e+03, 9.66622777e+02, 7.93298459e+02,\n",
       "        3.85433480e+02, 7.87004695e+02, 4.22644118e+01, 1.98896183e+02,\n",
       "        3.77666878e+02, 8.47190896e+03, 4.62735370e+02, 7.45806787e+01,\n",
       "        4.41995637e+02, 7.00308543e+03, 8.26480229e+02, 8.79829258e+02,\n",
       "        1.98482704e+02, 3.25312742e+02, 9.19092291e+02, 1.93000305e+02,\n",
       "        1.92342592e+02, 2.86949016e+02, 8.16681692e+02, 7.90888135e+02,\n",
       "        5.78455336e+02, 1.86384848e+02, 1.24900485e+03, 3.70808142e+02,\n",
       "        2.28945590e+04, 2.37866467e+02, 1.41440792e+02, 1.51460461e+02,\n",
       "        1.76217894e+02, 2.62970039e+02, 4.92955096e+02, 6.29310228e+02,\n",
       "        1.24992123e+03, 2.71558416e+02, 3.31915676e+03, 3.41056415e+02,\n",
       "        2.12878060e+02, 1.68362135e+02, 3.27120373e+02, 3.18702639e+02]])"
      ]
     },
     "execution_count": 20,
     "metadata": {},
     "output_type": "execute_result"
    }
   ],
   "source": [
    "LDA.components_"
   ]
  },
  {
   "cell_type": "code",
   "execution_count": 21,
   "metadata": {},
   "outputs": [
    {
     "data": {
      "text/plain": [
       "96"
      ]
     },
     "execution_count": 21,
     "metadata": {},
     "output_type": "execute_result"
    }
   ],
   "source": [
    "len(LDA.components_[0])"
   ]
  },
  {
   "cell_type": "code",
   "execution_count": 22,
   "metadata": {},
   "outputs": [],
   "source": [
    "single_topic = LDA.components_[0]"
   ]
  },
  {
   "cell_type": "code",
   "execution_count": 23,
   "metadata": {},
   "outputs": [
    {
     "data": {
      "text/plain": [
       "array([80, 90, 93, 42, 79, 78, 71, 76, 89, 72,  5, 41, 10, 54, 39, 31, 27,\n",
       "       19,  9,  3, 17, 60,  4, 45, 63, 92,  6, 67, 23, 81, 91, 77, 20, 73,\n",
       "       44,  1, 16, 47, 36, 56, 25, 40,  7, 30, 59, 33, 48, 85, 61, 26, 46,\n",
       "       18, 86, 13, 74, 84, 14, 37, 55, 50,  0,  8, 28, 82, 21, 87, 22, 65,\n",
       "       75, 64, 34, 35, 15, 88, 95, 32, 24, 11,  2, 58, 43, 66, 52, 29, 83,\n",
       "       38, 51, 49, 12, 57, 94, 68, 62, 53, 70, 69], dtype=int64)"
      ]
     },
     "execution_count": 23,
     "metadata": {},
     "output_type": "execute_result"
    }
   ],
   "source": [
    "# Returns the indices that would sort this array.\n",
    "single_topic.argsort()"
   ]
  },
  {
   "cell_type": "code",
   "execution_count": 24,
   "metadata": {},
   "outputs": [
    {
     "data": {
      "text/plain": [
       "0.14316194780333685"
      ]
     },
     "execution_count": 24,
     "metadata": {},
     "output_type": "execute_result"
    }
   ],
   "source": [
    "# Word least representative of this topic\n",
    "single_topic[80]"
   ]
  },
  {
   "cell_type": "code",
   "execution_count": 25,
   "metadata": {},
   "outputs": [
    {
     "data": {
      "text/plain": [
       "9335.872540018545"
      ]
     },
     "execution_count": 25,
     "metadata": {},
     "output_type": "execute_result"
    }
   ],
   "source": [
    "# Word most representative of this topic\n",
    "single_topic[69]"
   ]
  },
  {
   "cell_type": "code",
   "execution_count": 26,
   "metadata": {},
   "outputs": [
    {
     "data": {
      "text/plain": [
       "array([51, 49, 12, 57, 94, 68, 62, 53, 70, 69], dtype=int64)"
      ]
     },
     "execution_count": 26,
     "metadata": {},
     "output_type": "execute_result"
    }
   ],
   "source": [
    "# Top 10 words for this topic:\n",
    "single_topic.argsort()[-10:]"
   ]
  },
  {
   "cell_type": "code",
   "execution_count": 27,
   "metadata": {},
   "outputs": [],
   "source": [
    "top_word_indices = single_topic.argsort()[-10:]"
   ]
  },
  {
   "cell_type": "code",
   "execution_count": 28,
   "metadata": {},
   "outputs": [
    {
     "name": "stdout",
     "output_type": "stream",
     "text": [
      "national\n",
      "make\n",
      "change\n",
      "people\n",
      "year\n",
      "says\n",
      "public\n",
      "new\n",
      "states\n",
      "state\n"
     ]
    }
   ],
   "source": [
    "for index in top_word_indices:\n",
    "    print(cv.get_feature_names_out()[index])"
   ]
  },
  {
   "cell_type": "markdown",
   "metadata": {},
   "source": [
    "These look like business articles perhaps... Let's confirm by using .transform() on our vectorized articles to attach a label number. But first, let's view all the 10 topics found."
   ]
  },
  {
   "cell_type": "code",
   "execution_count": 29,
   "metadata": {},
   "outputs": [
    {
     "name": "stdout",
     "output_type": "stream",
     "text": [
      "THE TOP 15 WORDS FOR TOPIC #0\n",
      "['say', 'need', 'going', 'use', 'just', 'national', 'make', 'change', 'people', 'year', 'says', 'public', 'new', 'states', 'state']\n",
      "\n",
      "\n",
      "THE TOP 15 WORDS FOR TOPIC #1\n",
      "['10', 'president', 'government', 'national', 'according', 'white', 'new', 'world', '000', 'american', 'years', 'country', 'year', 'people', 'percent']\n",
      "\n",
      "\n",
      "THE TOP 15 WORDS FOR TOPIC #2\n",
      "['lot', 'time', 'things', 'make', 've', 'going', 'new', 'don', 'really', 'way', 'know', 'just', 'think', 'people', 'like']\n",
      "\n",
      "\n",
      "THE TOP 15 WORDS FOR TOPIC #3\n",
      "['called', 'national', 'including', 'say', 'time', 'public', 'case', 'according', 'new', 'government', 'news', 'told', 'npr', 'people', 'said']\n",
      "\n",
      "\n",
      "THE TOP 15 WORDS FOR TOPIC #4\n",
      "['year', 'use', 'say', 'make', 'help', 'time', 'work', 'don', 'university', 'years', 'new', 'just', 'like', 'people', 'says']\n",
      "\n",
      "\n",
      "THE TOP 15 WORDS FOR TOPIC #5\n",
      "['went', 'story', 'got', 'know', 'did', 'home', 'said', 'didn', 'day', 'years', 'like', 'family', 'life', 'time', 'just']\n",
      "\n",
      "\n",
      "THE TOP 15 WORDS FOR TOPIC #6\n",
      "['states', 'news', 'just', 'going', 'did', 'country', 'told', 'week', 'national', 'new', 'white', 'house', 'said', 'president', 'trump']\n",
      "\n",
      "\n"
     ]
    }
   ],
   "source": [
    "for index,topic in enumerate(LDA.components_):\n",
    "    print(f'THE TOP 15 WORDS FOR TOPIC #{index}')\n",
    "    print([cv.get_feature_names_out()[i] for i in topic.argsort()[-15:]])\n",
    "    print('\\n')"
   ]
  },
  {
   "cell_type": "markdown",
   "metadata": {},
   "source": [
    "### Attaching Discovered Topic Labels to Original Articles"
   ]
  },
  {
   "cell_type": "code",
   "execution_count": 30,
   "metadata": {},
   "outputs": [
    {
     "data": {
      "text/plain": [
       "<11992x96 sparse matrix of type '<class 'numpy.int64'>'\n",
       "\twith 349867 stored elements in Compressed Sparse Row format>"
      ]
     },
     "execution_count": 30,
     "metadata": {},
     "output_type": "execute_result"
    }
   ],
   "source": [
    "dtm"
   ]
  },
  {
   "cell_type": "code",
   "execution_count": 31,
   "metadata": {},
   "outputs": [
    {
     "data": {
      "text/plain": [
       "(11992, 96)"
      ]
     },
     "execution_count": 31,
     "metadata": {},
     "output_type": "execute_result"
    }
   ],
   "source": [
    "dtm.shape"
   ]
  },
  {
   "cell_type": "code",
   "execution_count": 32,
   "metadata": {},
   "outputs": [
    {
     "data": {
      "text/plain": [
       "11992"
      ]
     },
     "execution_count": 32,
     "metadata": {},
     "output_type": "execute_result"
    }
   ],
   "source": [
    "len(npr)"
   ]
  },
  {
   "cell_type": "code",
   "execution_count": 33,
   "metadata": {},
   "outputs": [],
   "source": [
    "topic_results = LDA.transform(dtm)"
   ]
  },
  {
   "cell_type": "code",
   "execution_count": 34,
   "metadata": {},
   "outputs": [
    {
     "data": {
      "text/plain": [
       "(11992, 7)"
      ]
     },
     "execution_count": 34,
     "metadata": {},
     "output_type": "execute_result"
    }
   ],
   "source": [
    "topic_results.shape"
   ]
  },
  {
   "cell_type": "code",
   "execution_count": 35,
   "metadata": {},
   "outputs": [
    {
     "data": {
      "text/plain": [
       "array([0.00150811, 0.15559485, 0.11719971, 0.0015108 , 0.00150898,\n",
       "       0.00151116, 0.72116638])"
      ]
     },
     "execution_count": 35,
     "metadata": {},
     "output_type": "execute_result"
    }
   ],
   "source": [
    "topic_results[0]"
   ]
  },
  {
   "cell_type": "code",
   "execution_count": 36,
   "metadata": {},
   "outputs": [
    {
     "data": {
      "text/plain": [
       "array([0.  , 0.16, 0.12, 0.  , 0.  , 0.  , 0.72])"
      ]
     },
     "execution_count": 36,
     "metadata": {},
     "output_type": "execute_result"
    }
   ],
   "source": [
    "topic_results[0].round(2)"
   ]
  },
  {
   "cell_type": "code",
   "execution_count": 37,
   "metadata": {},
   "outputs": [
    {
     "data": {
      "text/plain": [
       "6"
      ]
     },
     "execution_count": 37,
     "metadata": {},
     "output_type": "execute_result"
    }
   ],
   "source": [
    "topic_results[0].argmax()"
   ]
  },
  {
   "cell_type": "markdown",
   "metadata": {},
   "source": [
    "This means that our model thinks that the first article belongs to topic #7."
   ]
  },
  {
   "cell_type": "markdown",
   "metadata": {},
   "source": [
    "### Combining with Original Data"
   ]
  },
  {
   "cell_type": "code",
   "execution_count": 38,
   "metadata": {},
   "outputs": [
    {
     "data": {
      "text/html": [
       "<div>\n",
       "<style scoped>\n",
       "    .dataframe tbody tr th:only-of-type {\n",
       "        vertical-align: middle;\n",
       "    }\n",
       "\n",
       "    .dataframe tbody tr th {\n",
       "        vertical-align: top;\n",
       "    }\n",
       "\n",
       "    .dataframe thead th {\n",
       "        text-align: right;\n",
       "    }\n",
       "</style>\n",
       "<table border=\"1\" class=\"dataframe\">\n",
       "  <thead>\n",
       "    <tr style=\"text-align: right;\">\n",
       "      <th></th>\n",
       "      <th>Article</th>\n",
       "    </tr>\n",
       "  </thead>\n",
       "  <tbody>\n",
       "    <tr>\n",
       "      <th>0</th>\n",
       "      <td>In the Washington of 2016, even when the polic...</td>\n",
       "    </tr>\n",
       "    <tr>\n",
       "      <th>1</th>\n",
       "      <td>Donald Trump has used Twitter  —   his prefe...</td>\n",
       "    </tr>\n",
       "    <tr>\n",
       "      <th>2</th>\n",
       "      <td>Donald Trump is unabashedly praising Russian...</td>\n",
       "    </tr>\n",
       "    <tr>\n",
       "      <th>3</th>\n",
       "      <td>Updated at 2:50 p. m. ET, Russian President Vl...</td>\n",
       "    </tr>\n",
       "    <tr>\n",
       "      <th>4</th>\n",
       "      <td>From photography, illustration and video, to d...</td>\n",
       "    </tr>\n",
       "  </tbody>\n",
       "</table>\n",
       "</div>"
      ],
      "text/plain": [
       "                                             Article\n",
       "0  In the Washington of 2016, even when the polic...\n",
       "1    Donald Trump has used Twitter  —   his prefe...\n",
       "2    Donald Trump is unabashedly praising Russian...\n",
       "3  Updated at 2:50 p. m. ET, Russian President Vl...\n",
       "4  From photography, illustration and video, to d..."
      ]
     },
     "execution_count": 38,
     "metadata": {},
     "output_type": "execute_result"
    }
   ],
   "source": [
    "npr.head()"
   ]
  },
  {
   "cell_type": "code",
   "execution_count": 39,
   "metadata": {},
   "outputs": [
    {
     "data": {
      "text/plain": [
       "array([6, 6, 6, ..., 5, 2, 4], dtype=int64)"
      ]
     },
     "execution_count": 39,
     "metadata": {},
     "output_type": "execute_result"
    }
   ],
   "source": [
    "topic_results.argmax(axis=1)"
   ]
  },
  {
   "cell_type": "code",
   "execution_count": 40,
   "metadata": {},
   "outputs": [],
   "source": [
    "npr['Topic'] = topic_results.argmax(axis=1)"
   ]
  },
  {
   "cell_type": "code",
   "execution_count": 41,
   "metadata": {},
   "outputs": [
    {
     "data": {
      "text/html": [
       "<div>\n",
       "<style scoped>\n",
       "    .dataframe tbody tr th:only-of-type {\n",
       "        vertical-align: middle;\n",
       "    }\n",
       "\n",
       "    .dataframe tbody tr th {\n",
       "        vertical-align: top;\n",
       "    }\n",
       "\n",
       "    .dataframe thead th {\n",
       "        text-align: right;\n",
       "    }\n",
       "</style>\n",
       "<table border=\"1\" class=\"dataframe\">\n",
       "  <thead>\n",
       "    <tr style=\"text-align: right;\">\n",
       "      <th></th>\n",
       "      <th>Article</th>\n",
       "      <th>Topic</th>\n",
       "    </tr>\n",
       "  </thead>\n",
       "  <tbody>\n",
       "    <tr>\n",
       "      <th>0</th>\n",
       "      <td>In the Washington of 2016, even when the polic...</td>\n",
       "      <td>6</td>\n",
       "    </tr>\n",
       "    <tr>\n",
       "      <th>1</th>\n",
       "      <td>Donald Trump has used Twitter  —   his prefe...</td>\n",
       "      <td>6</td>\n",
       "    </tr>\n",
       "    <tr>\n",
       "      <th>2</th>\n",
       "      <td>Donald Trump is unabashedly praising Russian...</td>\n",
       "      <td>6</td>\n",
       "    </tr>\n",
       "    <tr>\n",
       "      <th>3</th>\n",
       "      <td>Updated at 2:50 p. m. ET, Russian President Vl...</td>\n",
       "      <td>6</td>\n",
       "    </tr>\n",
       "    <tr>\n",
       "      <th>4</th>\n",
       "      <td>From photography, illustration and video, to d...</td>\n",
       "      <td>1</td>\n",
       "    </tr>\n",
       "    <tr>\n",
       "      <th>5</th>\n",
       "      <td>I did not want to join yoga class. I hated tho...</td>\n",
       "      <td>2</td>\n",
       "    </tr>\n",
       "    <tr>\n",
       "      <th>6</th>\n",
       "      <td>With a   who has publicly supported the debunk...</td>\n",
       "      <td>4</td>\n",
       "    </tr>\n",
       "    <tr>\n",
       "      <th>7</th>\n",
       "      <td>I was standing by the airport exit, debating w...</td>\n",
       "      <td>5</td>\n",
       "    </tr>\n",
       "    <tr>\n",
       "      <th>8</th>\n",
       "      <td>If movies were trying to be more realistic, pe...</td>\n",
       "      <td>4</td>\n",
       "    </tr>\n",
       "    <tr>\n",
       "      <th>9</th>\n",
       "      <td>Eighteen years ago, on New Year’s Eve, David F...</td>\n",
       "      <td>2</td>\n",
       "    </tr>\n",
       "  </tbody>\n",
       "</table>\n",
       "</div>"
      ],
      "text/plain": [
       "                                             Article  Topic\n",
       "0  In the Washington of 2016, even when the polic...      6\n",
       "1    Donald Trump has used Twitter  —   his prefe...      6\n",
       "2    Donald Trump is unabashedly praising Russian...      6\n",
       "3  Updated at 2:50 p. m. ET, Russian President Vl...      6\n",
       "4  From photography, illustration and video, to d...      1\n",
       "5  I did not want to join yoga class. I hated tho...      2\n",
       "6  With a   who has publicly supported the debunk...      4\n",
       "7  I was standing by the airport exit, debating w...      5\n",
       "8  If movies were trying to be more realistic, pe...      4\n",
       "9  Eighteen years ago, on New Year’s Eve, David F...      2"
      ]
     },
     "execution_count": 41,
     "metadata": {},
     "output_type": "execute_result"
    }
   ],
   "source": [
    "npr.head(10)"
   ]
  },
  {
   "cell_type": "markdown",
   "metadata": {},
   "source": [
    "## Visualizing LDA"
   ]
  },
  {
   "cell_type": "markdown",
   "metadata": {},
   "source": [
    "**pyLDAvis** is designed to help users interpret the topics in a topic model that has been fit to a corpus of text data. The package extracts information from a fitted LDA topic model to inform an interactive web-based visualization.\n",
    "\n",
    "it's a Python library for interactive topic model visualization, port of the fabulous R package by Carson Sievert and Kenny Shirley."
   ]
  },
  {
   "cell_type": "code",
   "execution_count": 42,
   "metadata": {},
   "outputs": [
    {
     "name": "stdout",
     "output_type": "stream",
     "text": [
      "Requirement already satisfied: pyldavis in c:\\users\\abelli\\appdata\\local\\anaconda3\\lib\\site-packages (3.4.1)\n",
      "Requirement already satisfied: numpy>=1.24.2 in c:\\users\\abelli\\appdata\\local\\anaconda3\\lib\\site-packages (from pyldavis) (1.26.1)\n",
      "Requirement already satisfied: scipy in c:\\users\\abelli\\appdata\\local\\anaconda3\\lib\\site-packages (from pyldavis) (1.10.0)\n",
      "Requirement already satisfied: pandas>=2.0.0 in c:\\users\\abelli\\appdata\\local\\anaconda3\\lib\\site-packages (from pyldavis) (2.1.1)\n",
      "Requirement already satisfied: joblib>=1.2.0 in c:\\users\\abelli\\appdata\\local\\anaconda3\\lib\\site-packages (from pyldavis) (1.3.2)\n",
      "Requirement already satisfied: jinja2 in c:\\users\\abelli\\appdata\\local\\anaconda3\\lib\\site-packages (from pyldavis) (3.1.2)\n",
      "Requirement already satisfied: numexpr in c:\\users\\abelli\\appdata\\local\\anaconda3\\lib\\site-packages (from pyldavis) (2.8.4)\n",
      "Requirement already satisfied: funcy in c:\\users\\abelli\\appdata\\local\\anaconda3\\lib\\site-packages (from pyldavis) (2.0)\n",
      "Requirement already satisfied: scikit-learn>=1.0.0 in c:\\users\\abelli\\appdata\\local\\anaconda3\\lib\\site-packages (from pyldavis) (1.2.1)\n",
      "Requirement already satisfied: gensim in c:\\users\\abelli\\appdata\\local\\anaconda3\\lib\\site-packages (from pyldavis) (4.3.0)\n",
      "Requirement already satisfied: setuptools in c:\\users\\abelli\\appdata\\local\\anaconda3\\lib\\site-packages (from pyldavis) (65.6.3)\n",
      "Requirement already satisfied: python-dateutil>=2.8.2 in c:\\users\\abelli\\appdata\\local\\anaconda3\\lib\\site-packages (from pandas>=2.0.0->pyldavis) (2.8.2)\n",
      "Requirement already satisfied: pytz>=2020.1 in c:\\users\\abelli\\appdata\\local\\anaconda3\\lib\\site-packages (from pandas>=2.0.0->pyldavis) (2022.7)\n",
      "Requirement already satisfied: tzdata>=2022.1 in c:\\users\\abelli\\appdata\\local\\anaconda3\\lib\\site-packages (from pandas>=2.0.0->pyldavis) (2023.3)\n",
      "Requirement already satisfied: threadpoolctl>=2.0.0 in c:\\users\\abelli\\appdata\\local\\anaconda3\\lib\\site-packages (from scikit-learn>=1.0.0->pyldavis) (2.2.0)\n",
      "Requirement already satisfied: smart-open>=1.8.1 in c:\\users\\abelli\\appdata\\local\\anaconda3\\lib\\site-packages (from gensim->pyldavis) (5.2.1)\n",
      "Requirement already satisfied: FuzzyTM>=0.4.0 in c:\\users\\abelli\\appdata\\local\\anaconda3\\lib\\site-packages (from gensim->pyldavis) (2.0.5)\n",
      "Requirement already satisfied: MarkupSafe>=2.0 in c:\\users\\abelli\\appdata\\local\\anaconda3\\lib\\site-packages (from jinja2->pyldavis) (2.1.1)\n",
      "Requirement already satisfied: pyfume in c:\\users\\abelli\\appdata\\local\\anaconda3\\lib\\site-packages (from FuzzyTM>=0.4.0->gensim->pyldavis) (0.2.25)\n",
      "Requirement already satisfied: six>=1.5 in c:\\users\\abelli\\appdata\\local\\anaconda3\\lib\\site-packages (from python-dateutil>=2.8.2->pandas>=2.0.0->pyldavis) (1.16.0)\n",
      "Requirement already satisfied: simpful in c:\\users\\abelli\\appdata\\local\\anaconda3\\lib\\site-packages (from pyfume->FuzzyTM>=0.4.0->gensim->pyldavis) (2.11.0)\n",
      "Requirement already satisfied: fst-pso in c:\\users\\abelli\\appdata\\local\\anaconda3\\lib\\site-packages (from pyfume->FuzzyTM>=0.4.0->gensim->pyldavis) (1.8.1)\n",
      "Requirement already satisfied: miniful in c:\\users\\abelli\\appdata\\local\\anaconda3\\lib\\site-packages (from fst-pso->pyfume->FuzzyTM>=0.4.0->gensim->pyldavis) (0.0.6)\n"
     ]
    },
    {
     "name": "stderr",
     "output_type": "stream",
     "text": [
      "\n",
      "[notice] A new release of pip is available: 23.1.2 -> 23.3.1\n",
      "[notice] To update, run: python.exe -m pip install --upgrade pip\n"
     ]
    }
   ],
   "source": [
    "!pip install pyldavis"
   ]
  },
  {
   "cell_type": "markdown",
   "metadata": {},
   "source": [
    "pyLDAvis now also supports LDA application from scikit-learn, but also gensim, that is an alternative library for LDA"
   ]
  },
  {
   "cell_type": "code",
   "execution_count": 43,
   "metadata": {},
   "outputs": [],
   "source": [
    "import pyLDAvis\n",
    "import pyLDAvis.lda_model\n",
    "pyLDAvis.enable_notebook()"
   ]
  },
  {
   "cell_type": "code",
   "execution_count": 44,
   "metadata": {},
   "outputs": [
    {
     "data": {
      "text/html": [
       "\n",
       "<link rel=\"stylesheet\" type=\"text/css\" href=\"https://cdn.jsdelivr.net/gh/bmabey/pyLDAvis@3.4.0/pyLDAvis/js/ldavis.v1.0.0.css\">\n",
       "\n",
       "\n",
       "<div id=\"ldavis_el2017220564630361767864481808\" style=\"background-color:white;\"></div>\n",
       "<script type=\"text/javascript\">\n",
       "\n",
       "var ldavis_el2017220564630361767864481808_data = {\"mdsDat\": {\"x\": [-0.12389635806639968, -0.11912832771584346, -0.07497157076603679, 0.10734302807350238, 0.18466004221850432, 0.02697174613337475, -0.000978559877101448], \"y\": [-0.06476249768554741, 0.029904147057322472, -0.12362136260141113, 0.012569771986256249, -0.09176083385853775, 0.07507477179431572, 0.16259600330760177], \"topics\": [1, 2, 3, 4, 5, 6, 7], \"cluster\": [1, 1, 1, 1, 1, 1, 1], \"Freq\": [24.33112914857041, 20.704365427312986, 13.958826860837673, 13.585422207497885, 12.123409106987273, 10.287665260310403, 5.009181988483366]}, \"tinfo\": {\"Term\": [\"trump\", \"says\", \"state\", \"said\", \"percent\", \"president\", \"states\", \"year\", \"house\", \"life\", \"white\", \"told\", \"country\", \"public\", \"family\", \"000\", \"according\", \"new\", \"people\", \"government\", \"american\", \"news\", \"npr\", \"years\", \"like\", \"national\", \"world\", \"think\", \"really\", \"home\", \"think\", \"kind\", \"really\", \"things\", \"thing\", \"different\", \"lot\", \"ve\", \"know\", \"way\", \"actually\", \"look\", \"like\", \"doing\", \"don\", \"good\", \"ll\", \"does\", \"right\", \"going\", \"want\", \"point\", \"make\", \"better\", \"comes\", \"doesn\", \"fact\", \"making\", \"need\", \"just\", \"people\", \"world\", \"work\", \"new\", \"time\", \"say\", \"big\", \"says\", \"university\", \"help\", \"use\", \"used\", \"ago\", \"working\", \"work\", \"need\", \"group\", \"doesn\", \"trying\", \"lot\", \"000\", \"years\", \"people\", \"don\", \"called\", \"change\", \"come\", \"like\", \"big\", \"actually\", \"better\", \"make\", \"want\", \"away\", \"far\", \"say\", \"long\", \"new\", \"just\", \"really\", \"year\", \"going\", \"time\", \"way\", \"know\", \"ve\", \"world\", \"think\", \"family\", \"life\", \"went\", \"home\", \"didn\", \"got\", \"story\", \"came\", \"day\", \"took\", \"later\", \"did\", \"little\", \"time\", \"away\", \"days\", \"know\", \"told\", \"years\", \"just\", \"come\", \"long\", \"ago\", \"end\", \"place\", \"thing\", \"want\", \"ll\", \"like\", \"house\", \"going\", \"work\", \"said\", \"way\", \"don\", \"really\", \"people\", \"ve\", \"news\", \"said\", \"npr\", \"case\", \"according\", \"told\", \"government\", \"public\", \"including\", \"saying\", \"times\", \"group\", \"week\", \"national\", \"used\", \"called\", \"later\", \"took\", \"days\", \"000\", \"10\", \"use\", \"say\", \"new\", \"did\", \"today\", \"end\", \"people\", \"year\", \"place\", \"country\", \"time\", \"president\", \"years\", \"says\", \"trump\", \"president\", \"house\", \"white\", \"saying\", \"week\", \"said\", \"national\", \"news\", \"told\", \"states\", \"did\", \"american\", \"country\", \"later\", \"times\", \"does\", \"days\", \"far\", \"npr\", \"going\", \"fact\", \"called\", \"government\", \"including\", \"past\", \"took\", \"point\", \"change\", \"new\", \"say\", \"think\", \"just\", \"make\", \"time\", \"way\", \"people\", \"don\", \"like\", \"day\", \"percent\", \"american\", \"000\", \"country\", \"year\", \"10\", \"past\", \"white\", \"world\", \"according\", \"today\", \"group\", \"national\", \"far\", \"years\", \"government\", \"ago\", \"including\", \"people\", \"states\", \"fact\", \"end\", \"big\", \"better\", \"change\", \"new\", \"long\", \"place\", \"day\", \"week\", \"president\", \"time\", \"just\", \"make\", \"say\", \"like\", \"way\", \"state\", \"states\", \"public\", \"change\", \"use\", \"national\", \"case\", \"new\", \"need\", \"far\", \"doesn\", \"does\", \"year\", \"according\", \"home\", \"comes\", \"week\", \"making\", \"make\", \"help\", \"government\", \"university\", \"fact\", \"right\", \"big\", \"percent\", \"going\", \"including\", \"000\", \"say\", \"country\", \"just\", \"don\", \"people\", \"says\", \"like\", \"years\", \"way\", \"time\", \"said\"], \"Freq\": [22693.0, 45265.0, 10172.0, 28716.0, 8137.0, 11518.0, 6111.0, 10401.0, 6790.0, 6352.0, 6598.0, 7241.0, 7639.0, 5944.0, 5862.0, 5478.0, 5994.0, 17523.0, 28499.0, 6462.0, 5956.0, 5047.0, 6609.0, 13111.0, 21480.0, 5754.0, 8396.0, 10890.0, 8363.0, 4860.0, 7457.204750149617, 2991.937257406956, 5315.178079514138, 3938.5364795667924, 2579.414226083896, 2654.8147724989813, 3541.4249813952824, 4038.357986668626, 5406.0046721635035, 5353.749827204004, 1900.1485756782927, 2172.623814020778, 10938.010141564457, 1779.7313308153443, 5233.17354262105, 2820.2689428494573, 1750.7008725601274, 1823.664003498952, 2638.9034472402736, 4161.583766724152, 2983.7977233779725, 1580.6283359932336, 3983.903806446341, 1646.3580295606014, 1264.3482551582038, 1801.7621889137606, 1335.7402076530248, 1368.694586557972, 2125.993120648724, 7244.687902260696, 9693.747060117581, 2974.0205107293127, 2569.6145919421533, 4612.047250133826, 3878.0402208090895, 2843.3987083491165, 1821.1210189940969, 41626.17245143084, 2598.7634538983325, 2086.223495394, 1870.5931170885947, 1611.8099944165263, 1132.2109903976934, 1074.2390403778202, 2238.042488805115, 1549.1395343811892, 1350.9958464394103, 1171.7005646050386, 909.6887145215007, 1665.0174754493173, 1399.619955679077, 3211.1439706478136, 6815.3100194032395, 2519.0022980112517, 1417.1066898362094, 969.0287133954222, 1241.4725011939001, 4752.15924478433, 1102.555379326769, 794.6198603083205, 863.1698203937956, 2017.9644277724178, 1457.816161786488, 778.631403919256, 773.3463460281581, 1964.8342992748228, 998.3667369709658, 3543.0663968625836, 3692.093226446675, 1610.643297159095, 1854.236162907362, 1636.391196278823, 2193.6375146109135, 1545.3519782346832, 1382.4719326568045, 1232.9307601330358, 1242.4693379717648, 1226.1391725803817, 4083.988699282774, 4273.342361862553, 2019.1053562992515, 2681.884614312183, 2856.8588215753452, 2412.2212481151255, 2110.587027075696, 1811.4551249123963, 3023.119525838249, 1343.1936647425453, 1363.1379906991147, 2622.2567952939676, 1628.3462994117262, 4285.157131221328, 1039.0310158445823, 1079.8088380811505, 2514.581735932798, 1780.3811630833131, 3159.870660788908, 4522.544417208243, 1203.6546130456322, 1023.3825571837153, 731.4566518208009, 746.4507216912352, 811.5128707259114, 809.5096189795547, 1302.592558099226, 710.0161765225262, 3735.460974760473, 1180.5387712643121, 1597.230144611649, 1342.629045488396, 2814.19370820375, 1438.0412120385217, 1421.10586307256, 1219.1571566074815, 1482.8597948425784, 1133.8236714254488, 3225.042843164132, 17925.23125553109, 3676.3144941426726, 2187.5932474001816, 3066.6173566287644, 3674.8907758440546, 3139.095083154454, 2179.9617137928417, 1651.370155617305, 1072.1828617464553, 1356.2264749405267, 1503.6908667623757, 1458.8891607439118, 1584.3731902485956, 1202.9234431612738, 1552.5380980508285, 912.5118855151021, 791.7863679970606, 832.9398251645943, 1147.1658991118088, 644.6738328626977, 964.0474130867133, 1749.5929773345217, 3093.209594880625, 1317.2335577801782, 579.2833871881254, 550.8429636449063, 4146.050776526819, 1508.5335630516117, 589.3795949953079, 1058.65894193948, 1901.8499740189543, 1499.1610923568526, 1480.3405887785793, 1226.0878680640117, 22690.67858841285, 8396.464984099548, 4452.500519388494, 3289.599032964481, 871.9942092653793, 1238.7904463476193, 6940.721606247621, 1265.8635134811836, 958.0148158501395, 1237.8822195473674, 910.907597414398, 1113.8339244100925, 879.4235539898265, 1114.4822550785477, 487.1171996454743, 573.3040803420764, 516.7636078279701, 480.48026465807243, 461.82597348791234, 786.2339840352133, 1090.0946422875552, 385.0871150768158, 696.859534053807, 718.9417203001609, 514.5581974847629, 382.0011204681148, 367.5060243074382, 374.30368238547203, 411.54989509680155, 1620.2315402243623, 819.1202637559553, 809.4089845948979, 989.0677989120312, 651.6766501463047, 783.8451240158993, 623.7060992430255, 779.996266697172, 585.363492845176, 591.8910586198342, 519.5615285033517, 7022.076514023922, 2912.9969560276268, 2576.7083204187966, 3427.117649515451, 4456.848369787969, 1268.2972215601008, 1087.0274783743396, 1984.6509774000917, 2481.105486756397, 1538.0413371981917, 897.3343761626742, 1218.7706224779533, 1383.2384146646773, 845.7114449866413, 2923.0298220430163, 1313.2432178883935, 703.1376327875847, 838.8748269199294, 4948.523852524737, 971.3399209168327, 530.3526762460996, 585.4075197716987, 744.2882862598417, 593.7816478763962, 595.3510829638027, 2198.9688328577113, 583.555542389467, 486.9228096824295, 850.2096801144594, 577.7285414552298, 1285.0548652698462, 1170.7287645951055, 1237.846357722128, 751.9993687781973, 721.1141523616772, 690.1759645457894, 605.7239801491446, 9429.68144638105, 3745.8290581480856, 1187.7800864978549, 604.782504386257, 506.61411304949246, 552.2567468542678, 385.0838562611209, 1555.7827276717167, 444.87311210769275, 258.3191061559861, 303.3034466653149, 279.82931440652493, 688.5859912667155, 388.8816862683889, 314.52107203956524, 199.536768683491, 329.33026868600535, 219.87902886947953, 561.247725528057, 313.3537488311508, 372.36213912066415, 261.729328498229, 171.73876642435945, 305.7659008825137, 251.40097863036678, 389.20360518150363, 444.9913240556886, 212.92013309570908, 245.99930814426773, 420.6599627607047, 318.71268642966623, 548.2605425701082, 373.9751145918734, 633.2323478382598, 799.3862295587949, 420.3889690380924, 349.96196844935355, 298.7866760899129, 303.7097064005065, 303.56008466707215], \"Total\": [22693.0, 45265.0, 10172.0, 28716.0, 8137.0, 11518.0, 6111.0, 10401.0, 6790.0, 6352.0, 6598.0, 7241.0, 7639.0, 5944.0, 5862.0, 5478.0, 5994.0, 17523.0, 28499.0, 6462.0, 5956.0, 5047.0, 6609.0, 13111.0, 21480.0, 5754.0, 8396.0, 10890.0, 8363.0, 4860.0, 10890.503730180555, 4618.026518925623, 8363.113492384015, 6248.494511963291, 4165.422988005835, 4837.091623722394, 6484.008496624044, 7404.265476490649, 10150.208218184318, 10298.184179547425, 3661.80716719184, 4232.615692080508, 21480.62170327245, 3553.548369185463, 10718.97878169933, 5919.9724607913795, 3893.441432912916, 4088.261032382303, 5968.066331973572, 9464.902061946774, 6869.141660458668, 3694.2228676580617, 9473.715729478588, 3997.3598682021757, 3085.663052867651, 4416.071008471481, 3351.286334150405, 3467.0449510616286, 5480.18534324439, 18924.82281830694, 28499.720117950386, 8396.934410809197, 7859.761539665533, 17523.451801249113, 14516.968435671797, 9509.278975853384, 4990.950490222212, 45265.30346940859, 4737.364773872291, 5422.237752682422, 4986.985246184445, 4713.339009520937, 3630.2680723146677, 3482.93821467229, 7859.761539665533, 5480.18534324439, 4976.376204904817, 4416.071008471481, 3440.8090325916996, 6484.008496624044, 5478.896481510206, 13111.428007749015, 28499.720117950386, 10718.97878169933, 6097.680378464625, 4172.707440183596, 5422.435768912519, 21480.62170327245, 4990.950490222212, 3661.80716719184, 3997.3598682021757, 9473.715729478588, 6869.141660458668, 3675.8909599266817, 3733.298911480058, 9509.278975853384, 4923.5917204964835, 17523.451801249113, 18924.82281830694, 8363.113492384015, 10401.009142650524, 9464.902061946774, 14516.968435671797, 10298.184179547425, 10150.208218184318, 7404.265476490649, 8396.934410809197, 10890.503730180555, 5862.705324522417, 6352.963720426655, 3493.1843151379435, 4860.6879108699695, 5776.6053682879765, 5320.053410900429, 4758.400872013976, 4255.223010402161, 7198.025033551226, 3614.6169847820393, 3686.625566604884, 7538.189116109194, 4767.264778691022, 14516.968435671797, 3675.8909599266817, 3871.230380465454, 10150.208218184318, 7241.485314064, 13111.428007749015, 18924.82281830694, 5422.435768912519, 4923.5917204964835, 3630.2680723146677, 3748.737250126088, 4115.237936229619, 4165.422988005835, 6869.141660458668, 3893.441432912916, 21480.62170327245, 6790.766968236887, 9464.902061946774, 7859.761539665533, 28716.513240273318, 10298.184179547425, 10718.97878169933, 8363.113492384015, 28499.720117950386, 7404.265476490649, 5047.887086545736, 28716.513240273318, 6609.353095228262, 4144.508410710133, 5994.083988647439, 7241.485314064, 6462.91690148506, 5944.503622276101, 4714.362865778179, 3309.2428728479845, 4413.30357159195, 4976.376204904817, 5103.38803765972, 5754.191164976727, 4713.339009520937, 6097.680378464625, 3686.625566604884, 3614.6169847820393, 3871.230380465454, 5478.896481510206, 3314.05574092318, 4986.985246184445, 9509.278975853384, 17523.451801249113, 7538.189116109194, 3652.039044849622, 3748.737250126088, 28499.720117950386, 10401.009142650524, 4115.237936229619, 7639.147331170325, 14516.968435671797, 11518.695095821353, 13111.428007749015, 45265.30346940859, 22693.150630503183, 11518.695095821353, 6790.766968236887, 6598.696422092849, 3309.2428728479845, 5103.38803765972, 28716.513240273318, 5754.191164976727, 5047.887086545736, 7241.485314064, 6111.595939797366, 7538.189116109194, 5956.093303587721, 7639.147331170325, 3686.625566604884, 4413.30357159195, 4088.261032382303, 3871.230380465454, 3733.298911480058, 6609.353095228262, 9464.902061946774, 3351.286334150405, 6097.680378464625, 6462.91690148506, 4714.362865778179, 3597.8964495693617, 3614.6169847820393, 3694.2228676580617, 4172.707440183596, 17523.451801249113, 9509.278975853384, 10890.503730180555, 18924.82281830694, 9473.715729478588, 14516.968435671797, 10298.184179547425, 28499.720117950386, 10718.97878169933, 21480.62170327245, 7198.025033551226, 8137.662655260113, 5956.093303587721, 5478.896481510206, 7639.147331170325, 10401.009142650524, 3314.05574092318, 3597.8964495693617, 6598.696422092849, 8396.934410809197, 5994.083988647439, 3652.039044849622, 4976.376204904817, 5754.191164976727, 3733.298911480058, 13111.428007749015, 6462.91690148506, 3630.2680723146677, 4714.362865778179, 28499.720117950386, 6111.595939797366, 3351.286334150405, 3748.737250126088, 4990.950490222212, 3997.3598682021757, 4172.707440183596, 17523.451801249113, 4923.5917204964835, 4115.237936229619, 7198.025033551226, 5103.38803765972, 11518.695095821353, 14516.968435671797, 18924.82281830694, 9473.715729478588, 9509.278975853384, 21480.62170327245, 10298.184179547425, 10172.035004670239, 6111.595939797366, 5944.503622276101, 4172.707440183596, 4986.985246184445, 5754.191164976727, 4144.508410710133, 17523.451801249113, 5480.18534324439, 3733.298911480058, 4416.071008471481, 4088.261032382303, 10401.009142650524, 5994.083988647439, 4860.6879108699695, 3085.663052867651, 5103.38803765972, 3467.0449510616286, 9473.715729478588, 5422.237752682422, 6462.91690148506, 4737.364773872291, 3351.286334150405, 5968.066331973572, 4990.950490222212, 8137.662655260113, 9464.902061946774, 4714.362865778179, 5478.896481510206, 9509.278975853384, 7639.147331170325, 18924.82281830694, 10718.97878169933, 28499.720117950386, 45265.30346940859, 21480.62170327245, 13111.428007749015, 10298.184179547425, 14516.968435671797, 28716.513240273318], \"Category\": [\"Default\", \"Default\", \"Default\", \"Default\", \"Default\", \"Default\", \"Default\", \"Default\", \"Default\", \"Default\", \"Default\", \"Default\", \"Default\", \"Default\", \"Default\", \"Default\", \"Default\", \"Default\", \"Default\", \"Default\", \"Default\", \"Default\", \"Default\", \"Default\", \"Default\", \"Default\", \"Default\", \"Default\", \"Default\", \"Default\", \"Topic1\", \"Topic1\", \"Topic1\", \"Topic1\", \"Topic1\", \"Topic1\", \"Topic1\", \"Topic1\", \"Topic1\", \"Topic1\", \"Topic1\", \"Topic1\", \"Topic1\", \"Topic1\", \"Topic1\", \"Topic1\", \"Topic1\", \"Topic1\", \"Topic1\", \"Topic1\", \"Topic1\", \"Topic1\", \"Topic1\", \"Topic1\", \"Topic1\", \"Topic1\", \"Topic1\", \"Topic1\", \"Topic1\", \"Topic1\", \"Topic1\", \"Topic1\", \"Topic1\", \"Topic1\", \"Topic1\", \"Topic1\", \"Topic1\", \"Topic2\", \"Topic2\", \"Topic2\", \"Topic2\", \"Topic2\", \"Topic2\", \"Topic2\", \"Topic2\", \"Topic2\", \"Topic2\", \"Topic2\", \"Topic2\", \"Topic2\", \"Topic2\", \"Topic2\", \"Topic2\", \"Topic2\", \"Topic2\", \"Topic2\", \"Topic2\", \"Topic2\", \"Topic2\", \"Topic2\", \"Topic2\", \"Topic2\", \"Topic2\", \"Topic2\", \"Topic2\", \"Topic2\", \"Topic2\", \"Topic2\", \"Topic2\", \"Topic2\", \"Topic2\", \"Topic2\", \"Topic2\", \"Topic2\", \"Topic2\", \"Topic2\", \"Topic2\", \"Topic2\", \"Topic3\", \"Topic3\", \"Topic3\", \"Topic3\", \"Topic3\", \"Topic3\", \"Topic3\", \"Topic3\", \"Topic3\", \"Topic3\", \"Topic3\", \"Topic3\", \"Topic3\", \"Topic3\", \"Topic3\", \"Topic3\", \"Topic3\", \"Topic3\", \"Topic3\", \"Topic3\", \"Topic3\", \"Topic3\", \"Topic3\", \"Topic3\", \"Topic3\", \"Topic3\", \"Topic3\", \"Topic3\", \"Topic3\", \"Topic3\", \"Topic3\", \"Topic3\", \"Topic3\", \"Topic3\", \"Topic3\", \"Topic3\", \"Topic3\", \"Topic3\", \"Topic4\", \"Topic4\", \"Topic4\", \"Topic4\", \"Topic4\", \"Topic4\", \"Topic4\", \"Topic4\", \"Topic4\", \"Topic4\", \"Topic4\", \"Topic4\", \"Topic4\", \"Topic4\", \"Topic4\", \"Topic4\", \"Topic4\", \"Topic4\", \"Topic4\", \"Topic4\", \"Topic4\", \"Topic4\", \"Topic4\", \"Topic4\", \"Topic4\", \"Topic4\", \"Topic4\", \"Topic4\", \"Topic4\", \"Topic4\", \"Topic4\", \"Topic4\", \"Topic4\", \"Topic4\", \"Topic4\", \"Topic5\", \"Topic5\", \"Topic5\", \"Topic5\", \"Topic5\", \"Topic5\", \"Topic5\", \"Topic5\", \"Topic5\", \"Topic5\", \"Topic5\", \"Topic5\", \"Topic5\", \"Topic5\", \"Topic5\", \"Topic5\", \"Topic5\", \"Topic5\", \"Topic5\", \"Topic5\", \"Topic5\", \"Topic5\", \"Topic5\", \"Topic5\", \"Topic5\", \"Topic5\", \"Topic5\", \"Topic5\", \"Topic5\", \"Topic5\", \"Topic5\", \"Topic5\", \"Topic5\", \"Topic5\", \"Topic5\", \"Topic5\", \"Topic5\", \"Topic5\", \"Topic5\", \"Topic5\", \"Topic6\", \"Topic6\", \"Topic6\", \"Topic6\", \"Topic6\", \"Topic6\", \"Topic6\", \"Topic6\", \"Topic6\", \"Topic6\", \"Topic6\", \"Topic6\", \"Topic6\", \"Topic6\", \"Topic6\", \"Topic6\", \"Topic6\", \"Topic6\", \"Topic6\", \"Topic6\", \"Topic6\", \"Topic6\", \"Topic6\", \"Topic6\", \"Topic6\", \"Topic6\", \"Topic6\", \"Topic6\", \"Topic6\", \"Topic6\", \"Topic6\", \"Topic6\", \"Topic6\", \"Topic6\", \"Topic6\", \"Topic6\", \"Topic6\", \"Topic7\", \"Topic7\", \"Topic7\", \"Topic7\", \"Topic7\", \"Topic7\", \"Topic7\", \"Topic7\", \"Topic7\", \"Topic7\", \"Topic7\", \"Topic7\", \"Topic7\", \"Topic7\", \"Topic7\", \"Topic7\", \"Topic7\", \"Topic7\", \"Topic7\", \"Topic7\", \"Topic7\", \"Topic7\", \"Topic7\", \"Topic7\", \"Topic7\", \"Topic7\", \"Topic7\", \"Topic7\", \"Topic7\", \"Topic7\", \"Topic7\", \"Topic7\", \"Topic7\", \"Topic7\", \"Topic7\", \"Topic7\", \"Topic7\", \"Topic7\", \"Topic7\", \"Topic7\"], \"logprob\": [30.0, 29.0, 28.0, 27.0, 26.0, 25.0, 24.0, 23.0, 22.0, 21.0, 20.0, 19.0, 18.0, 17.0, 16.0, 15.0, 14.0, 13.0, 12.0, 11.0, 10.0, 9.0, 8.0, 7.0, 6.0, 5.0, 4.0, 3.0, 2.0, 1.0, -3.1385, -4.0517, -3.4771, -3.7768, -4.2001, -4.1713, -3.8831, -3.7518, -3.4601, -3.4699, -4.5057, -4.3717, -2.7554, -4.5712, -3.4926, -4.1108, -4.5876, -4.5468, -4.1773, -3.7218, -4.0545, -4.6898, -3.7654, -4.6491, -4.9131, -4.5589, -4.8582, -4.8338, -4.3934, -3.1674, -2.8762, -4.0577, -4.2039, -3.619, -3.7923, -4.1027, -4.5482, -1.2575, -4.0312, -4.2509, -4.36, -4.5089, -4.8621, -4.9146, -4.1806, -4.5485, -4.6854, -4.8278, -5.0809, -4.4764, -4.65, -3.8196, -3.0671, -4.0624, -4.6376, -5.0177, -4.7699, -3.4276, -4.8886, -5.2161, -5.1334, -4.2842, -4.6093, -5.2365, -5.2433, -4.3108, -4.9879, -3.7213, -3.6801, -4.5096, -4.3688, -4.4938, -4.2007, -4.551, -4.6624, -4.7769, -4.7691, -4.7824, -3.1849, -3.1396, -3.8894, -3.6055, -3.5423, -3.7115, -3.845, -3.9979, -3.4857, -4.297, -4.2822, -3.628, -4.1044, -3.1369, -4.5537, -4.5152, -3.6699, -4.0152, -3.4415, -3.0829, -4.4066, -4.5689, -4.9047, -4.8844, -4.8009, -4.8033, -4.3277, -4.9345, -3.2741, -4.426, -4.1237, -4.2974, -3.5573, -4.2287, -4.2406, -4.3939, -4.198, -4.4664, -3.394, -1.6787, -3.263, -3.7821, -3.4443, -3.2634, -3.421, -3.7856, -4.0633, -4.4952, -4.2602, -4.157, -4.1872, -4.1047, -4.3801, -4.125, -4.6565, -4.7984, -4.7477, -4.4276, -5.0039, -4.6015, -4.0055, -3.4357, -4.2894, -5.1109, -5.1612, -3.1427, -4.1538, -5.0936, -4.5079, -3.9221, -4.16, -4.1726, -4.3611, -1.3291, -2.3232, -2.9576, -3.2603, -4.588, -4.2369, -2.5136, -4.2153, -4.4939, -4.2376, -4.5444, -4.3432, -4.5795, -4.3426, -5.1703, -5.0074, -5.1112, -5.184, -5.2236, -4.6915, -4.3648, -5.4053, -4.8122, -4.781, -5.1155, -5.4134, -5.4521, -5.4337, -5.3389, -3.9685, -4.6506, -4.6625, -4.462, -4.8792, -4.6946, -4.9231, -4.6995, -4.9866, -4.9755, -5.1058, -2.3378, -3.2177, -3.3403, -3.0551, -2.7924, -4.0492, -4.2034, -3.6014, -3.3781, -3.8563, -4.3952, -4.089, -3.9624, -4.4544, -3.2142, -4.0143, -4.639, -4.4625, -2.6878, -4.3159, -4.9211, -4.8223, -4.5822, -4.8081, -4.8054, -3.4989, -4.8255, -5.0065, -4.4491, -4.8355, -4.036, -4.1292, -4.0735, -4.5719, -4.6138, -4.6577, -4.7882, -1.3233, -2.2465, -3.3951, -4.0701, -4.2472, -4.1609, -4.5215, -3.1252, -4.3771, -4.9207, -4.7602, -4.8407, -3.9403, -4.5117, -4.7239, -5.1789, -4.6779, -5.0819, -4.1448, -4.7276, -4.5551, -4.9076, -5.329, -4.7521, -4.9479, -4.5108, -4.3769, -5.114, -4.9696, -4.4331, -4.7106, -4.1682, -4.5507, -4.0241, -3.7911, -4.4337, -4.6171, -4.7752, -4.7589, -4.7593], \"loglift\": [30.0, 29.0, 28.0, 27.0, 26.0, 25.0, 24.0, 23.0, 22.0, 21.0, 20.0, 19.0, 18.0, 17.0, 16.0, 15.0, 14.0, 13.0, 12.0, 11.0, 10.0, 9.0, 8.0, 7.0, 6.0, 5.0, 4.0, 3.0, 2.0, 1.0, 1.0347, 0.9794, 0.9601, 0.9519, 0.9342, 0.8135, 0.8086, 0.8072, 0.7834, 0.7592, 0.7574, 0.7465, 0.7385, 0.7219, 0.6964, 0.6719, 0.6141, 0.6061, 0.5974, 0.5917, 0.5796, 0.5645, 0.5472, 0.5263, 0.5212, 0.5169, 0.4936, 0.484, 0.4665, 0.4532, 0.335, 0.3755, 0.2954, 0.0785, 0.0934, 0.2061, 0.4052, 1.491, 0.9744, 0.6197, 0.5942, 0.5018, 0.4097, 0.3986, 0.3187, 0.3114, 0.271, 0.248, 0.2445, 0.2153, 0.2101, 0.168, 0.1441, 0.1267, 0.1155, 0.1148, 0.1006, 0.0663, 0.0648, 0.047, 0.042, 0.0284, 0.0247, 0.0228, 0.0005, -0.002, -0.0208, -0.0237, -0.0595, -0.0724, -0.1496, -0.1803, -0.3149, -0.3219, -0.4188, -0.2178, -0.3359, -0.6092, 1.6075, 1.5725, 1.4209, 1.3744, 1.265, 1.1781, 1.1561, 1.115, 1.1015, 0.9791, 0.9741, 0.9131, 0.8949, 0.7489, 0.7056, 0.6923, 0.5737, 0.5661, 0.5461, 0.5377, 0.4639, 0.3981, 0.367, 0.3552, 0.3455, 0.3309, 0.3064, 0.2673, 0.2198, 0.2195, 0.1897, 0.2019, -0.3537, 0.0004, -0.0515, 0.0434, -0.9869, 0.0926, 1.5481, 1.5249, 1.4096, 1.3572, 1.326, 1.3179, 1.274, 0.993, 0.9472, 0.8692, 0.8163, 0.7994, 0.7439, 0.7064, 0.6305, 0.6282, 0.5999, 0.4777, 0.4598, 0.4326, 0.359, 0.3527, 0.3033, 0.2618, 0.2517, 0.1549, 0.0784, 0.0684, 0.0654, 0.0528, 0.0199, -0.0363, -0.0429, -0.185, -1.6125, 2.1099, 1.7939, 1.6879, 1.4139, 0.7763, 0.6943, 0.69, 0.5959, 0.4482, 0.3436, 0.2065, 0.1979, 0.1971, 0.1851, 0.0861, 0.0691, 0.0417, 0.0235, 0.0202, -0.019, -0.0513, -0.0536, -0.059, -0.086, -0.105, -0.1326, -0.176, -0.1794, -0.2064, -0.2709, -0.3418, -0.4893, -0.8414, -0.5667, -0.8088, -0.694, -1.4883, -0.7975, -1.4816, -0.5185, 2.1268, 1.559, 1.5198, 1.4727, 1.4268, 1.3137, 1.0773, 1.0728, 1.0551, 0.914, 0.8706, 0.8674, 0.8487, 0.7894, 0.7734, 0.6806, 0.6327, 0.5479, 0.5234, 0.435, 0.4307, 0.4174, 0.3713, 0.3673, 0.3271, 0.1987, 0.1416, 0.1399, 0.1381, 0.0957, 0.0811, -0.2435, -0.4529, -0.2593, -0.305, -1.1637, -0.5591, 2.9181, 2.5044, 1.3835, 1.0624, 0.7071, 0.6502, 0.6178, 0.5723, 0.4828, 0.323, 0.3156, 0.3122, 0.2789, 0.2586, 0.256, 0.2554, 0.2533, 0.2359, 0.1678, 0.143, 0.1399, 0.098, 0.0228, 0.0225, 0.0056, -0.0463, -0.0634, -0.1036, -0.1094, -0.1243, -0.1829, -0.5476, -0.3617, -0.8129, -1.0426, -0.9398, -0.6295, -0.5461, -0.8731, -1.5558]}, \"token.table\": {\"Topic\": [1, 2, 3, 4, 5, 6, 7, 1, 2, 3, 4, 5, 6, 7, 1, 2, 3, 4, 5, 6, 7, 1, 2, 3, 4, 5, 6, 7, 1, 2, 3, 4, 5, 6, 7, 1, 2, 3, 4, 5, 6, 7, 1, 2, 3, 4, 5, 6, 7, 1, 2, 3, 4, 5, 6, 7, 1, 2, 3, 4, 5, 6, 7, 1, 2, 3, 4, 5, 6, 7, 1, 2, 3, 4, 5, 6, 7, 1, 2, 3, 4, 5, 6, 7, 1, 2, 3, 4, 5, 6, 7, 1, 2, 3, 4, 5, 6, 7, 1, 2, 3, 4, 5, 6, 7, 1, 2, 3, 4, 5, 6, 7, 1, 2, 3, 4, 5, 6, 7, 1, 2, 3, 4, 5, 6, 7, 1, 2, 3, 4, 5, 6, 7, 1, 2, 3, 4, 5, 6, 7, 1, 2, 3, 4, 5, 6, 7, 1, 2, 3, 4, 5, 6, 7, 1, 2, 3, 4, 5, 6, 7, 1, 2, 3, 4, 5, 6, 7, 1, 2, 3, 4, 5, 6, 7, 1, 2, 3, 4, 5, 6, 7, 1, 2, 3, 4, 5, 6, 7, 1, 2, 3, 4, 5, 6, 7, 1, 2, 3, 4, 5, 6, 7, 1, 2, 3, 4, 5, 6, 7, 1, 2, 3, 4, 5, 6, 7, 1, 2, 3, 4, 5, 6, 7, 1, 2, 3, 4, 5, 6, 7, 1, 2, 3, 4, 5, 6, 7, 1, 2, 3, 4, 5, 6, 7, 1, 2, 3, 4, 5, 6, 7, 1, 2, 3, 4, 5, 6, 7, 1, 2, 3, 4, 5, 6, 7, 1, 2, 3, 4, 5, 6, 7, 1, 2, 3, 4, 5, 6, 7, 1, 2, 3, 4, 5, 6, 7, 1, 2, 3, 4, 5, 6, 7, 1, 2, 3, 4, 5, 6, 7, 1, 2, 3, 4, 5, 6, 7, 1, 2, 3, 4, 5, 6, 7, 1, 2, 3, 4, 5, 6, 7, 1, 2, 3, 4, 5, 6, 7, 1, 2, 3, 4, 5, 6, 7, 1, 2, 3, 4, 5, 6, 7, 1, 2, 3, 4, 5, 6, 7, 1, 2, 3, 4, 5, 6, 7, 1, 2, 3, 4, 5, 6, 7, 1, 2, 3, 4, 5, 6, 7, 1, 2, 3, 4, 5, 6, 7, 1, 2, 3, 4, 5, 6, 7, 1, 2, 3, 4, 5, 6, 7, 1, 2, 3, 4, 5, 6, 7, 1, 2, 3, 4, 5, 6, 7, 1, 2, 3, 4, 5, 6, 7, 1, 2, 3, 4, 5, 6, 7, 1, 2, 3, 4, 5, 6, 7, 1, 2, 3, 4, 5, 6, 7, 1, 2, 3, 4, 5, 6, 7, 1, 2, 3, 4, 5, 6, 7, 1, 2, 3, 4, 5, 6, 7, 1, 2, 3, 4, 5, 6, 7, 1, 2, 3, 4, 5, 6, 7, 1, 2, 3, 4, 5, 6, 7, 1, 2, 3, 4, 5, 6, 7, 1, 2, 3, 4, 5, 6, 7, 1, 2, 3, 4, 5, 6, 7, 1, 2, 3, 4, 5, 6, 7, 1, 2, 3, 4, 5, 6, 7, 1, 2, 3, 4, 5, 6, 7, 1, 2, 3, 4, 5, 6, 7, 1, 2, 3, 4, 5, 6, 7, 1, 2, 3, 4, 5, 6, 7, 1, 2, 3, 4, 5, 6, 7, 1, 2, 3, 4, 5, 6, 7, 1, 2, 3, 4, 5, 6, 7, 5, 6, 1, 2, 3, 4, 5, 6, 7, 1, 2, 3, 4, 5, 6, 7, 1, 2, 3, 4, 5, 6, 7, 1, 2, 3, 4, 5, 6, 7, 1, 2, 3, 4, 5, 6, 7, 1, 2, 3, 4, 5, 6, 7, 1, 2, 3, 4, 5, 6, 7, 1, 2, 3, 4, 5, 6, 7, 1, 2, 3, 4, 5, 6, 7, 1, 2, 3, 4, 5, 6, 7, 1, 2, 3, 4, 5, 6, 7, 1, 2, 3, 4, 5, 6, 7, 1, 2, 3, 4, 5, 6, 7, 1, 2, 3, 4, 5, 6, 7, 1, 2, 3, 4, 5, 6, 7], \"Freq\": [0.009308443802891916, 0.25552590831468003, 0.008030814261318516, 0.20934872631209858, 0.0025552590831468005, 0.4703501898049503, 0.04489955246100806, 0.09022177759650749, 0.1997552400297256, 0.05944377988799992, 0.19462557374497436, 0.03258846816194919, 0.3826127558273294, 0.0410373302780101, 0.00583909068779961, 0.12829316396908286, 0.005338597200273929, 0.5116711754137544, 0.027360310651403884, 0.2565863279381657, 0.06489732221582994, 0.5188694852703204, 0.217105916205213, 0.08875399090150217, 0.039324845199434806, 0.06117198142134303, 0.0532523945409013, 0.021574047019134374, 0.112939317932679, 0.31182270219461616, 0.201362540021435, 0.10054353913518985, 0.05564327371317356, 0.1936496109918862, 0.023965172341812373, 0.1002334868797959, 0.08596238740779816, 0.0728665549511414, 0.09788295284911391, 0.14757995806924723, 0.4890789736697579, 0.006212125652516664, 0.2573525739237022, 0.2119214112965793, 0.2826525626921, 0.1237795149421612, 0.04597524840708845, 0.050327934646812796, 0.028020417668225505, 0.4117717829443996, 0.2158924961610066, 0.11807793532792017, 0.023515521018695966, 0.044279225747970066, 0.14859807962878088, 0.03777493270024565, 0.3648603614817513, 0.22099998831102236, 0.11400634029825178, 0.01562828566478671, 0.08495375797268674, 0.14906980172565787, 0.05029102181873673, 0.1749845734401492, 0.23238344945144462, 0.15153303266981993, 0.254687012701548, 0.11430576165677975, 0.060186821417558344, 0.011971765568070189, 0.14758333428466955, 0.1358330688161449, 0.4255946152699627, 0.11820767061335793, 0.0831918795171545, 0.08013681049533808, 0.009400212374819717, 0.11436820800631053, 0.14573501610930711, 0.05380614005360179, 0.5279275086873575, 0.04053556739464171, 0.02485216334314343, 0.09289400861272058, 0.2736832179995233, 0.2322233259558127, 0.027320391288919138, 0.08052325853576167, 0.09873685272837443, 0.14259327032374464, 0.1449897958754042, 0.30853293082631084, 0.2288639373314117, 0.22204043557374673, 0.055141270960589926, 0.07579619520000823, 0.0752429383007381, 0.034486346721171623, 0.4096364309205134, 0.19250319617625392, 0.061899175874856056, 0.12217795447550123, 0.061899175874856056, 0.08685329389770378, 0.06481589096843567, 0.07815008326440263, 0.11126896277176254, 0.03573697274904844, 0.13862803714740768, 0.14582779356205114, 0.44861027696332967, 0.04175858720493206, 0.1126697943143835, 0.16379492909575602, 0.4199763109893727, 0.09433143075149987, 0.0722420382780264, 0.11808794718523546, 0.018894071549637674, 0.09376863795854873, 0.1712633800730518, 0.2789810716122111, 0.21517706727127023, 0.12399158738320493, 0.09557684860788714, 0.021181896177964177, 0.19407844211198585, 0.062481849784514924, 0.34782889625264996, 0.1747103952573379, 0.14778085065806715, 0.04987935354347688, 0.02321512465454376, 0.20409910749181442, 0.13173827039972077, 0.4945811281629464, 0.05487651999567869, 0.07288017324347233, 0.02994838472950288, 0.011944731481709242, 0.5488835454303095, 0.18688916198455735, 0.08703577123395868, 0.050236799073282566, 0.036592236362020636, 0.06491504077782191, 0.025221767435969024, 0.4461554645245151, 0.1465170631854082, 0.05894926916140797, 0.09833031619454774, 0.12645963550393327, 0.055280227512357685, 0.06848877744893872, 0.40805503275268207, 0.26539428323315395, 0.08084109139439928, 0.04800647444149201, 0.084237775906769, 0.04483623556328027, 0.06861302714986829, 0.50090777304039, 0.18404139526315455, 0.14070443062932306, 0.044181191217607434, 0.07823166342990362, 0.021105664594398457, 0.03095497473845107, 0.488199492374626, 0.23500373042073053, 0.13256859901860185, 0.034051751331308715, 0.054576094599494786, 0.020710928206987764, 0.034891383555916325, 0.2515513723903382, 0.14351499294379846, 0.1990003433756016, 0.14698282734578616, 0.06402155819054207, 0.1560525480894463, 0.038679691406785836, 0.3986528952736274, 0.09459054476178134, 0.1056310815320839, 0.07668697162075018, 0.11488126098828334, 0.158148229412442, 0.05132357633762269, 0.02132121487961407, 0.11991051248294954, 0.696606732546751, 0.08630827783267776, 0.01859209937502347, 0.045883254420929484, 0.011428171175473142, 0.19714467484421558, 0.20705548050893838, 0.0546433609622554, 0.12134040448971421, 0.12375114100275489, 0.22660923222582388, 0.06910778004049949, 0.43972985380727175, 0.1728491208141991, 0.1687286344378215, 0.029266018621964027, 0.1151623115449126, 0.027152948685360126, 0.04701580608943679, 0.4763535672973424, 0.18800763134820642, 0.14814258103537917, 0.025844714821451554, 0.07314223214175505, 0.06266921044940214, 0.025675795116736184, 0.27593707931431055, 0.160336736141081, 0.4533789068842759, 0.015413379089763939, 0.05375885877649374, 0.030450822104167784, 0.010714178147762739, 0.001856746757372452, 0.1394107356993816, 0.000928373378686226, 0.48569400594934387, 0.11125007654589941, 0.2031590410358358, 0.057559149478546005, 0.07997787619186088, 0.27148269028945743, 0.035568050467234616, 0.3022279542526602, 0.03436235384122666, 0.24495736451728245, 0.03154906171387477, 0.16081921150886735, 0.3847120128526345, 0.12227423994309525, 0.13776599884991275, 0.042417911292476476, 0.0940571076485348, 0.05772524449802234, 0.05163878130062373, 0.18845069191781408, 0.5517737507899316, 0.0491699949436218, 0.008229287856673104, 0.08620179029865077, 0.0648056418713007, 0.022972368324472615, 0.03961260948258419, 0.17391260891796256, 0.0665609646324463, 0.6557433086466447, 0.021058004297433233, 0.0201744516695689, 0.07805932858315433, 0.1964210279021764, 0.04305990136516394, 0.35020638992061903, 0.10924063646827305, 0.17796678445996328, 0.04518107877231487, 0.38283053265849043, 0.19508769172879872, 0.23899827456374773, 0.03646005072938004, 0.052259406045444726, 0.06541672869996012, 0.02895667797058009, 0.6478958030531371, 0.14616633257381936, 0.1440009054245776, 0.016673789049161617, 0.03031598008938476, 0.0036812261537110063, 0.011260221176057196, 0.5325999116269392, 0.13615484237299852, 0.24777816828371294, 0.019211428554800805, 0.04650150911726143, 0.0034482051252206574, 0.014285421233057009, 0.07540771227711576, 0.09927777947274953, 0.36971479076873665, 0.24765194715470035, 0.13209912186674597, 0.06510018326081937, 0.010578779779883148, 0.2091937021026694, 0.07933305181320195, 0.6725994650750237, 0.02534250266255062, 0.00047222054650715445, 0.011490699965007425, 0.0012592547906857452, 0.5092031390475844, 0.2212226473536406, 0.1738776489616683, 0.016433416354342412, 0.027559723744392937, 0.03212197531018771, 0.019552506710549044, 0.3486275835629893, 0.18501175012187518, 0.3414956113360689, 0.022234972236869353, 0.030625527797952128, 0.044679708362765774, 0.027269305573519018, 0.4497306637767946, 0.18903584725283887, 0.18235795047488532, 0.0477726461807446, 0.0739705489250239, 0.03390316825730262, 0.023372638722837413, 0.2772366348569529, 0.20269755427636554, 0.20777514832136468, 0.1070356824685818, 0.051588355497191235, 0.11861259689117984, 0.03493384702959406, 0.513394117983785, 0.1519155167342723, 0.12734442227025317, 0.031186389127408936, 0.07536710705790493, 0.06851555187082266, 0.032367691745871396, 0.5461127945535008, 0.2567855981167972, 0.1141269324963543, 0.009870437405090101, 0.025292995850543388, 0.02236270974590726, 0.025601447019452453, 0.4205319342233705, 0.213010402425392, 0.10344410028586924, 0.055627592704748055, 0.06882199325141505, 0.07937751368874864, 0.059216469653441475, 0.3948607587509947, 0.1765191996753899, 0.10556540372743906, 0.09345134100461817, 0.0749918168555578, 0.0914323305508147, 0.06345461426239506, 0.01633591886417284, 0.14389511510143735, 0.007994173061190964, 0.27527761149840185, 0.22001354555364697, 0.24034655094841528, 0.09593007673429156, 0.3879430834617285, 0.28265467369812675, 0.05255296709171111, 0.08758827848618518, 0.04926840664847917, 0.05875713681781589, 0.08120163317990084, 0.2631901552450554, 0.20218619254840228, 0.051359744085114886, 0.17650632050584483, 0.0924475393532068, 0.12548897471463072, 0.08879529088493196, 0.0705245568881396, 0.04635602896579963, 0.01307477740061015, 0.6388811684389051, 0.18978237499673523, 0.03229073812574931, 0.009310826330737532, 0.14827472309015055, 0.02511592248261734, 0.06899313645827414, 0.5561815123259117, 0.11892237994781463, 0.0497779427516934, 0.03268095937497196, 0.17871553809642346, 0.173990554974123, 0.07031886646717751, 0.12896424522043623, 0.10617315015992809, 0.30212097964356505, 0.03974544626405685, 0.3401436912320514, 0.23912515532766973, 0.052035598730878097, 0.1454751128376403, 0.02736868982473696, 0.17365082813156824, 0.02221074443469038, 0.001597510311096137, 0.07938397392062344, 0.0003686562256375701, 0.002826364396554704, 0.005161187158925981, 0.8629013388090058, 0.047802423924338255, 0.26924324113690246, 0.18662347400102985, 0.19731544386567218, 0.143126596597144, 0.047870865075785, 0.11834066645638221, 0.03766489384135368, 0.4279655171433306, 0.10502885556711718, 0.1383240855536002, 0.10042707581288782, 0.10123915459304594, 0.1047581626403978, 0.022196819990988683, 0.0005208923363356171, 0.013282754576558238, 0.0007813385045034257, 0.13013626869451503, 0.728902009312307, 0.11155777536521135, 0.014758616196175819, 0.09067199454302316, 0.18168043433481448, 0.009756912214277075, 0.3667253211573107, 0.07721418459229616, 0.07418617735338258, 0.19984847776829592, 0.6355288619292538, 0.19263160800903628, 0.14575911245376488, 0.0020327357766316678, 0.008848379262984906, 0.0040654715532633355, 0.011239833117845693, 0.4421867742759006, 0.17426079774419728, 0.13237118290184216, 0.07121234523200369, 0.07339060520380616, 0.055294291591908754, 0.05127288856704266, 0.009959426397174878, 0.0012536340919520827, 0.0979923981875878, 0.6242053082844745, 0.2417076175622057, 0.014277499380565386, 0.01058624344315092, 0.298971142525016, 0.20664027262105397, 0.10421400008522365, 0.18403077714343227, 0.08612640370312631, 0.0758206801830941, 0.04427254695850571, 0.19672173515621702, 0.05046471547018164, 0.10485782196498819, 0.32394116756907015, 0.26350438257484066, 0.028405288947287867, 0.03203149604694164, 0.011288999759945196, 0.9196005949265729, 0.013785393053240318, 0.02708476263344973, 0.004352119281231318, 0.006207845269167515, 0.017651488861440728, 9.8308745451709e-05, 0.000393234981806836, 0.000393234981806836, 0.03303173847177422, 0.031655416035450294, 0.007373155908878174, 0.9270514696096158, 0.006217688534111422, 0.017671325307474568, 0.0014726104422895473, 0.053832092834806784, 0.14906090143619752, 0.1588783043847945, 0.6129331907574049, 0.3291021589228139, 0.07103226674068397, 0.44363643517628365, 0.10003360641587447, 0.040139535347546274, 0.010717886401700837, 0.005253865883186684, 0.6191448041234048, 0.11259360726400808, 0.1944580423962613, 0.008402508004776722, 0.045853686540352975, 0.011283367892128741, 0.008402508004776722, 0.6303918475815956, 0.12322968333024338, 0.14275438640334687, 0.0273665920123008, 0.04545094813738847, 0.010882621385008506, 0.020004818722442107, 0.6847249846978721, 0.11257514164403798, 0.0922822327506184, 0.009641427302303416, 0.0742849017863187, 0.009090488599314649, 0.01735456914414615, 0.26713566383948256, 0.15113348284265724, 0.295171820410568, 0.13101909041327897, 0.054005765974769034, 0.08066422443425324, 0.020941011296339015, 0.1937324242781667, 0.11555969167469593, 0.14252361973212496, 0.30725282727625036, 0.12983471241098188, 0.10468348539943043, 0.006117866029836843, 0.2001621535319867, 0.16511324019122842, 0.14758878352084928, 0.15854156893983623, 0.050656632562814684, 0.24561621302078257, 0.03231071698601153, 0.029275761919763298, 0.03010432121937924, 0.24580592555272957, 0.5074925710147646, 0.17095940215408945, 0.012980762360649763, 0.0033142371984637695, 0.08382630892171024, 0.14137044177885785, 0.37154697320744834, 0.21911035203298518, 0.10180885043956886, 0.07801656473901744, 0.004426471758242125, 0.9999052299727702, 8.813231941939713e-05, 0.36386791249991685, 0.2644726840055306, 0.16740249009580838, 0.0839918743709872, 0.06858852024758816, 0.019472164646561044, 0.032550484185296075, 0.11567612505212858, 0.548617242719858, 0.032507524193481394, 0.12010896926033059, 0.029552294721346718, 0.09836692385819694, 0.055305008692806, 0.2526576554370257, 0.37517656612910716, 0.013635492515649003, 0.19330315860420058, 0.030078292313931627, 0.03348716544284388, 0.10166462802108889, 0.1924325829667379, 0.342008074688403, 0.057920722326261796, 0.2552330731080327, 0.037128668157860124, 0.07383300867963043, 0.041584108336803344, 0.5453613208252852, 0.16652563362495706, 0.15315496231200432, 0.028362030057778577, 0.03524995164323909, 0.048890737528170684, 0.02255456676023344, 0.4344065310484151, 0.21225359325354864, 0.18968891084319198, 0.04804093674463035, 0.07118793353977043, 0.018779638909264592, 0.02576741152666537, 0.5198974796579423, 0.1500264486498918, 0.13963626741653362, 0.04204624742097292, 0.06059320644500485, 0.05884532548986048, 0.02903424475489816, 0.1238392995665324, 0.08915645775755102, 0.08073068262881543, 0.28588850960058665, 0.2427798926628697, 0.11325809359091096, 0.06446697714776765, 0.09303831996256, 0.09532849399240763, 0.5779826707827957, 0.09876375503717907, 0.07700710175362659, 0.04809365462680024, 0.00973323962685243, 0.11911443559798003, 0.008638069757105422, 0.03682545528029154, 0.03576463969608561, 0.49858332457678667, 0.3008169906641099, 0.00015154508345798987, 0.3269819303079473, 0.28474146304637593, 0.17087032389244095, 0.1049650165385434, 0.04300384920003354, 0.05470903892311959, 0.014885947800011609, 0.2555313775739028, 0.3083603365330018, 0.15877399078468343, 0.1277656887869514, 0.06058103445853202, 0.0600068066437592, 0.028711390738640766, 0.35417687628613986, 0.1479111231833846, 0.11432743820937939, 0.06800100751828711, 0.01988821060517329, 0.29546497312236486, 0.00023818216293620707, 0.09047199046689827, 0.17825193445869225, 0.06037875665591086, 0.14508207610472848, 0.031150823497635538, 0.42851611212642465, 0.06624357219095953, 0.12744607216028783, 0.24490086038700434, 0.2410111238937819, 0.11287862764645482, 0.02410111238937819, 0.22293528960174827, 0.026694270051526477], \"Term\": [\"000\", \"000\", \"000\", \"000\", \"000\", \"000\", \"000\", \"10\", \"10\", \"10\", \"10\", \"10\", \"10\", \"10\", \"according\", \"according\", \"according\", \"according\", \"according\", \"according\", \"according\", \"actually\", \"actually\", \"actually\", \"actually\", \"actually\", \"actually\", \"actually\", \"ago\", \"ago\", \"ago\", \"ago\", \"ago\", \"ago\", \"ago\", \"american\", \"american\", \"american\", \"american\", \"american\", \"american\", \"american\", \"away\", \"away\", \"away\", \"away\", \"away\", \"away\", \"away\", \"better\", \"better\", \"better\", \"better\", \"better\", \"better\", \"better\", \"big\", \"big\", \"big\", \"big\", \"big\", \"big\", \"big\", \"called\", \"called\", \"called\", \"called\", \"called\", \"called\", \"called\", \"came\", \"came\", \"came\", \"came\", \"came\", \"came\", \"came\", \"case\", \"case\", \"case\", \"case\", \"case\", \"case\", \"case\", \"change\", \"change\", \"change\", \"change\", \"change\", \"change\", \"change\", \"come\", \"come\", \"come\", \"come\", \"come\", \"come\", \"come\", \"comes\", \"comes\", \"comes\", \"comes\", \"comes\", \"comes\", \"comes\", \"country\", \"country\", \"country\", \"country\", \"country\", \"country\", \"country\", \"day\", \"day\", \"day\", \"day\", \"day\", \"day\", \"day\", \"days\", \"days\", \"days\", \"days\", \"days\", \"days\", \"days\", \"did\", \"did\", \"did\", \"did\", \"did\", \"did\", \"did\", \"didn\", \"didn\", \"didn\", \"didn\", \"didn\", \"didn\", \"didn\", \"different\", \"different\", \"different\", \"different\", \"different\", \"different\", \"different\", \"does\", \"does\", \"does\", \"does\", \"does\", \"does\", \"does\", \"doesn\", \"doesn\", \"doesn\", \"doesn\", \"doesn\", \"doesn\", \"doesn\", \"doing\", \"doing\", \"doing\", \"doing\", \"doing\", \"doing\", \"doing\", \"don\", \"don\", \"don\", \"don\", \"don\", \"don\", \"don\", \"end\", \"end\", \"end\", \"end\", \"end\", \"end\", \"end\", \"fact\", \"fact\", \"fact\", \"fact\", \"fact\", \"fact\", \"fact\", \"family\", \"family\", \"family\", \"family\", \"family\", \"family\", \"family\", \"far\", \"far\", \"far\", \"far\", \"far\", \"far\", \"far\", \"going\", \"going\", \"going\", \"going\", \"going\", \"going\", \"going\", \"good\", \"good\", \"good\", \"good\", \"good\", \"good\", \"good\", \"got\", \"got\", \"got\", \"got\", \"got\", \"got\", \"got\", \"government\", \"government\", \"government\", \"government\", \"government\", \"government\", \"government\", \"group\", \"group\", \"group\", \"group\", \"group\", \"group\", \"group\", \"help\", \"help\", \"help\", \"help\", \"help\", \"help\", \"help\", \"home\", \"home\", \"home\", \"home\", \"home\", \"home\", \"home\", \"house\", \"house\", \"house\", \"house\", \"house\", \"house\", \"house\", \"including\", \"including\", \"including\", \"including\", \"including\", \"including\", \"including\", \"just\", \"just\", \"just\", \"just\", \"just\", \"just\", \"just\", \"kind\", \"kind\", \"kind\", \"kind\", \"kind\", \"kind\", \"kind\", \"know\", \"know\", \"know\", \"know\", \"know\", \"know\", \"know\", \"later\", \"later\", \"later\", \"later\", \"later\", \"later\", \"later\", \"life\", \"life\", \"life\", \"life\", \"life\", \"life\", \"life\", \"like\", \"like\", \"like\", \"like\", \"like\", \"like\", \"like\", \"little\", \"little\", \"little\", \"little\", \"little\", \"little\", \"little\", \"ll\", \"ll\", \"ll\", \"ll\", \"ll\", \"ll\", \"ll\", \"long\", \"long\", \"long\", \"long\", \"long\", \"long\", \"long\", \"look\", \"look\", \"look\", \"look\", \"look\", \"look\", \"look\", \"lot\", \"lot\", \"lot\", \"lot\", \"lot\", \"lot\", \"lot\", \"make\", \"make\", \"make\", \"make\", \"make\", \"make\", \"make\", \"making\", \"making\", \"making\", \"making\", \"making\", \"making\", \"making\", \"national\", \"national\", \"national\", \"national\", \"national\", \"national\", \"national\", \"need\", \"need\", \"need\", \"need\", \"need\", \"need\", \"need\", \"new\", \"new\", \"new\", \"new\", \"new\", \"new\", \"new\", \"news\", \"news\", \"news\", \"news\", \"news\", \"news\", \"news\", \"npr\", \"npr\", \"npr\", \"npr\", \"npr\", \"npr\", \"npr\", \"past\", \"past\", \"past\", \"past\", \"past\", \"past\", \"past\", \"people\", \"people\", \"people\", \"people\", \"people\", \"people\", \"people\", \"percent\", \"percent\", \"percent\", \"percent\", \"percent\", \"percent\", \"percent\", \"place\", \"place\", \"place\", \"place\", \"place\", \"place\", \"place\", \"point\", \"point\", \"point\", \"point\", \"point\", \"point\", \"point\", \"president\", \"president\", \"president\", \"president\", \"president\", \"president\", \"president\", \"public\", \"public\", \"public\", \"public\", \"public\", \"public\", \"public\", \"really\", \"really\", \"really\", \"really\", \"really\", \"really\", \"really\", \"right\", \"right\", \"right\", \"right\", \"right\", \"right\", \"right\", \"said\", \"said\", \"said\", \"said\", \"said\", \"said\", \"said\", \"say\", \"say\", \"say\", \"say\", \"say\", \"say\", \"say\", \"saying\", \"saying\", \"saying\", \"saying\", \"saying\", \"saying\", \"saying\", \"says\", \"says\", \"says\", \"says\", \"says\", \"says\", \"says\", \"state\", \"state\", \"state\", \"state\", \"state\", \"state\", \"state\", \"states\", \"states\", \"states\", \"states\", \"states\", \"states\", \"states\", \"story\", \"story\", \"story\", \"story\", \"story\", \"story\", \"story\", \"thing\", \"thing\", \"thing\", \"thing\", \"thing\", \"thing\", \"thing\", \"things\", \"things\", \"things\", \"things\", \"things\", \"things\", \"things\", \"think\", \"think\", \"think\", \"think\", \"think\", \"think\", \"think\", \"time\", \"time\", \"time\", \"time\", \"time\", \"time\", \"time\", \"times\", \"times\", \"times\", \"times\", \"times\", \"times\", \"times\", \"today\", \"today\", \"today\", \"today\", \"today\", \"today\", \"today\", \"told\", \"told\", \"told\", \"told\", \"told\", \"told\", \"told\", \"took\", \"took\", \"took\", \"took\", \"took\", \"took\", \"took\", \"trump\", \"trump\", \"trying\", \"trying\", \"trying\", \"trying\", \"trying\", \"trying\", \"trying\", \"university\", \"university\", \"university\", \"university\", \"university\", \"university\", \"university\", \"use\", \"use\", \"use\", \"use\", \"use\", \"use\", \"use\", \"used\", \"used\", \"used\", \"used\", \"used\", \"used\", \"used\", \"ve\", \"ve\", \"ve\", \"ve\", \"ve\", \"ve\", \"ve\", \"want\", \"want\", \"want\", \"want\", \"want\", \"want\", \"want\", \"way\", \"way\", \"way\", \"way\", \"way\", \"way\", \"way\", \"week\", \"week\", \"week\", \"week\", \"week\", \"week\", \"week\", \"went\", \"went\", \"went\", \"went\", \"went\", \"went\", \"went\", \"white\", \"white\", \"white\", \"white\", \"white\", \"white\", \"white\", \"work\", \"work\", \"work\", \"work\", \"work\", \"work\", \"work\", \"working\", \"working\", \"working\", \"working\", \"working\", \"working\", \"working\", \"world\", \"world\", \"world\", \"world\", \"world\", \"world\", \"world\", \"year\", \"year\", \"year\", \"year\", \"year\", \"year\", \"year\", \"years\", \"years\", \"years\", \"years\", \"years\", \"years\", \"years\"]}, \"R\": 30, \"lambda.step\": 0.01, \"plot.opts\": {\"xlab\": \"PC1\", \"ylab\": \"PC2\"}, \"topic.order\": [3, 5, 6, 4, 7, 2, 1]};\n",
       "\n",
       "function LDAvis_load_lib(url, callback){\n",
       "  var s = document.createElement('script');\n",
       "  s.src = url;\n",
       "  s.async = true;\n",
       "  s.onreadystatechange = s.onload = callback;\n",
       "  s.onerror = function(){console.warn(\"failed to load library \" + url);};\n",
       "  document.getElementsByTagName(\"head\")[0].appendChild(s);\n",
       "}\n",
       "\n",
       "if(typeof(LDAvis) !== \"undefined\"){\n",
       "   // already loaded: just create the visualization\n",
       "   !function(LDAvis){\n",
       "       new LDAvis(\"#\" + \"ldavis_el2017220564630361767864481808\", ldavis_el2017220564630361767864481808_data);\n",
       "   }(LDAvis);\n",
       "}else if(typeof define === \"function\" && define.amd){\n",
       "   // require.js is available: use it to load d3/LDAvis\n",
       "   require.config({paths: {d3: \"https://d3js.org/d3.v5\"}});\n",
       "   require([\"d3\"], function(d3){\n",
       "      window.d3 = d3;\n",
       "      LDAvis_load_lib(\"https://cdn.jsdelivr.net/gh/bmabey/pyLDAvis@3.4.0/pyLDAvis/js/ldavis.v3.0.0.js\", function(){\n",
       "        new LDAvis(\"#\" + \"ldavis_el2017220564630361767864481808\", ldavis_el2017220564630361767864481808_data);\n",
       "      });\n",
       "    });\n",
       "}else{\n",
       "    // require.js not available: dynamically load d3 & LDAvis\n",
       "    LDAvis_load_lib(\"https://d3js.org/d3.v5.js\", function(){\n",
       "         LDAvis_load_lib(\"https://cdn.jsdelivr.net/gh/bmabey/pyLDAvis@3.4.0/pyLDAvis/js/ldavis.v3.0.0.js\", function(){\n",
       "                 new LDAvis(\"#\" + \"ldavis_el2017220564630361767864481808\", ldavis_el2017220564630361767864481808_data);\n",
       "            })\n",
       "         });\n",
       "}\n",
       "</script>"
      ],
      "text/plain": [
       "PreparedData(topic_coordinates=              x         y  topics  cluster       Freq\n",
       "topic                                                \n",
       "2     -0.123896 -0.064762       1        1  24.331129\n",
       "4     -0.119128  0.029904       2        1  20.704365\n",
       "5     -0.074972 -0.123621       3        1  13.958827\n",
       "3      0.107343  0.012570       4        1  13.585422\n",
       "6      0.184660 -0.091761       5        1  12.123409\n",
       "1      0.026972  0.075075       6        1  10.287665\n",
       "0     -0.000979  0.162596       7        1   5.009182, topic_info=       Term          Freq         Total Category  logprob  loglift\n",
       "80    trump  22693.000000  22693.000000  Default  30.0000  30.0000\n",
       "68     says  45265.000000  45265.000000  Default  29.0000  29.0000\n",
       "69    state  10172.000000  10172.000000  Default  28.0000  28.0000\n",
       "65     said  28716.000000  28716.000000  Default  27.0000  27.0000\n",
       "58  percent   8137.000000   8137.000000  Default  26.0000  26.0000\n",
       "..      ...           ...           ...      ...      ...      ...\n",
       "43     like    420.388969  21480.621703   Topic7  -4.4337  -0.9398\n",
       "95    years    349.961968  13111.428008   Topic7  -4.6171  -0.6295\n",
       "87      way    298.786676  10298.184180   Topic7  -4.7752  -0.5461\n",
       "75     time    303.709706  14516.968436   Topic7  -4.7589  -0.8731\n",
       "65     said    303.560085  28716.513240   Topic7  -4.7593  -1.5558\n",
       "\n",
       "[298 rows x 6 columns], token_table=      Topic      Freq   Term\n",
       "term                        \n",
       "0         1  0.009308    000\n",
       "0         2  0.255526    000\n",
       "0         3  0.008031    000\n",
       "0         4  0.209349    000\n",
       "0         5  0.002555    000\n",
       "...     ...       ...    ...\n",
       "95        3  0.241011  years\n",
       "95        4  0.112879  years\n",
       "95        5  0.024101  years\n",
       "95        6  0.222935  years\n",
       "95        7  0.026694  years\n",
       "\n",
       "[667 rows x 3 columns], R=30, lambda_step=0.01, plot_opts={'xlab': 'PC1', 'ylab': 'PC2'}, topic_order=[3, 5, 6, 4, 7, 2, 1])"
      ]
     },
     "execution_count": 44,
     "metadata": {},
     "output_type": "execute_result"
    }
   ],
   "source": [
    "pyLDAvis.lda_model.prepare(LDA, dtm, cv)"
   ]
  },
  {
   "cell_type": "markdown",
   "metadata": {},
   "source": [
    "pyLDAvis reference paper: https://cran.r-project.org/web/packages/LDAvis/vignettes/details.pdf\n",
    "relevance definition: https://nlp.stanford.edu/events/illvi2014/papers/sievert-illvi2014.pdf"
   ]
  },
  {
   "cell_type": "code",
   "execution_count": null,
   "metadata": {},
   "outputs": [],
   "source": []
  }
 ],
 "metadata": {
  "kernelspec": {
   "display_name": "Python 3 (ipykernel)",
   "language": "python",
   "name": "python3"
  },
  "language_info": {
   "codemirror_mode": {
    "name": "ipython",
    "version": 3
   },
   "file_extension": ".py",
   "mimetype": "text/x-python",
   "name": "python",
   "nbconvert_exporter": "python",
   "pygments_lexer": "ipython3",
   "version": "3.10.9"
  }
 },
 "nbformat": 4,
 "nbformat_minor": 2
}

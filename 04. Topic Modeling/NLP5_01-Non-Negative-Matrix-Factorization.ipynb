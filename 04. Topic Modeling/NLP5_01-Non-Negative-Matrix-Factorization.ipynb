{
 "cells": [
  {
   "cell_type": "markdown",
   "metadata": {},
   "source": [
    "___\n",
    "\n",
    "TEXT MINING - #5 TOPIC MODELLING\n",
    "___"
   ]
  },
  {
   "cell_type": "markdown",
   "metadata": {},
   "source": [
    "# Non-Negative Matric Factorization\n",
    "\n",
    "Let's repeat thet opic modeling task from the previous lecture, but this time, we will use NMF instead of LDA."
   ]
  },
  {
   "cell_type": "markdown",
   "metadata": {},
   "source": [
    "## Data\n",
    "\n",
    "We will be using articles scraped from NPR (National Public Radio), obtained from their website [www.npr.org](http://www.npr.org)"
   ]
  },
  {
   "cell_type": "code",
   "execution_count": 1,
   "metadata": {},
   "outputs": [],
   "source": [
    "import pandas as pd"
   ]
  },
  {
   "cell_type": "code",
   "execution_count": null,
   "metadata": {},
   "outputs": [],
   "source": [
    "url ='https://raw.githubusercontent.com/nluninja/text-mining-dataviz/refs/heads/main/4.%20Topic%20Modeling/npr.csv'"
   ]
  },
  {
   "cell_type": "code",
   "execution_count": 2,
   "metadata": {},
   "outputs": [],
   "source": [
    "npr = pd.read_csv(url)"
   ]
  },
  {
   "cell_type": "code",
   "execution_count": 3,
   "metadata": {},
   "outputs": [
    {
     "data": {
      "text/html": [
       "<div>\n",
       "<style scoped>\n",
       "    .dataframe tbody tr th:only-of-type {\n",
       "        vertical-align: middle;\n",
       "    }\n",
       "\n",
       "    .dataframe tbody tr th {\n",
       "        vertical-align: top;\n",
       "    }\n",
       "\n",
       "    .dataframe thead th {\n",
       "        text-align: right;\n",
       "    }\n",
       "</style>\n",
       "<table border=\"1\" class=\"dataframe\">\n",
       "  <thead>\n",
       "    <tr style=\"text-align: right;\">\n",
       "      <th></th>\n",
       "      <th>Article</th>\n",
       "    </tr>\n",
       "  </thead>\n",
       "  <tbody>\n",
       "    <tr>\n",
       "      <th>0</th>\n",
       "      <td>In the Washington of 2016, even when the polic...</td>\n",
       "    </tr>\n",
       "    <tr>\n",
       "      <th>1</th>\n",
       "      <td>Donald Trump has used Twitter  —   his prefe...</td>\n",
       "    </tr>\n",
       "    <tr>\n",
       "      <th>2</th>\n",
       "      <td>Donald Trump is unabashedly praising Russian...</td>\n",
       "    </tr>\n",
       "    <tr>\n",
       "      <th>3</th>\n",
       "      <td>Updated at 2:50 p. m. ET, Russian President Vl...</td>\n",
       "    </tr>\n",
       "    <tr>\n",
       "      <th>4</th>\n",
       "      <td>From photography, illustration and video, to d...</td>\n",
       "    </tr>\n",
       "  </tbody>\n",
       "</table>\n",
       "</div>"
      ],
      "text/plain": [
       "                                             Article\n",
       "0  In the Washington of 2016, even when the polic...\n",
       "1    Donald Trump has used Twitter  —   his prefe...\n",
       "2    Donald Trump is unabashedly praising Russian...\n",
       "3  Updated at 2:50 p. m. ET, Russian President Vl...\n",
       "4  From photography, illustration and video, to d..."
      ]
     },
     "execution_count": 3,
     "metadata": {},
     "output_type": "execute_result"
    }
   ],
   "source": [
    "npr.head()"
   ]
  },
  {
   "cell_type": "markdown",
   "metadata": {},
   "source": [
    "Notice how we don't have the topic of the articles! Let's use LDA to attempt to figure out clusters of the articles."
   ]
  },
  {
   "cell_type": "markdown",
   "metadata": {},
   "source": [
    "## Preprocessing"
   ]
  },
  {
   "cell_type": "code",
   "execution_count": 4,
   "metadata": {},
   "outputs": [],
   "source": [
    "from sklearn.feature_extraction.text import TfidfVectorizer"
   ]
  },
  {
   "cell_type": "markdown",
   "metadata": {},
   "source": [
    "**`max_df`**` : float in range [0.0, 1.0] or int, default=1.0`<br>\n",
    "When building the vocabulary ignore terms that have a document frequency strictly higher than the given threshold (corpus-specific stop words). If float, the parameter represents a proportion of documents, integer absolute counts. This parameter is ignored if vocabulary is not None.\n",
    "\n",
    "**`min_df`**` : float in range [0.0, 1.0] or int, default=1`<br>\n",
    "When building the vocabulary ignore terms that have a document frequency strictly lower than the given threshold. This value is also called cut-off in the literature. If float, the parameter represents a proportion of documents, integer absolute counts. This parameter is ignored if vocabulary is not None."
   ]
  },
  {
   "cell_type": "code",
   "execution_count": 5,
   "metadata": {},
   "outputs": [],
   "source": [
    "tfidf = TfidfVectorizer(max_df=0.95, min_df=0.2, stop_words='english')"
   ]
  },
  {
   "cell_type": "code",
   "execution_count": 6,
   "metadata": {},
   "outputs": [],
   "source": [
    "dtm = tfidf.fit_transform(npr['Article'])"
   ]
  },
  {
   "cell_type": "code",
   "execution_count": 7,
   "metadata": {},
   "outputs": [
    {
     "data": {
      "text/plain": [
       "<11992x96 sparse matrix of type '<class 'numpy.float64'>'\n",
       "\twith 349867 stored elements in Compressed Sparse Row format>"
      ]
     },
     "execution_count": 7,
     "metadata": {},
     "output_type": "execute_result"
    }
   ],
   "source": [
    "dtm"
   ]
  },
  {
   "cell_type": "markdown",
   "metadata": {},
   "source": [
    "## NMF"
   ]
  },
  {
   "cell_type": "code",
   "execution_count": 8,
   "metadata": {},
   "outputs": [],
   "source": [
    "from sklearn.decomposition import NMF"
   ]
  },
  {
   "cell_type": "code",
   "execution_count": 9,
   "metadata": {},
   "outputs": [],
   "source": [
    "nmf_model = NMF(n_components=7,random_state=42)"
   ]
  },
  {
   "cell_type": "code",
   "execution_count": 10,
   "metadata": {},
   "outputs": [
    {
     "data": {
      "text/html": [
       "<style>#sk-container-id-1 {color: black;background-color: white;}#sk-container-id-1 pre{padding: 0;}#sk-container-id-1 div.sk-toggleable {background-color: white;}#sk-container-id-1 label.sk-toggleable__label {cursor: pointer;display: block;width: 100%;margin-bottom: 0;padding: 0.3em;box-sizing: border-box;text-align: center;}#sk-container-id-1 label.sk-toggleable__label-arrow:before {content: \"▸\";float: left;margin-right: 0.25em;color: #696969;}#sk-container-id-1 label.sk-toggleable__label-arrow:hover:before {color: black;}#sk-container-id-1 div.sk-estimator:hover label.sk-toggleable__label-arrow:before {color: black;}#sk-container-id-1 div.sk-toggleable__content {max-height: 0;max-width: 0;overflow: hidden;text-align: left;background-color: #f0f8ff;}#sk-container-id-1 div.sk-toggleable__content pre {margin: 0.2em;color: black;border-radius: 0.25em;background-color: #f0f8ff;}#sk-container-id-1 input.sk-toggleable__control:checked~div.sk-toggleable__content {max-height: 200px;max-width: 100%;overflow: auto;}#sk-container-id-1 input.sk-toggleable__control:checked~label.sk-toggleable__label-arrow:before {content: \"▾\";}#sk-container-id-1 div.sk-estimator input.sk-toggleable__control:checked~label.sk-toggleable__label {background-color: #d4ebff;}#sk-container-id-1 div.sk-label input.sk-toggleable__control:checked~label.sk-toggleable__label {background-color: #d4ebff;}#sk-container-id-1 input.sk-hidden--visually {border: 0;clip: rect(1px 1px 1px 1px);clip: rect(1px, 1px, 1px, 1px);height: 1px;margin: -1px;overflow: hidden;padding: 0;position: absolute;width: 1px;}#sk-container-id-1 div.sk-estimator {font-family: monospace;background-color: #f0f8ff;border: 1px dotted black;border-radius: 0.25em;box-sizing: border-box;margin-bottom: 0.5em;}#sk-container-id-1 div.sk-estimator:hover {background-color: #d4ebff;}#sk-container-id-1 div.sk-parallel-item::after {content: \"\";width: 100%;border-bottom: 1px solid gray;flex-grow: 1;}#sk-container-id-1 div.sk-label:hover label.sk-toggleable__label {background-color: #d4ebff;}#sk-container-id-1 div.sk-serial::before {content: \"\";position: absolute;border-left: 1px solid gray;box-sizing: border-box;top: 0;bottom: 0;left: 50%;z-index: 0;}#sk-container-id-1 div.sk-serial {display: flex;flex-direction: column;align-items: center;background-color: white;padding-right: 0.2em;padding-left: 0.2em;position: relative;}#sk-container-id-1 div.sk-item {position: relative;z-index: 1;}#sk-container-id-1 div.sk-parallel {display: flex;align-items: stretch;justify-content: center;background-color: white;position: relative;}#sk-container-id-1 div.sk-item::before, #sk-container-id-1 div.sk-parallel-item::before {content: \"\";position: absolute;border-left: 1px solid gray;box-sizing: border-box;top: 0;bottom: 0;left: 50%;z-index: -1;}#sk-container-id-1 div.sk-parallel-item {display: flex;flex-direction: column;z-index: 1;position: relative;background-color: white;}#sk-container-id-1 div.sk-parallel-item:first-child::after {align-self: flex-end;width: 50%;}#sk-container-id-1 div.sk-parallel-item:last-child::after {align-self: flex-start;width: 50%;}#sk-container-id-1 div.sk-parallel-item:only-child::after {width: 0;}#sk-container-id-1 div.sk-dashed-wrapped {border: 1px dashed gray;margin: 0 0.4em 0.5em 0.4em;box-sizing: border-box;padding-bottom: 0.4em;background-color: white;}#sk-container-id-1 div.sk-label label {font-family: monospace;font-weight: bold;display: inline-block;line-height: 1.2em;}#sk-container-id-1 div.sk-label-container {text-align: center;}#sk-container-id-1 div.sk-container {/* jupyter's `normalize.less` sets `[hidden] { display: none; }` but bootstrap.min.css set `[hidden] { display: none !important; }` so we also need the `!important` here to be able to override the default hidden behavior on the sphinx rendered scikit-learn.org. See: https://github.com/scikit-learn/scikit-learn/issues/21755 */display: inline-block !important;position: relative;}#sk-container-id-1 div.sk-text-repr-fallback {display: none;}</style><div id=\"sk-container-id-1\" class=\"sk-top-container\"><div class=\"sk-text-repr-fallback\"><pre>NMF(n_components=7, random_state=42)</pre><b>In a Jupyter environment, please rerun this cell to show the HTML representation or trust the notebook. <br />On GitHub, the HTML representation is unable to render, please try loading this page with nbviewer.org.</b></div><div class=\"sk-container\" hidden><div class=\"sk-item\"><div class=\"sk-estimator sk-toggleable\"><input class=\"sk-toggleable__control sk-hidden--visually\" id=\"sk-estimator-id-1\" type=\"checkbox\" checked><label for=\"sk-estimator-id-1\" class=\"sk-toggleable__label sk-toggleable__label-arrow\">NMF</label><div class=\"sk-toggleable__content\"><pre>NMF(n_components=7, random_state=42)</pre></div></div></div></div></div>"
      ],
      "text/plain": [
       "NMF(n_components=7, random_state=42)"
      ]
     },
     "execution_count": 10,
     "metadata": {},
     "output_type": "execute_result"
    }
   ],
   "source": [
    "# This can take awhile, we're dealing with a large amount of documents!\n",
    "nmf_model.fit(dtm)"
   ]
  },
  {
   "cell_type": "markdown",
   "metadata": {},
   "source": [
    "## Displaying Topics"
   ]
  },
  {
   "cell_type": "code",
   "execution_count": 15,
   "metadata": {},
   "outputs": [
    {
     "data": {
      "text/plain": [
       "96"
      ]
     },
     "execution_count": 15,
     "metadata": {},
     "output_type": "execute_result"
    }
   ],
   "source": [
    "len(tfidf.get_feature_names_out())"
   ]
  },
  {
   "cell_type": "code",
   "execution_count": 16,
   "metadata": {},
   "outputs": [
    {
     "data": {
      "text/plain": [
       "7"
      ]
     },
     "execution_count": 16,
     "metadata": {},
     "output_type": "execute_result"
    }
   ],
   "source": [
    "len(nmf_model.components_)"
   ]
  },
  {
   "cell_type": "code",
   "execution_count": 17,
   "metadata": {},
   "outputs": [
    {
     "data": {
      "text/plain": [
       "array([[1.87365177e-01, 2.34088345e-01, 1.11858211e+00, 2.14565609e-02,\n",
       "        1.77738970e-01, 3.60507622e-01, 2.64058317e-01, 0.00000000e+00,\n",
       "        0.00000000e+00, 6.94057344e-01, 4.31509020e-01, 7.61246480e-01,\n",
       "        8.60765599e-02, 1.44765171e-01, 8.32125975e-04, 4.73808012e-01,\n",
       "        4.70527770e-01, 4.47995272e-01, 8.26684595e-01, 4.32546609e-01,\n",
       "        0.00000000e+00, 6.86485099e-02, 6.73958315e-02, 8.40737212e-02,\n",
       "        1.57216595e-01, 2.90191351e-01, 4.17300268e-02, 5.20461912e-01,\n",
       "        1.27375736e-01, 3.06633355e-01, 1.78086813e-02, 2.17405377e-01,\n",
       "        9.23761258e-01, 5.04820125e-01, 2.32958574e-01, 2.45851038e-01,\n",
       "        9.74300309e-01, 5.71093563e-01, 2.61682668e-01, 0.00000000e+00,\n",
       "        1.58986327e-01, 5.93725701e-01, 5.94462312e-02, 0.00000000e+00,\n",
       "        9.72407628e-04, 9.57840959e-02, 1.83904828e-01, 1.93416646e-02,\n",
       "        0.00000000e+00, 9.34771311e-02, 6.65079621e-02, 5.64941074e-01,\n",
       "        1.78551443e-01, 0.00000000e+00, 1.17159104e+00, 1.16973626e+00,\n",
       "        7.94021411e-02, 0.00000000e+00, 0.00000000e+00, 2.34940517e-01,\n",
       "        1.81624106e-01, 1.53626784e+00, 6.06724821e-01, 0.00000000e+00,\n",
       "        1.79272165e-01, 9.65852414e+00, 7.40769880e-01, 6.64226103e-01,\n",
       "        0.00000000e+00, 0.00000000e+00, 0.00000000e+00, 1.52066669e-01,\n",
       "        0.00000000e+00, 0.00000000e+00, 0.00000000e+00, 5.68787347e-01,\n",
       "        4.45804620e-01, 2.88637344e-01, 1.89456977e+00, 5.53721004e-01,\n",
       "        0.00000000e+00, 1.77296745e-01, 4.45944335e-03, 2.22630831e-01,\n",
       "        4.33583435e-01, 1.93788664e-02, 2.42753825e-01, 2.21705280e-04,\n",
       "        5.57101239e-01, 4.56341652e-01, 4.78780738e-01, 2.30013003e-01,\n",
       "        2.67988431e-01, 0.00000000e+00, 2.63520268e-02, 3.30401300e-01],\n",
       "       [0.00000000e+00, 0.00000000e+00, 0.00000000e+00, 4.72781717e-02,\n",
       "        7.46444228e-04, 1.71002618e-01, 1.57297476e-03, 2.17307087e-02,\n",
       "        9.75437692e-02, 4.74731948e-02, 2.18860712e-02, 0.00000000e+00,\n",
       "        1.03195966e-01, 6.06535444e-02, 3.33092658e-02, 1.57733235e-01,\n",
       "        3.74649383e-02, 4.74031297e-02, 1.00636867e-01, 2.21353880e-02,\n",
       "        1.97040578e-02, 9.45764042e-02, 8.18751743e-02, 3.86995173e-02,\n",
       "        6.49721255e-02, 1.39962842e-02, 8.82717420e-02, 0.00000000e+00,\n",
       "        8.05719365e-02, 1.71372351e-01, 6.77476286e-02, 3.22416721e-02,\n",
       "        6.15121850e-02, 0.00000000e+00, 0.00000000e+00, 0.00000000e+00,\n",
       "        6.39062877e-01, 4.48758922e-02, 7.33748629e-02, 1.49058178e-02,\n",
       "        3.60084065e-02, 2.74693430e-02, 0.00000000e+00, 4.44913767e-02,\n",
       "        7.23190648e-03, 5.56860736e-02, 1.49631428e-02, 6.14897600e-02,\n",
       "        3.21235804e-02, 9.09305540e-02, 3.52213865e-02, 1.93430366e-01,\n",
       "        2.45853103e-02, 1.51475326e-01, 1.13700683e-01, 8.41474487e-02,\n",
       "        6.80930371e-02, 0.00000000e+00, 1.63050726e-02, 9.75847083e-03,\n",
       "        6.25653534e-02, 1.27709179e+00, 3.20693475e-02, 0.00000000e+00,\n",
       "        6.15033038e-02, 6.18104926e-02, 5.63866047e-02, 1.49893262e-01,\n",
       "        0.00000000e+00, 0.00000000e+00, 2.51772151e-01, 0.00000000e+00,\n",
       "        2.86088134e-02, 4.50785712e-02, 1.44643188e-01, 9.48076541e-03,\n",
       "        6.40285755e-02, 0.00000000e+00, 4.44201650e-02, 2.74432560e-02,\n",
       "        5.45797886e+00, 2.72084340e-02, 6.89592126e-03, 0.00000000e+00,\n",
       "        0.00000000e+00, 3.66680704e-02, 6.63999052e-02, 7.34572454e-02,\n",
       "        2.03754765e-01, 1.06366278e-02, 5.64160973e-01, 1.10690864e-02,\n",
       "        1.80209138e-02, 0.00000000e+00, 0.00000000e+00, 0.00000000e+00],\n",
       "       [1.33274894e-01, 6.88688496e-02, 0.00000000e+00, 9.31245033e-02,\n",
       "        1.66127024e-01, 2.27978242e-02, 7.33749415e-02, 6.07392714e-02,\n",
       "        1.01097146e-01, 1.37301798e-01, 5.48247527e-02, 9.67420437e-02,\n",
       "        8.11312679e-02, 1.15336248e-01, 2.03411261e-02, 6.36748830e-02,\n",
       "        1.12002553e-01, 6.66790480e-02, 0.00000000e+00, 7.39956453e-02,\n",
       "        6.99677082e-02, 7.76351185e-03, 1.30329570e-01, 5.81357634e-02,\n",
       "        1.74828593e-01, 1.95213340e-02, 0.00000000e+00, 1.35979876e-01,\n",
       "        7.52649568e-02, 1.40742392e-01, 7.06784036e-02, 9.87083525e-02,\n",
       "        1.07921943e-01, 1.53443119e-01, 2.28142580e-01, 1.38337988e-01,\n",
       "        1.83611527e-02, 8.20237123e-02, 2.20424217e-01, 2.41867230e-02,\n",
       "        3.56723989e-02, 1.09898836e-02, 0.00000000e+00, 2.17870140e-01,\n",
       "        6.90150077e-02, 5.76688272e-02, 6.53354006e-02, 4.56029052e-02,\n",
       "        1.53034821e-01, 1.22834072e-01, 2.36987683e-02, 7.90456817e-02,\n",
       "        1.70297190e-01, 0.00000000e+00, 0.00000000e+00, 0.00000000e+00,\n",
       "        3.44426248e-02, 0.00000000e+00, 0.00000000e+00, 4.23381203e-02,\n",
       "        0.00000000e+00, 0.00000000e+00, 9.49702568e-02, 1.22175768e-01,\n",
       "        8.42679671e-02, 0.00000000e+00, 1.91731711e-01, 8.64569921e-03,\n",
       "        5.03893898e+00, 0.00000000e+00, 0.00000000e+00, 0.00000000e+00,\n",
       "        0.00000000e+00, 1.93999751e-03, 0.00000000e+00, 3.52342807e-02,\n",
       "        0.00000000e+00, 3.38982738e-02, 0.00000000e+00, 6.38397639e-02,\n",
       "        0.00000000e+00, 1.27697491e-01, 3.79542716e-01, 2.00239364e-01,\n",
       "        2.05903299e-01, 3.81255496e-02, 1.25716871e-01, 2.93000693e-03,\n",
       "        0.00000000e+00, 4.67187245e-02, 0.00000000e+00, 1.56750795e-01,\n",
       "        1.46002488e-01, 0.00000000e+00, 2.92441310e-02, 2.19794599e-01],\n",
       "       [0.00000000e+00, 7.57810368e-02, 0.00000000e+00, 3.47028532e-01,\n",
       "        2.08364125e-01, 2.51189684e-01, 3.31122829e-01, 3.29143322e-01,\n",
       "        4.13603967e-01, 2.81877234e-01, 3.59288568e-01, 1.38489077e-01,\n",
       "        1.74275284e-01, 4.14233580e-01, 3.09170358e-01, 3.84279473e-02,\n",
       "        4.68918292e-01, 2.33724580e-01, 4.99342958e-01, 5.20067070e-01,\n",
       "        4.65685802e-01, 3.55237443e-01, 3.41061562e-01, 3.77481757e-01,\n",
       "        6.84936500e-01, 2.94665705e-01, 2.78423046e-01, 4.59611105e-01,\n",
       "        1.79478774e-01, 5.85561911e-01, 5.45470215e-01, 5.41030940e-01,\n",
       "        0.00000000e+00, 1.42078426e-02, 1.82663335e-01, 3.86936151e-01,\n",
       "        2.01670951e-01, 3.47053814e-02, 1.21025075e+00, 6.14615337e-01,\n",
       "        9.40050873e-01, 2.56192833e-01, 9.03702235e-01, 1.68933339e+00,\n",
       "        5.60498871e-01, 4.27484808e-01, 4.04841860e-01, 4.20962958e-01,\n",
       "        5.17543131e-01, 6.06891541e-01, 3.16743795e-01, 0.00000000e+00,\n",
       "        2.79806382e-01, 5.93947029e-01, 0.00000000e+00, 1.73001490e-01,\n",
       "        1.87984753e-01, 0.00000000e+00, 0.00000000e+00, 3.14690889e-01,\n",
       "        3.50688197e-01, 0.00000000e+00, 9.55446334e-03, 8.46406442e-01,\n",
       "        4.67011474e-01, 0.00000000e+00, 3.47463581e-01, 1.22712761e-01,\n",
       "        0.00000000e+00, 0.00000000e+00, 0.00000000e+00, 6.31105030e-01,\n",
       "        5.52242055e-01, 6.78293509e-01, 9.13825867e-01, 8.92633412e-01,\n",
       "        2.43456492e-01, 2.46257000e-01, 2.09635850e-01, 2.41971130e-01,\n",
       "        0.00000000e+00, 2.75530308e-01, 1.30909905e-01, 1.60364394e-01,\n",
       "        1.66466567e-01, 6.89328522e-01, 5.14097274e-01, 8.70048747e-01,\n",
       "        1.51124476e-01, 3.20636187e-01, 2.53417004e-01, 5.29409416e-01,\n",
       "        2.18354266e-01, 6.48247012e-01, 1.66178277e-01, 5.60375063e-01],\n",
       "       [9.87716686e-01, 5.42974096e-01, 1.01244152e+00, 5.51235790e-02,\n",
       "        2.80124659e-01, 6.03821383e-01, 6.56397408e-02, 1.73038946e-01,\n",
       "        2.56754255e-01, 3.04133682e-01, 1.39337454e-01, 1.59330420e-01,\n",
       "        3.50329937e-01, 1.21682656e-01, 2.50209342e-01, 7.09957549e-01,\n",
       "        2.85965299e-01, 2.24272475e-01, 9.66093414e-02, 0.00000000e+00,\n",
       "        8.87867092e-02, 1.39487039e-01, 6.24528953e-02, 0.00000000e+00,\n",
       "        0.00000000e+00, 2.52497567e-01, 1.75601869e-01, 1.81634853e-01,\n",
       "        3.28197125e-01, 0.00000000e+00, 1.44108563e-01, 0.00000000e+00,\n",
       "        7.18028731e-01, 5.33868870e-01, 2.02610581e-01, 2.16585994e-01,\n",
       "        4.46380252e-02, 5.42040288e-01, 1.41537578e-01, 0.00000000e+00,\n",
       "        0.00000000e+00, 1.89215635e-01, 0.00000000e+00, 0.00000000e+00,\n",
       "        8.25993935e-02, 1.06392526e-01, 2.76658121e-01, 8.85418288e-02,\n",
       "        0.00000000e+00, 2.63296866e-01, 2.04671537e-01, 6.64165477e-01,\n",
       "        1.78430877e-01, 1.80803064e+00, 4.80804195e-01, 5.76494322e-01,\n",
       "        4.05695059e-01, 0.00000000e+00, 2.03283917e+00, 1.92207788e-01,\n",
       "        1.44229566e-01, 4.17106888e-01, 5.69716251e-01, 0.00000000e+00,\n",
       "        5.51145224e-02, 0.00000000e+00, 1.19461549e-01, 6.07058653e-02,\n",
       "        0.00000000e+00, 0.00000000e+00, 4.13472245e-01, 7.59810666e-02,\n",
       "        0.00000000e+00, 0.00000000e+00, 0.00000000e+00, 5.32528662e-01,\n",
       "        4.49051989e-01, 3.31410179e-01, 2.56602842e-01, 1.61570181e-01,\n",
       "        0.00000000e+00, 0.00000000e+00, 3.25349896e-01, 2.82177262e-01,\n",
       "        2.85528690e-01, 5.56339400e-02, 0.00000000e+00, 1.60662305e-01,\n",
       "        4.39166999e-01, 5.96227605e-02, 1.53600989e-01, 2.73025963e-01,\n",
       "        1.25890706e-01, 8.87060847e-01, 1.72866402e+00, 8.57058875e-01],\n",
       "       [1.90935469e-01, 7.29294329e-03, 1.93005050e-02, 8.56200859e-02,\n",
       "        0.00000000e+00, 1.29432477e-02, 6.52868857e-02, 1.23634943e-01,\n",
       "        0.00000000e+00, 1.97639601e-02, 9.89181986e-04, 0.00000000e+00,\n",
       "        1.07512375e-01, 6.41897383e-02, 0.00000000e+00, 2.97717984e-01,\n",
       "        0.00000000e+00, 0.00000000e+00, 1.50419888e-02, 5.28197314e-02,\n",
       "        1.19195000e-01, 4.85609197e-02, 6.17083331e-02, 5.71219127e-02,\n",
       "        3.19631591e-01, 0.00000000e+00, 6.86879823e-02, 0.00000000e+00,\n",
       "        2.01947087e-02, 2.11141861e-01, 4.31952790e-02, 1.03976460e-02,\n",
       "        1.27478316e-01, 1.89267963e-01, 2.68719401e-01, 0.00000000e+00,\n",
       "        0.00000000e+00, 9.71073582e-02, 5.72207860e-02, 2.49971398e-02,\n",
       "        1.42026952e-01, 0.00000000e+00, 0.00000000e+00, 6.14893140e-02,\n",
       "        0.00000000e+00, 0.00000000e+00, 0.00000000e+00, 6.98243046e-02,\n",
       "        2.44705555e-01, 1.04512468e-01, 2.32598402e-02, 1.22223739e-02,\n",
       "        1.58909572e-01, 0.00000000e+00, 8.10268414e-02, 0.00000000e+00,\n",
       "        2.90882415e-02, 3.76932381e+00, 0.00000000e+00, 9.75602671e-02,\n",
       "        2.25037677e-02, 0.00000000e+00, 1.62625991e-01, 1.23016788e-01,\n",
       "        9.26020906e-02, 0.00000000e+00, 2.85362457e-01, 6.58897907e-02,\n",
       "        0.00000000e+00, 0.00000000e+00, 1.43411172e-01, 0.00000000e+00,\n",
       "        5.74848033e-02, 1.32036240e-01, 2.89020448e-01, 0.00000000e+00,\n",
       "        0.00000000e+00, 2.22107224e-02, 2.65959247e-02, 0.00000000e+00,\n",
       "        0.00000000e+00, 1.00719905e-01, 8.52815754e-02, 1.83635857e-01,\n",
       "        8.68634971e-02, 1.67707730e-01, 1.94403194e-01, 1.00660892e-01,\n",
       "        4.59936388e-02, 8.85679417e-03, 1.32799373e-01, 1.11318081e-01,\n",
       "        4.37487465e-02, 0.00000000e+00, 0.00000000e+00, 0.00000000e+00],\n",
       "       [2.50295985e-02, 3.26324247e-02, 1.47748596e-01, 0.00000000e+00,\n",
       "        1.84042478e-02, 0.00000000e+00, 3.65499255e-02, 8.95232049e-03,\n",
       "        3.94443253e-03, 7.98053266e-03, 0.00000000e+00, 3.57755661e-01,\n",
       "        9.33762736e-02, 4.73185491e-02, 7.89814289e-02, 1.57964284e-01,\n",
       "        1.95916139e-02, 6.68050826e-02, 8.83273628e-02, 0.00000000e+00,\n",
       "        2.16540313e-02, 1.16405776e-01, 7.52196919e-02, 3.55641777e-02,\n",
       "        5.39776634e-02, 7.44421700e-02, 6.61847936e-02, 0.00000000e+00,\n",
       "        1.04115196e-01, 7.33804932e-02, 4.99558588e-03, 0.00000000e+00,\n",
       "        3.71842811e-01, 9.89670900e-02, 4.89389463e-02, 5.99379973e-02,\n",
       "        1.14249299e-01, 8.20811433e-02, 6.63873659e-02, 0.00000000e+00,\n",
       "        0.00000000e+00, 1.60366665e-02, 0.00000000e+00, 0.00000000e+00,\n",
       "        1.68960039e-02, 3.55478962e-03, 2.99354203e-02, 2.37389124e-02,\n",
       "        0.00000000e+00, 8.33608463e-02, 6.51961912e-02, 2.19931195e-01,\n",
       "        8.90565373e-02, 7.13109761e-02, 0.00000000e+00, 1.56761087e-01,\n",
       "        6.06010104e-02, 0.00000000e+00, 0.00000000e+00, 5.71886058e-02,\n",
       "        2.47448114e-02, 2.53810830e-01, 3.17197810e-01, 0.00000000e+00,\n",
       "        1.12116191e-01, 0.00000000e+00, 1.20312335e-01, 1.09777295e-01,\n",
       "        0.00000000e+00, 3.81342017e+00, 1.06690933e+00, 0.00000000e+00,\n",
       "        0.00000000e+00, 0.00000000e+00, 0.00000000e+00, 2.96121969e-02,\n",
       "        0.00000000e+00, 4.62145438e-02, 4.39351218e-02, 0.00000000e+00,\n",
       "        0.00000000e+00, 2.93268272e-02, 3.39115132e-02, 1.64400379e-01,\n",
       "        3.45881676e-02, 4.00198675e-02, 1.08268305e-02, 7.06265996e-02,\n",
       "        1.39417046e-01, 0.00000000e+00, 0.00000000e+00, 0.00000000e+00,\n",
       "        1.08089931e-02, 0.00000000e+00, 6.91505758e-02, 5.17304327e-02]])"
      ]
     },
     "execution_count": 17,
     "metadata": {},
     "output_type": "execute_result"
    }
   ],
   "source": [
    "nmf_model.components_"
   ]
  },
  {
   "cell_type": "code",
   "execution_count": 18,
   "metadata": {},
   "outputs": [
    {
     "data": {
      "text/plain": [
       "96"
      ]
     },
     "execution_count": 18,
     "metadata": {},
     "output_type": "execute_result"
    }
   ],
   "source": [
    "len(nmf_model.components_[0])"
   ]
  },
  {
   "cell_type": "code",
   "execution_count": 19,
   "metadata": {},
   "outputs": [],
   "source": [
    "single_topic = nmf_model.components_[0]"
   ]
  },
  {
   "cell_type": "code",
   "execution_count": 20,
   "metadata": {},
   "outputs": [
    {
     "data": {
      "text/plain": [
       "array([48, 58, 57, 20, 69, 70, 53, 72, 73, 39, 63, 68, 80, 43,  8,  7, 93,\n",
       "       74, 87, 14, 44, 82, 30, 47, 85,  3, 94, 26, 42, 50, 22, 21, 56, 23,\n",
       "       12, 49, 45, 28, 13, 71, 24, 40, 81,  4, 52, 64, 60, 46,  0, 31, 83,\n",
       "       91, 34,  1, 59, 86, 35, 38,  6, 92, 77, 25, 29, 95,  5, 10, 19, 84,\n",
       "       76, 17, 89, 16, 15, 90, 33, 27, 79, 88, 51, 75, 37, 41, 62, 67,  9,\n",
       "       66, 11, 18, 32, 36,  2, 55, 54, 61, 78, 65], dtype=int64)"
      ]
     },
     "execution_count": 20,
     "metadata": {},
     "output_type": "execute_result"
    }
   ],
   "source": [
    "# Returns the indices that would sort this array.\n",
    "single_topic.argsort()"
   ]
  },
  {
   "cell_type": "code",
   "execution_count": 21,
   "metadata": {},
   "outputs": [
    {
     "data": {
      "text/plain": [
       "0.0"
      ]
     },
     "execution_count": 21,
     "metadata": {},
     "output_type": "execute_result"
    }
   ],
   "source": [
    "# Word least representative of this topic\n",
    "single_topic[48]"
   ]
  },
  {
   "cell_type": "code",
   "execution_count": 22,
   "metadata": {},
   "outputs": [
    {
     "data": {
      "text/plain": [
       "9.658524138794387"
      ]
     },
     "execution_count": 22,
     "metadata": {},
     "output_type": "execute_result"
    }
   ],
   "source": [
    "# Word most representative of this topic\n",
    "single_topic[65]"
   ]
  },
  {
   "cell_type": "code",
   "execution_count": 23,
   "metadata": {},
   "outputs": [
    {
     "data": {
      "text/plain": [
       "array([11, 18, 32, 36,  2, 55, 54, 61, 78, 65], dtype=int64)"
      ]
     },
     "execution_count": 23,
     "metadata": {},
     "output_type": "execute_result"
    }
   ],
   "source": [
    "# Top 10 words for this topic:\n",
    "single_topic.argsort()[-10:]"
   ]
  },
  {
   "cell_type": "code",
   "execution_count": 24,
   "metadata": {},
   "outputs": [],
   "source": [
    "top_word_indices = single_topic.argsort()[-10:]"
   ]
  },
  {
   "cell_type": "code",
   "execution_count": 26,
   "metadata": {},
   "outputs": [
    {
     "name": "stdout",
     "output_type": "stream",
     "text": [
      "case\n",
      "did\n",
      "government\n",
      "house\n",
      "according\n",
      "npr\n",
      "news\n",
      "president\n",
      "told\n",
      "said\n"
     ]
    }
   ],
   "source": [
    "for index in top_word_indices:\n",
    "    print(tfidf.get_feature_names_out()[index])"
   ]
  },
  {
   "cell_type": "markdown",
   "metadata": {},
   "source": [
    "These look like business articles perhaps... Let's confirm by using .transform() on our vectorized articles to attach a label number. But first, let's view all the 10 topics found."
   ]
  },
  {
   "cell_type": "code",
   "execution_count": 27,
   "metadata": {},
   "outputs": [
    {
     "name": "stdout",
     "output_type": "stream",
     "text": [
      "THE TOP 15 WORDS FOR TOPIC #0\n",
      "['later', 'public', 'saying', 'called', 'say', 'case', 'did', 'government', 'house', 'according', 'npr', 'news', 'president', 'told', 'said']\n",
      "\n",
      "\n",
      "THE TOP 15 WORDS FOR TOPIC #1\n",
      "['change', 'news', 'think', 'saying', 'new', 'country', 'american', 'going', 'national', 'week', 'states', 'white', 'house', 'president', 'trump']\n",
      "\n",
      "\n",
      "THE TOP 15 WORDS FOR TOPIC #2\n",
      "['lot', 'group', 'work', 'ago', 'need', 'don', 'say', 'use', 'used', 'like', 'years', 'just', 'help', 'university', 'says']\n",
      "\n",
      "\n",
      "THE TOP 15 WORDS FOR TOPIC #3\n",
      "['make', 'kind', 'story', 'world', 'things', 'don', 've', 'really', 'way', 'time', 'life', 'think', 'know', 'just', 'like']\n",
      "\n",
      "\n",
      "THE TOP 15 WORDS FOR TOPIC #4\n",
      "['including', '10', 'public', 'npr', 'american', 'national', 'country', 'government', 'years', 'world', '000', 'according', 'year', 'new', 'percent']\n",
      "\n",
      "\n",
      "THE TOP 15 WORDS FOR TOPIC #5\n",
      "['need', 'public', 've', 'use', 'group', '000', 'want', 'going', 'lot', 'help', 'say', 'think', 'country', 'don', 'people']\n",
      "\n",
      "\n",
      "THE TOP 15 WORDS FOR TOPIC #6\n",
      "['house', 'does', 'say', 'week', 'according', 'npr', 'country', 'use', 'national', 'president', 'public', 'case', 'government', 'states', 'state']\n",
      "\n",
      "\n"
     ]
    }
   ],
   "source": [
    "for index,topic in enumerate(nmf_model.components_):\n",
    "    print(f'THE TOP 15 WORDS FOR TOPIC #{index}')\n",
    "    print([tfidf.get_feature_names_out()[i] for i in topic.argsort()[-15:]])\n",
    "    print('\\n')"
   ]
  },
  {
   "cell_type": "markdown",
   "metadata": {},
   "source": [
    "### Attaching Discovered Topic Labels to Original Articles"
   ]
  },
  {
   "cell_type": "code",
   "execution_count": 28,
   "metadata": {},
   "outputs": [
    {
     "data": {
      "text/plain": [
       "<11992x96 sparse matrix of type '<class 'numpy.float64'>'\n",
       "\twith 349867 stored elements in Compressed Sparse Row format>"
      ]
     },
     "execution_count": 28,
     "metadata": {},
     "output_type": "execute_result"
    }
   ],
   "source": [
    "dtm"
   ]
  },
  {
   "cell_type": "code",
   "execution_count": 29,
   "metadata": {},
   "outputs": [
    {
     "data": {
      "text/plain": [
       "(11992, 96)"
      ]
     },
     "execution_count": 29,
     "metadata": {},
     "output_type": "execute_result"
    }
   ],
   "source": [
    "dtm.shape"
   ]
  },
  {
   "cell_type": "code",
   "execution_count": 30,
   "metadata": {},
   "outputs": [
    {
     "data": {
      "text/plain": [
       "11992"
      ]
     },
     "execution_count": 30,
     "metadata": {},
     "output_type": "execute_result"
    }
   ],
   "source": [
    "len(npr)"
   ]
  },
  {
   "cell_type": "code",
   "execution_count": 31,
   "metadata": {},
   "outputs": [],
   "source": [
    "topic_results = nmf_model.transform(dtm)"
   ]
  },
  {
   "cell_type": "code",
   "execution_count": 32,
   "metadata": {},
   "outputs": [
    {
     "data": {
      "text/plain": [
       "(11992, 7)"
      ]
     },
     "execution_count": 32,
     "metadata": {},
     "output_type": "execute_result"
    }
   ],
   "source": [
    "topic_results.shape"
   ]
  },
  {
   "cell_type": "code",
   "execution_count": 33,
   "metadata": {},
   "outputs": [
    {
     "data": {
      "text/plain": [
       "array([0.0114954 , 0.15079102, 0.00062884, 0.02150612, 0.02212527,\n",
       "       0.        , 0.        ])"
      ]
     },
     "execution_count": 33,
     "metadata": {},
     "output_type": "execute_result"
    }
   ],
   "source": [
    "topic_results[0]"
   ]
  },
  {
   "cell_type": "code",
   "execution_count": 34,
   "metadata": {},
   "outputs": [
    {
     "data": {
      "text/plain": [
       "array([0.01, 0.15, 0.  , 0.02, 0.02, 0.  , 0.  ])"
      ]
     },
     "execution_count": 34,
     "metadata": {},
     "output_type": "execute_result"
    }
   ],
   "source": [
    "topic_results[0].round(2)"
   ]
  },
  {
   "cell_type": "code",
   "execution_count": 35,
   "metadata": {},
   "outputs": [
    {
     "data": {
      "text/plain": [
       "1"
      ]
     },
     "execution_count": 35,
     "metadata": {},
     "output_type": "execute_result"
    }
   ],
   "source": [
    "topic_results[0].argmax()"
   ]
  },
  {
   "cell_type": "markdown",
   "metadata": {},
   "source": [
    "This means that our model thinks that the first article belongs to topic #1."
   ]
  },
  {
   "cell_type": "markdown",
   "metadata": {},
   "source": [
    "### Combining with Original Data"
   ]
  },
  {
   "cell_type": "code",
   "execution_count": 36,
   "metadata": {},
   "outputs": [
    {
     "data": {
      "text/html": [
       "<div>\n",
       "<style scoped>\n",
       "    .dataframe tbody tr th:only-of-type {\n",
       "        vertical-align: middle;\n",
       "    }\n",
       "\n",
       "    .dataframe tbody tr th {\n",
       "        vertical-align: top;\n",
       "    }\n",
       "\n",
       "    .dataframe thead th {\n",
       "        text-align: right;\n",
       "    }\n",
       "</style>\n",
       "<table border=\"1\" class=\"dataframe\">\n",
       "  <thead>\n",
       "    <tr style=\"text-align: right;\">\n",
       "      <th></th>\n",
       "      <th>Article</th>\n",
       "    </tr>\n",
       "  </thead>\n",
       "  <tbody>\n",
       "    <tr>\n",
       "      <th>0</th>\n",
       "      <td>In the Washington of 2016, even when the polic...</td>\n",
       "    </tr>\n",
       "    <tr>\n",
       "      <th>1</th>\n",
       "      <td>Donald Trump has used Twitter  —   his prefe...</td>\n",
       "    </tr>\n",
       "    <tr>\n",
       "      <th>2</th>\n",
       "      <td>Donald Trump is unabashedly praising Russian...</td>\n",
       "    </tr>\n",
       "    <tr>\n",
       "      <th>3</th>\n",
       "      <td>Updated at 2:50 p. m. ET, Russian President Vl...</td>\n",
       "    </tr>\n",
       "    <tr>\n",
       "      <th>4</th>\n",
       "      <td>From photography, illustration and video, to d...</td>\n",
       "    </tr>\n",
       "  </tbody>\n",
       "</table>\n",
       "</div>"
      ],
      "text/plain": [
       "                                             Article\n",
       "0  In the Washington of 2016, even when the polic...\n",
       "1    Donald Trump has used Twitter  —   his prefe...\n",
       "2    Donald Trump is unabashedly praising Russian...\n",
       "3  Updated at 2:50 p. m. ET, Russian President Vl...\n",
       "4  From photography, illustration and video, to d..."
      ]
     },
     "execution_count": 36,
     "metadata": {},
     "output_type": "execute_result"
    }
   ],
   "source": [
    "npr.head()"
   ]
  },
  {
   "cell_type": "code",
   "execution_count": 37,
   "metadata": {},
   "outputs": [
    {
     "data": {
      "text/plain": [
       "array([1, 1, 1, ..., 4, 1, 5], dtype=int64)"
      ]
     },
     "execution_count": 37,
     "metadata": {},
     "output_type": "execute_result"
    }
   ],
   "source": [
    "topic_results.argmax(axis=1)"
   ]
  },
  {
   "cell_type": "code",
   "execution_count": 38,
   "metadata": {},
   "outputs": [],
   "source": [
    "npr['Topic'] = topic_results.argmax(axis=1)"
   ]
  },
  {
   "cell_type": "code",
   "execution_count": 39,
   "metadata": {},
   "outputs": [
    {
     "data": {
      "text/html": [
       "<div>\n",
       "<style scoped>\n",
       "    .dataframe tbody tr th:only-of-type {\n",
       "        vertical-align: middle;\n",
       "    }\n",
       "\n",
       "    .dataframe tbody tr th {\n",
       "        vertical-align: top;\n",
       "    }\n",
       "\n",
       "    .dataframe thead th {\n",
       "        text-align: right;\n",
       "    }\n",
       "</style>\n",
       "<table border=\"1\" class=\"dataframe\">\n",
       "  <thead>\n",
       "    <tr style=\"text-align: right;\">\n",
       "      <th></th>\n",
       "      <th>Article</th>\n",
       "      <th>Topic</th>\n",
       "    </tr>\n",
       "  </thead>\n",
       "  <tbody>\n",
       "    <tr>\n",
       "      <th>0</th>\n",
       "      <td>In the Washington of 2016, even when the polic...</td>\n",
       "      <td>1</td>\n",
       "    </tr>\n",
       "    <tr>\n",
       "      <th>1</th>\n",
       "      <td>Donald Trump has used Twitter  —   his prefe...</td>\n",
       "      <td>1</td>\n",
       "    </tr>\n",
       "    <tr>\n",
       "      <th>2</th>\n",
       "      <td>Donald Trump is unabashedly praising Russian...</td>\n",
       "      <td>1</td>\n",
       "    </tr>\n",
       "    <tr>\n",
       "      <th>3</th>\n",
       "      <td>Updated at 2:50 p. m. ET, Russian President Vl...</td>\n",
       "      <td>1</td>\n",
       "    </tr>\n",
       "    <tr>\n",
       "      <th>4</th>\n",
       "      <td>From photography, illustration and video, to d...</td>\n",
       "      <td>4</td>\n",
       "    </tr>\n",
       "    <tr>\n",
       "      <th>5</th>\n",
       "      <td>I did not want to join yoga class. I hated tho...</td>\n",
       "      <td>3</td>\n",
       "    </tr>\n",
       "    <tr>\n",
       "      <th>6</th>\n",
       "      <td>With a   who has publicly supported the debunk...</td>\n",
       "      <td>4</td>\n",
       "    </tr>\n",
       "    <tr>\n",
       "      <th>7</th>\n",
       "      <td>I was standing by the airport exit, debating w...</td>\n",
       "      <td>2</td>\n",
       "    </tr>\n",
       "    <tr>\n",
       "      <th>8</th>\n",
       "      <td>If movies were trying to be more realistic, pe...</td>\n",
       "      <td>2</td>\n",
       "    </tr>\n",
       "    <tr>\n",
       "      <th>9</th>\n",
       "      <td>Eighteen years ago, on New Year’s Eve, David F...</td>\n",
       "      <td>3</td>\n",
       "    </tr>\n",
       "  </tbody>\n",
       "</table>\n",
       "</div>"
      ],
      "text/plain": [
       "                                             Article  Topic\n",
       "0  In the Washington of 2016, even when the polic...      1\n",
       "1    Donald Trump has used Twitter  —   his prefe...      1\n",
       "2    Donald Trump is unabashedly praising Russian...      1\n",
       "3  Updated at 2:50 p. m. ET, Russian President Vl...      1\n",
       "4  From photography, illustration and video, to d...      4\n",
       "5  I did not want to join yoga class. I hated tho...      3\n",
       "6  With a   who has publicly supported the debunk...      4\n",
       "7  I was standing by the airport exit, debating w...      2\n",
       "8  If movies were trying to be more realistic, pe...      2\n",
       "9  Eighteen years ago, on New Year’s Eve, David F...      3"
      ]
     },
     "execution_count": 39,
     "metadata": {},
     "output_type": "execute_result"
    }
   ],
   "source": [
    "npr.head(10)"
   ]
  },
  {
   "cell_type": "markdown",
   "metadata": {},
   "source": [
    "## Great work!"
   ]
  },
  {
   "cell_type": "code",
   "execution_count": null,
   "metadata": {},
   "outputs": [],
   "source": []
  },
  {
   "cell_type": "code",
   "execution_count": null,
   "metadata": {},
   "outputs": [],
   "source": []
  },
  {
   "cell_type": "code",
   "execution_count": null,
   "metadata": {},
   "outputs": [],
   "source": []
  }
 ],
 "metadata": {
  "kernelspec": {
   "display_name": "Python 3 (ipykernel)",
   "language": "python",
   "name": "python3"
  },
  "language_info": {
   "codemirror_mode": {
    "name": "ipython",
    "version": 3
   },
   "file_extension": ".py",
   "mimetype": "text/x-python",
   "name": "python",
   "nbconvert_exporter": "python",
   "pygments_lexer": "ipython3",
   "version": "3.10.9"
  }
 },
 "nbformat": 4,
 "nbformat_minor": 2
}

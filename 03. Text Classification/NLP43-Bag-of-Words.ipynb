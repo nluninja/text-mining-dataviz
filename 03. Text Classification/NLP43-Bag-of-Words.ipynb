{
 "cells": [
  {
   "cell_type": "markdown",
   "id": "8a0d9e91",
   "metadata": {},
   "source": [
    "# Bag of Words\n",
    "In this section, we are going to implement a bag of words algorithm with Python. "
   ]
  },
  {
   "cell_type": "code",
   "execution_count": 1,
   "id": "7ef33636",
   "metadata": {},
   "outputs": [],
   "source": [
    "def vectorize(tokens):\n",
    "    ''' This function takes list of words in a sentence as input \n",
    "    and returns a vector of size of filtered_vocab.It puts 0 if the \n",
    "    word is not present in tokens and count of token if present.'''\n",
    "    vector=[]\n",
    "    for w in filtered_vocab:\n",
    "        vector.append(tokens.count(w))\n",
    "    return vector"
   ]
  },
  {
   "cell_type": "code",
   "execution_count": 2,
   "id": "ad31bee1",
   "metadata": {},
   "outputs": [],
   "source": [
    "def unique(sequence):\n",
    "    '''This functions returns a list in which the order remains \n",
    "    same and no item repeats.Using the set() function does not \n",
    "    preserve the original ordering,so i didnt use that instead'''\n",
    "    seen = set()\n",
    "    return [x for x in sequence if not (x in seen or seen.add(x))]"
   ]
  },
  {
   "cell_type": "code",
   "execution_count": 27,
   "id": "31a18ef9",
   "metadata": {},
   "outputs": [
    {
     "name": "stdout",
     "output_type": "stream",
     "text": [
      "['welcome', 'to', 'great', 'learning', ',', 'now', 'start', 'learning']\n",
      "['learning', 'is', 'a', 'good', 'practice']\n"
     ]
    }
   ],
   "source": [
    "#create a list of stopwords.You can import stopwords from nltk too\n",
    "stopwords=[\"to\",\"is\",\"a\"]\n",
    "\n",
    "#list of special characters.You can use regular expressions too\n",
    "special_char=[\",\",\":\",\" \",\";\",\".\",\"?\"]\n",
    "\n",
    "#Write the sentences in the corpus,in our case, just two \n",
    "string1=\"Welcome to Great Learning , Now start learning\"\n",
    "string2=\"Learning is a good practice\"\n",
    "\n",
    "#convert them to lower case\n",
    "string1=string1.lower()\n",
    "string2=string2.lower()\n",
    "\n",
    "#split the sentences into tokens\n",
    "tokens1=string1.split()\n",
    "tokens2=string2.split()\n",
    "print(tokens1)\n",
    "print(tokens2)"
   ]
  },
  {
   "cell_type": "code",
   "execution_count": 28,
   "id": "b48fbb4f",
   "metadata": {},
   "outputs": [
    {
     "name": "stdout",
     "output_type": "stream",
     "text": [
      "['welcome', 'to', 'great', 'learning', ',', 'now', 'start', 'is', 'a', 'good', 'practice']\n"
     ]
    }
   ],
   "source": [
    "#create a vocabulary list\n",
    "vocab=unique(tokens1+tokens2)\n",
    "print(vocab)\n"
   ]
  },
  {
   "cell_type": "code",
   "execution_count": 5,
   "id": "953d2f4a",
   "metadata": {},
   "outputs": [],
   "source": [
    "#filter the vocabulary list\n",
    "filtered_vocab=[]\n",
    "for w in vocab: \n",
    "    if w not in stopwords and w not in special_char: \n",
    "        filtered_vocab.append(w)\n"
   ]
  },
  {
   "cell_type": "code",
   "execution_count": 6,
   "id": "fdbf996c",
   "metadata": {},
   "outputs": [
    {
     "name": "stdout",
     "output_type": "stream",
     "text": [
      "['welcome', 'great', 'learning', 'now', 'start', 'good', 'practice']\n"
     ]
    }
   ],
   "source": [
    "print(filtered_vocab)"
   ]
  },
  {
   "cell_type": "code",
   "execution_count": 7,
   "id": "5da07529",
   "metadata": {},
   "outputs": [
    {
     "name": "stdout",
     "output_type": "stream",
     "text": [
      "[1, 1, 2, 1, 1, 0, 0]\n",
      "[0, 0, 1, 0, 0, 1, 1]\n"
     ]
    }
   ],
   "source": [
    "#convert sentences into vectords\n",
    "vector1=vectorize(tokens1)\n",
    "print(vector1)\n",
    "\n",
    "vector2=vectorize(tokens2)\n",
    "print(vector2)"
   ]
  },
  {
   "cell_type": "markdown",
   "id": "2a0e04fb",
   "metadata": {},
   "source": [
    "## BoW with sklearn\n",
    "We can use the CountVectorizer() function from the Sklearn library to easily implement the above BoW model using Python."
   ]
  },
  {
   "cell_type": "code",
   "execution_count": 9,
   "id": "14732b63",
   "metadata": {},
   "outputs": [],
   "source": [
    "import pandas as pd\n",
    "from sklearn.feature_extraction.text import CountVectorizer"
   ]
  },
  {
   "cell_type": "code",
   "execution_count": 10,
   "id": "aa5d25e5",
   "metadata": {},
   "outputs": [],
   "source": [
    "sentence_1=\"This is a good job.I will not miss it for anything\"\n",
    "sentence_2=\"This is not good at all\""
   ]
  },
  {
   "cell_type": "code",
   "execution_count": 11,
   "id": "d0ca8e34",
   "metadata": {},
   "outputs": [],
   "source": [
    "CountVec = CountVectorizer(ngram_range=(1,1), # to use bigrams ngram_range=(2,2)\n",
    "                           stop_words='english',min_df=0.1,max_df=0.9)"
   ]
  },
  {
   "cell_type": "markdown",
   "id": "7c731528",
   "metadata": {},
   "source": [
    "**ngram_range** _tuple (min_n, max_n)_, default=(1, 1)\n",
    "\n",
    "The lower and upper boundary of the range of n-values for different word n-grams or char n-grams to be extracted. All values of n such such that min_n <= n <= max_n will be used. For example an ngram_range of (1, 1) means only unigrams, (1, 2) means unigrams and bigrams, and (2, 2) means only bigrams."
   ]
  },
  {
   "cell_type": "code",
   "execution_count": 29,
   "id": "89fb63ab",
   "metadata": {},
   "outputs": [],
   "source": [
    "#transform\n",
    "Count_data = CountVec.fit_transform([sentence_1,sentence_2])"
   ]
  },
  {
   "cell_type": "code",
   "execution_count": 30,
   "id": "3ffbf303",
   "metadata": {},
   "outputs": [],
   "source": [
    "#create dataframe\n",
    "cv_dataframe=pd.DataFrame(Count_data.toarray(),\n",
    "                          columns=CountVec.get_feature_names_out())"
   ]
  },
  {
   "cell_type": "code",
   "execution_count": 32,
   "id": "19d4a97b",
   "metadata": {},
   "outputs": [
    {
     "data": {
      "text/html": [
       "<div>\n",
       "<style scoped>\n",
       "    .dataframe tbody tr th:only-of-type {\n",
       "        vertical-align: middle;\n",
       "    }\n",
       "\n",
       "    .dataframe tbody tr th {\n",
       "        vertical-align: top;\n",
       "    }\n",
       "\n",
       "    .dataframe thead th {\n",
       "        text-align: right;\n",
       "    }\n",
       "</style>\n",
       "<table border=\"1\" class=\"dataframe\">\n",
       "  <thead>\n",
       "    <tr style=\"text-align: right;\">\n",
       "      <th></th>\n",
       "      <th>good</th>\n",
       "      <th>job</th>\n",
       "      <th>miss</th>\n",
       "    </tr>\n",
       "  </thead>\n",
       "  <tbody>\n",
       "    <tr>\n",
       "      <th>0</th>\n",
       "      <td>1</td>\n",
       "      <td>1</td>\n",
       "      <td>1</td>\n",
       "    </tr>\n",
       "    <tr>\n",
       "      <th>1</th>\n",
       "      <td>1</td>\n",
       "      <td>0</td>\n",
       "      <td>0</td>\n",
       "    </tr>\n",
       "  </tbody>\n",
       "</table>\n",
       "</div>"
      ],
      "text/plain": [
       "   good  job  miss\n",
       "0     1    1     1\n",
       "1     1    0     0"
      ]
     },
     "execution_count": 32,
     "metadata": {},
     "output_type": "execute_result"
    }
   ],
   "source": [
    "cv_dataframe"
   ]
  },
  {
   "cell_type": "markdown",
   "id": "19f41744",
   "metadata": {},
   "source": [
    "## Term frequency, inverse document frequency\n",
    "We can use the TfidfVectorizer() function from the Sk-learn library to easily implement the BoW(Tf-IDF), model."
   ]
  },
  {
   "cell_type": "code",
   "execution_count": null,
   "id": "e88f57e7",
   "metadata": {},
   "outputs": [],
   "source": [
    "sentence_1=\"This is a good job.I will not miss it for anything\"\n",
    "sentence_2=\"This is not good at all\""
   ]
  },
  {
   "cell_type": "code",
   "execution_count": 51,
   "id": "76a1bd96",
   "metadata": {},
   "outputs": [],
   "source": [
    "from sklearn.feature_extraction.text import TfidfVectorizer\n",
    "\n",
    "#define tf-idf\n",
    "tf_idf_vec = TfidfVectorizer(use_idf=True, \n",
    "                        ngram_range=(1,1),\n",
    "                        stop_words='english') # to use only  bigrams ngram_range=(2,2)\n"
   ]
  },
  {
   "cell_type": "markdown",
   "id": "714a182b",
   "metadata": {},
   "source": [
    "**use_idf** , _default=True_\n",
    "Enable inverse-document-frequency reweighting. If False, idf(t) = 1."
   ]
  },
  {
   "cell_type": "code",
   "execution_count": 52,
   "id": "0bee1caf",
   "metadata": {},
   "outputs": [],
   "source": [
    "#transform\n",
    "tf_idf_data = tf_idf_vec.fit_transform([sentence_1,sentence_2])"
   ]
  },
  {
   "cell_type": "code",
   "execution_count": 54,
   "id": "4774844d",
   "metadata": {},
   "outputs": [],
   "source": [
    "#create dataframe\n",
    "tf_idf_dataframe=pd.DataFrame(tf_idf_data.toarray(),columns=tf_idf_vec.get_feature_names())\n"
   ]
  },
  {
   "cell_type": "code",
   "execution_count": 55,
   "id": "a755e212",
   "metadata": {},
   "outputs": [
    {
     "data": {
      "text/html": [
       "<div>\n",
       "<style scoped>\n",
       "    .dataframe tbody tr th:only-of-type {\n",
       "        vertical-align: middle;\n",
       "    }\n",
       "\n",
       "    .dataframe tbody tr th {\n",
       "        vertical-align: top;\n",
       "    }\n",
       "\n",
       "    .dataframe thead th {\n",
       "        text-align: right;\n",
       "    }\n",
       "</style>\n",
       "<table border=\"1\" class=\"dataframe\">\n",
       "  <thead>\n",
       "    <tr style=\"text-align: right;\">\n",
       "      <th></th>\n",
       "      <th>good</th>\n",
       "      <th>job</th>\n",
       "      <th>miss</th>\n",
       "    </tr>\n",
       "  </thead>\n",
       "  <tbody>\n",
       "    <tr>\n",
       "      <th>0</th>\n",
       "      <td>0.449436</td>\n",
       "      <td>0.631667</td>\n",
       "      <td>0.631667</td>\n",
       "    </tr>\n",
       "    <tr>\n",
       "      <th>1</th>\n",
       "      <td>1.000000</td>\n",
       "      <td>0.000000</td>\n",
       "      <td>0.000000</td>\n",
       "    </tr>\n",
       "  </tbody>\n",
       "</table>\n",
       "</div>"
      ],
      "text/plain": [
       "       good       job      miss\n",
       "0  0.449436  0.631667  0.631667\n",
       "1  1.000000  0.000000  0.000000"
      ]
     },
     "execution_count": 55,
     "metadata": {},
     "output_type": "execute_result"
    }
   ],
   "source": [
    "tf_idf_dataframe"
   ]
  }
 ],
 "metadata": {
  "kernelspec": {
   "display_name": "Python 3 (ipykernel)",
   "language": "python",
   "name": "python3"
  },
  "language_info": {
   "codemirror_mode": {
    "name": "ipython",
    "version": 3
   },
   "file_extension": ".py",
   "mimetype": "text/x-python",
   "name": "python",
   "nbconvert_exporter": "python",
   "pygments_lexer": "ipython3",
   "version": "3.10.9"
  }
 },
 "nbformat": 4,
 "nbformat_minor": 5
}

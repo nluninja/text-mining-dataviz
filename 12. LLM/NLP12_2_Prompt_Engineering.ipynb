{
  "cells": [
    {
      "cell_type": "markdown",
      "metadata": {
        "id": "-ETtu9CvVMDR"
      },
      "source": [
        "<h1>Prompt Engineering</h1>"
      ]
    },
    {
      "cell_type": "code",
      "execution_count": null,
      "metadata": {
        "id": "CTj1HMGpM-ro"
      },
      "outputs": [],
      "source": [
        "# %%capture\n",
        "# !pip install langchain>=0.1.17 openai>=1.13.3 langchain_openai>=0.1.6 transformers>=4.40.1 datasets>=2.18.0 accelerate>=0.27.2 sentence-transformers>=2.5.1 duckduckgo-search>=5.2.2\n",
        "# !CMAKE_ARGS=\"-DLLAMA_CUBLAS=on\" pip install llama-cpp-python"
      ]
    },
    {
      "cell_type": "markdown",
      "metadata": {
        "id": "KaB0B1LdMcPM"
      },
      "source": [
        "## Loading our model"
      ]
    },
    {
      "cell_type": "code",
      "execution_count": null,
      "metadata": {
        "colab": {
          "base_uri": "https://localhost:8080/",
          "height": 269,
          "referenced_widgets": [
            "977271302f104ebdb11c0a2a8183cc93",
            "931c6ca8360a4e79924399f017f5522d",
            "2ff276f9bbab440bb036c1109c023582",
            "6d5243b8997d4f64af62900cb19489d0",
            "680d3647069b45c0b4353548ac52ef37",
            "0512bf845dda462395f58c06dfb0733d",
            "26985bad36884566a7bd4ba6f1037e80",
            "e174502c4dfe4740922264d67a9a74b5",
            "9da5552b33c1418d9e0190ec66f19c9d",
            "33acfbdb950545a6a67a9b39be02e30b",
            "c6d9399532c14ce58189b9d038e4cfa4"
          ]
        },
        "id": "mNkbw28oMeAM",
        "outputId": "c0b97b59-180f-427f-8d49-398cb1b39c40"
      },
      "outputs": [
        {
          "name": "stderr",
          "output_type": "stream",
          "text": [
            "/usr/local/lib/python3.10/dist-packages/huggingface_hub/file_download.py:1132: FutureWarning: `resume_download` is deprecated and will be removed in version 1.0.0. Downloads always resume when possible. If you want to force a new download, use `force_download=True`.\n",
            "  warnings.warn(\n",
            "/usr/local/lib/python3.10/dist-packages/huggingface_hub/utils/_token.py:89: UserWarning: \n",
            "The secret `HF_TOKEN` does not exist in your Colab secrets.\n",
            "To authenticate with the Hugging Face Hub, create a token in your settings tab (https://huggingface.co/settings/tokens), set it as secret in your Google Colab and restart your session.\n",
            "You will be able to reuse this secret in all of your notebooks.\n",
            "Please note that authentication is recommended but still optional to access public models or datasets.\n",
            "  warnings.warn(\n",
            "WARNING:transformers_modules.microsoft.Phi-3-mini-4k-instruct.920b6cf52a79ecff578cc33f61922b23cbc88115.modeling_phi3:`flash-attention` package not found, consider installing for better performance: No module named 'flash_attn'.\n",
            "WARNING:transformers_modules.microsoft.Phi-3-mini-4k-instruct.920b6cf52a79ecff578cc33f61922b23cbc88115.modeling_phi3:Current `flash-attenton` does not support `window_size`. Either upgrade or use `attn_implementation='eager'`.\n"
          ]
        },
        {
          "data": {
            "application/vnd.jupyter.widget-view+json": {
              "model_id": "977271302f104ebdb11c0a2a8183cc93",
              "version_major": 2,
              "version_minor": 0
            },
            "text/plain": [
              "Loading checkpoint shards:   0%|          | 0/2 [00:00<?, ?it/s]"
            ]
          },
          "metadata": {},
          "output_type": "display_data"
        },
        {
          "name": "stderr",
          "output_type": "stream",
          "text": [
            "Special tokens have been added in the vocabulary, make sure the associated word embeddings are fine-tuned or trained.\n"
          ]
        }
      ],
      "source": [
        "import torch\n",
        "from transformers import AutoModelForCausalLM, AutoTokenizer, pipeline\n",
        "\n",
        "# Load model and tokenizer\n",
        "model = AutoModelForCausalLM.from_pretrained(\n",
        "    \"microsoft/Phi-3-mini-4k-instruct\",\n",
        "    device_map=\"cuda\",\n",
        "    torch_dtype=\"auto\",\n",
        "    trust_remote_code=True,\n",
        ")\n",
        "tokenizer = AutoTokenizer.from_pretrained(\"microsoft/Phi-3-mini-4k-instruct\")\n",
        "\n",
        "# Create a pipeline\n",
        "pipe = pipeline(\n",
        "    \"text-generation\",\n",
        "    model=model,\n",
        "    tokenizer=tokenizer,\n",
        "    return_full_text=False,\n",
        "    max_new_tokens=500,\n",
        "    do_sample=False,\n",
        ")"
      ]
    },
    {
      "cell_type": "code",
      "execution_count": null,
      "metadata": {
        "colab": {
          "base_uri": "https://localhost:8080/"
        },
        "id": "uZIMVL0Q3g8P",
        "outputId": "2df55f98-fcf7-448e-b4de-3ae1ed8c1a5f"
      },
      "outputs": [
        {
          "name": "stderr",
          "output_type": "stream",
          "text": [
            "WARNING:transformers_modules.microsoft.Phi-3-mini-4k-instruct.920b6cf52a79ecff578cc33f61922b23cbc88115.modeling_phi3:You are not running the flash-attention implementation, expect numerical differences.\n"
          ]
        },
        {
          "name": "stdout",
          "output_type": "stream",
          "text": [
            " Why don't chickens like to go to the gym? Because they can't crack the egg-sistence of it!\n"
          ]
        }
      ],
      "source": [
        "# Prompt\n",
        "messages = [\n",
        "    {\"role\": \"user\", \"content\": \"Create a funny joke about chickens.\"}\n",
        "]\n",
        "\n",
        "# Generate the output\n",
        "output = pipe(messages)\n",
        "print(output[0][\"generated_text\"])"
      ]
    },
    {
      "cell_type": "code",
      "execution_count": null,
      "metadata": {
        "colab": {
          "base_uri": "https://localhost:8080/"
        },
        "id": "YOGpAY8w4odt",
        "outputId": "2cc5de39-2a60-4ec4-9894-72b7b95a2fbb"
      },
      "outputs": [
        {
          "name": "stdout",
          "output_type": "stream",
          "text": [
            "<s><|user|>\n",
            "Create a funny joke about chickens.<|end|>\n",
            "<|assistant|>\n",
            "\n"
          ]
        }
      ],
      "source": [
        "# Apply prompt template\n",
        "prompt = pipe.tokenizer.apply_chat_template(messages, tokenize=False)\n",
        "print(prompt)"
      ]
    },
    {
      "cell_type": "markdown",
      "source": [
        "![holl_0602.png](data:image/png;base64,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)"
      ],
      "metadata": {
        "id": "XZVrYFhNNKC-"
      }
    },
    {
      "cell_type": "code",
      "execution_count": null,
      "metadata": {
        "colab": {
          "base_uri": "https://localhost:8080/"
        },
        "id": "eLd_XXaR3i04",
        "outputId": "fa46605a-6e0f-4647-d725-b2ee5f2528b7"
      },
      "outputs": [
        {
          "name": "stdout",
          "output_type": "stream",
          "text": [
            " Why don't chickens ever play hide and seek? Because good luck hiding when everyone always goes to the henhouse!\n"
          ]
        }
      ],
      "source": [
        "# Using a high temperature\n",
        "output = pipe(messages, do_sample=True, temperature=1)\n",
        "print(output[0][\"generated_text\"])"
      ]
    },
    {
      "cell_type": "code",
      "execution_count": null,
      "metadata": {
        "colab": {
          "base_uri": "https://localhost:8080/"
        },
        "id": "sz61Fvtk580U",
        "outputId": "38839183-60f7-49cc-f695-11841d116a7e"
      },
      "outputs": [
        {
          "name": "stdout",
          "output_type": "stream",
          "text": [
            " Why don't chickens like math class? Because they can't solve for \"x\" in their eggs!\n"
          ]
        }
      ],
      "source": [
        "# Using a high top_p\n",
        "output = pipe(messages, do_sample=True, top_p=1)\n",
        "print(output[0][\"generated_text\"])"
      ]
    },
    {
      "cell_type": "markdown",
      "metadata": {
        "id": "lnojy54u2uQa"
      },
      "source": [
        "# **Advanced Prompt Engineering**\n"
      ]
    },
    {
      "cell_type": "markdown",
      "metadata": {
        "id": "NMF9p8qK58Ou"
      },
      "source": [
        "## Complex Prompt"
      ]
    },
    {
      "cell_type": "code",
      "execution_count": null,
      "metadata": {
        "id": "uEQ9ZnSH73yP"
      },
      "outputs": [],
      "source": [
        "text = \"\"\"In the previous post, we looked at Attention – a ubiquitous method in modern deep learning models. Attention is a concept that helped improve the performance of neural machine translation applications. In this post, we will look at The Transformer – a model that uses attention to boost the speed with which these models can be trained. The Transformer outperforms the Google Neural Machine Translation model in specific tasks. The biggest benefit, however, comes from how The Transformer lends itself to parallelization. It is in fact Google Cloud’s recommendation to use The Transformer as a reference model to use their Cloud TPU offering. So let’s try to break the model apart and look at how it functions.\n",
        "The Transformer was proposed in the paper Attention is All You Need. A TensorFlow implementation of it is available as a part of the Tensor2Tensor package. Harvard’s NLP group created a guide annotating the paper with PyTorch implementation. In this post, we will attempt to oversimplify things a bit and introduce the concepts one by one to hopefully make it easier to understand to people without in-depth knowledge of the subject matter.\n",
        "Let’s begin by looking at the model as a single black box. In a machine translation application, it would take a sentence in one language, and output its translation in another.\n",
        "Popping open that Optimus Prime goodness, we see an encoding component, a decoding component, and connections between them.\n",
        "The encoding component is a stack of encoders (the paper stacks six of them on top of each other – there’s nothing magical about the number six, one can definitely experiment with other arrangements). The decoding component is a stack of decoders of the same number.\n",
        "The encoders are all identical in structure (yet they do not share weights). Each one is broken down into two sub-layers:\n",
        "The encoder’s inputs first flow through a self-attention layer – a layer that helps the encoder look at other words in the input sentence as it encodes a specific word. We’ll look closer at self-attention later in the post.\n",
        "The outputs of the self-attention layer are fed to a feed-forward neural network. The exact same feed-forward network is independently applied to each position.\n",
        "The decoder has both those layers, but between them is an attention layer that helps the decoder focus on relevant parts of the input sentence (similar what attention does in seq2seq models).\n",
        "Now that we’ve seen the major components of the model, let’s start to look at the various vectors/tensors and how they flow between these components to turn the input of a trained model into an output.\n",
        "As is the case in NLP applications in general, we begin by turning each input word into a vector using an embedding algorithm.\n",
        "Each word is embedded into a vector of size 512. We'll represent those vectors with these simple boxes.\n",
        "The embedding only happens in the bottom-most encoder. The abstraction that is common to all the encoders is that they receive a list of vectors each of the size 512 – In the bottom encoder that would be the word embeddings, but in other encoders, it would be the output of the encoder that’s directly below. The size of this list is hyperparameter we can set – basically it would be the length of the longest sentence in our training dataset.\n",
        "After embedding the words in our input sequence, each of them flows through each of the two layers of the encoder.\n",
        "Here we begin to see one key property of the Transformer, which is that the word in each position flows through its own path in the encoder. There are dependencies between these paths in the self-attention layer. The feed-forward layer does not have those dependencies, however, and thus the various paths can be executed in parallel while flowing through the feed-forward layer.\n",
        "Next, we’ll switch up the example to a shorter sentence and we’ll look at what happens in each sub-layer of the encoder.\n",
        "Now We’re Encoding!\n",
        "As we’ve mentioned already, an encoder receives a list of vectors as input. It processes this list by passing these vectors into a ‘self-attention’ layer, then into a feed-forward neural network, then sends out the output upwards to the next encoder.\n",
        "\"\"\"\n",
        "\n",
        "# Prompt components\n",
        "persona = \"You are an expert in Large Language models. You excel at breaking down complex papers into digestible summaries.\\n\"\n",
        "instruction = \"Summarize the key findings of the paper provided.\\n\"\n",
        "context = \"Your summary should extract the most crucial points that can help researchers quickly understand the most vital information of the paper.\\n\"\n",
        "data_format = \"Create a bullet-point summary that outlines the method. Follow this up with a concise paragraph that encapsulates the main results.\\n\"\n",
        "audience = \"The summary is designed for busy researchers that quickly need to grasp the newest trends in Large Language Models.\\n\"\n",
        "tone = \"The tone should be professional and clear.\\n\"\n",
        "text = \"MY TEXT TO SUMMARIZE\"  # Replace with your own text to summarize\n",
        "data = f\"Text to summarize: {text}\"\n",
        "\n",
        "query = persona + instruction + context + data_format + audience + tone + data"
      ]
    },
    {
      "cell_type": "code",
      "execution_count": null,
      "metadata": {
        "colab": {
          "base_uri": "https://localhost:8080/"
        },
        "id": "Y8hbXm9R-sr0",
        "outputId": "a4b921a4-909c-4ad8-c3c7-eaf01c9652ef"
      },
      "outputs": [
        {
          "name": "stdout",
          "output_type": "stream",
          "text": [
            "<s><|user|>\n",
            "You are an expert in Large Language models. You excel at breaking down complex papers into digestible summaries.\n",
            "Summarize the key findings of the paper provided.\n",
            "Your summary should extract the most crucial points that can help researchers quickly understand the most vital information of the paper.\n",
            "Create a bullet-point summary that outlines the method. Follow this up with a concise paragraph that encapsulates the main results.\n",
            "The summary is designed for busy researchers that quickly need to grasp the newest trends in Large Language Models.\n",
            "The tone should be professional and clear.\n",
            "Text to summarize: MY TEXT TO SUMMARIZE<|end|>\n",
            "<|assistant|>\n",
            "\n"
          ]
        }
      ],
      "source": [
        "messages = [\n",
        "    {\"role\": \"user\", \"content\": query}\n",
        "]\n",
        "print(tokenizer.apply_chat_template(messages, tokenize=False))"
      ]
    },
    {
      "cell_type": "code",
      "execution_count": null,
      "metadata": {
        "colab": {
          "base_uri": "https://localhost:8080/"
        },
        "id": "-jO_uqNMTiWv",
        "outputId": "243160b8-c29a-4858-d72e-ac076b5cdc46"
      },
      "outputs": [
        {
          "name": "stdout",
          "output_type": "stream",
          "text": [
            " Key Findings:\n",
            "\n",
            "- The Transformer model utilizes attention mechanisms to improve the speed and performance of deep learning models, particularly in neural machine translation tasks.\n",
            "- It outperforms the Google Neural Machine Translation model in specific tasks and is recommended by Google Cloud for their Cloud TPU offering.\n",
            "- The Transformer model consists of an encoding component and a decoding component, both composed of stacks of identical encoders and decoders.\n",
            "- The encoders use self-attention layers to process input sequences, while the decoders incorporate attention layers to focus on relevant parts of the input.\n",
            "- The model employs embedding algorithms to convert input words into vectors of size 512, which are then processed through the encoder's layers.\n",
            "- The Transformer model's architecture allows for parallelization, enabling faster training and improved performance.\n",
            "\n",
            "Summary:\n",
            "\n",
            "- The Transformer model, introduced in the paper \"Attention is All You Need,\" revolutionizes deep learning models by leveraging attention mechanisms to enhance performance and training speed.\n",
            "- It surpasses the Google Neural Machine Translation model in specific tasks and is recommended by Google Cloud for their Cloud TPU offering.\n",
            "- The model comprises an encoding component and a decoding component, each consisting of stacks of identical encoders and decoders.\n",
            "- Encoders utilize self-attention layers to process input sequences, while decoders incorporate attention layers to focus on relevant input parts.\n",
            "- Embedding algorithms convert input words into vectors of size 512, which are processed through the encoder's layers.\n",
            "- The Transformer model's architecture enables parallelization, resulting in faster training and improved performance.\n",
            "\n",
            "The Transformer model, introduced in the paper \"Attention is All You Need,\" revolutionizes deep learning models by leveraging attention mechanisms to enhance performance and training speed. It surpasses the Google Neural Machine Translation model in specific tasks and is recommended by Google Cloud for their Cloud TPU offering. The model comprises an encoding component and a decoding component, each consisting of stacks of identical encoders and decoders. Encoders utilize self-attention layers to process input sequences, while decoders incorporate attention layers to focus on relevant input parts. Embedding algorithms\n"
          ]
        }
      ],
      "source": [
        "# Generate the output\n",
        "outputs = pipe(messages)\n",
        "print(outputs[0][\"generated_text\"])"
      ]
    },
    {
      "cell_type": "markdown",
      "metadata": {
        "id": "Ol5aCUfM9bjM"
      },
      "source": [
        "## In-Context Learning"
      ]
    },
    {
      "cell_type": "code",
      "execution_count": null,
      "metadata": {
        "colab": {
          "base_uri": "https://localhost:8080/"
        },
        "id": "Ne92BtrXU8k8",
        "outputId": "ce08f1ae-8fb4-4c39-cb18-8d975f5ced31"
      },
      "outputs": [
        {
          "name": "stdout",
          "output_type": "stream",
          "text": [
            "<s><|user|>\n",
            "A 'Gigamuru' is a type of Japanese musical instrument. An example of a sentence that uses the word Gigamuru is:<|end|>\n",
            "<|assistant|>\n",
            "I have a Gigamuru that my uncle gave me as a gift. I love to play it at home.<|end|>\n",
            "<|user|>\n",
            "To 'screeg' something is to swing a sword at it. An example of a sentence that uses the word screeg is:<|end|>\n",
            "<|assistant|>\n",
            "\n"
          ]
        }
      ],
      "source": [
        "# Use a single example of using the made-up word in a sentence\n",
        "one_shot_prompt = [\n",
        "    {\n",
        "        \"role\": \"user\",\n",
        "        \"content\": \"A 'Gigamuru' is a type of Japanese musical instrument. An example of a sentence that uses the word Gigamuru is:\"\n",
        "    },\n",
        "    {\n",
        "        \"role\": \"assistant\",\n",
        "        \"content\": \"I have a Gigamuru that my uncle gave me as a gift. I love to play it at home.\"\n",
        "    },\n",
        "    {\n",
        "        \"role\": \"user\",\n",
        "        \"content\": \"To 'screeg' something is to swing a sword at it. An example of a sentence that uses the word screeg is:\"\n",
        "    }\n",
        "]\n",
        "print(tokenizer.apply_chat_template(one_shot_prompt, tokenize=False))"
      ]
    },
    {
      "cell_type": "code",
      "execution_count": null,
      "metadata": {
        "colab": {
          "base_uri": "https://localhost:8080/"
        },
        "id": "Ox3LeHW5JfaD",
        "outputId": "e803e67e-b0c2-4823-d1c9-d1f9bba1642b"
      },
      "outputs": [
        {
          "name": "stdout",
          "output_type": "stream",
          "text": [
            " During the intense duel, the knight skillfully screeged his opponent's shield, forcing him to defend himself.\n"
          ]
        }
      ],
      "source": [
        "# Generate the output\n",
        "outputs = pipe(one_shot_prompt)\n",
        "print(outputs[0][\"generated_text\"])"
      ]
    },
    {
      "cell_type": "markdown",
      "metadata": {
        "id": "cugB9temhHJ0"
      },
      "source": [
        "## Chain Prompting\n"
      ]
    },
    {
      "cell_type": "code",
      "execution_count": null,
      "metadata": {
        "colab": {
          "base_uri": "https://localhost:8080/"
        },
        "id": "VXYuFn9eG2t4",
        "outputId": "3f96c196-8d37-44ca-fad5-94ddcbe8fc57"
      },
      "outputs": [
        {
          "name": "stdout",
          "output_type": "stream",
          "text": [
            " Name: \"MindMeld Messenger\"\n",
            "\n",
            "Slogan: \"Unleashing Intelligent Conversations, One Response at a Time\"\n"
          ]
        }
      ],
      "source": [
        "# Create name and slogan for a product\n",
        "product_prompt = [\n",
        "    {\"role\": \"user\", \"content\": \"Create a name and slogan for a chatbot that leverages LLMs.\"}\n",
        "]\n",
        "outputs = pipe(product_prompt)\n",
        "product_description = outputs[0][\"generated_text\"]\n",
        "print(product_description)"
      ]
    },
    {
      "cell_type": "code",
      "execution_count": null,
      "metadata": {
        "colab": {
          "base_uri": "https://localhost:8080/"
        },
        "id": "fNYi3eDRG9Sk",
        "outputId": "0e1f5a80-27a4-42ef-b514-36e54dea708c"
      },
      "outputs": [
        {
          "name": "stdout",
          "output_type": "stream",
          "text": [
            " Introducing MindMeld Messenger - your ultimate communication partner! Unleash intelligent conversations with our innovative AI-powered messaging platform. With MindMeld Messenger, every response is thoughtful, personalized, and timely. Say goodbye to generic replies and hello to meaningful interactions. Elevate your communication game with MindMeld Messenger - where every message is a step towards smarter conversations. Try it now and experience the future of messaging!\n"
          ]
        }
      ],
      "source": [
        "# Based on a name and slogan for a product, generate a sales pitch\n",
        "sales_prompt = [\n",
        "    {\"role\": \"user\", \"content\": f\"Generate a very short sales pitch for the following product: '{product_description}'\"}\n",
        "]\n",
        "outputs = pipe(sales_prompt)\n",
        "sales_pitch = outputs[0][\"generated_text\"]\n",
        "print(sales_pitch)"
      ]
    },
    {
      "cell_type": "markdown",
      "metadata": {
        "id": "IL1UpiV02V5O"
      },
      "source": [
        "# **Reasoning with Generative Models**\n"
      ]
    },
    {
      "cell_type": "markdown",
      "metadata": {
        "id": "6lQJhAnY2W3O"
      },
      "source": [
        "## Chain-of-Thought: Think Before Answering\n"
      ]
    },
    {
      "cell_type": "code",
      "execution_count": null,
      "metadata": {
        "colab": {
          "base_uri": "https://localhost:8080/"
        },
        "id": "TnkxKmLyHGuR",
        "outputId": "3839ac23-9860-49b3-f769-20610786590a"
      },
      "outputs": [
        {
          "name": "stdout",
          "output_type": "stream",
          "text": [
            " The cafeteria started with 25 apples. They used 20 apples to make lunch, so they had:\n",
            "\n",
            "25 - 20 = 5 apples left.\n",
            "\n",
            "Then they bought 6 more apples, so they now have:\n",
            "\n",
            "5 + 6 = 11 apples.\n"
          ]
        }
      ],
      "source": [
        "# # Answering without explicit reasoning\n",
        "# standard_prompt = [\n",
        "#     {\"role\": \"user\", \"content\": \"Roger has 5 tennis balls. He buys 2 more cans of tennis balls. Each can has 3 tennis balls. How many tennis balls does he have now?\"},\n",
        "#     {\"role\": \"assistant\", \"content\": \"11\"},\n",
        "#     {\"role\": \"user\", \"content\": \"The cafeteria had 25 apples. If they used 20 to make lunch and bought 6 more, how many apples do they have?\"}\n",
        "# ]\n",
        "\n",
        "# # Run generative model\n",
        "# outputs = pipe(standard_prompt)\n",
        "# print(outputs[0][\"generated_text\"])"
      ]
    },
    {
      "cell_type": "code",
      "execution_count": null,
      "metadata": {
        "colab": {
          "base_uri": "https://localhost:8080/"
        },
        "id": "X9jD3zPPEz_X",
        "outputId": "1b5a3d0f-1812-4299-eb95-11f9df48f7e7"
      },
      "outputs": [
        {
          "name": "stderr",
          "output_type": "stream",
          "text": [
            "You seem to be using the pipelines sequentially on GPU. In order to maximize efficiency please use a dataset\n"
          ]
        },
        {
          "name": "stdout",
          "output_type": "stream",
          "text": [
            " The cafeteria started with 23 apples. They used 20 apples, so they had 23 - 20 = 3 apples left. Then they bought 6 more apples, so they now have 3 + 6 = 9 apples. The answer is 9.\n"
          ]
        }
      ],
      "source": [
        "# Answering with chain-of-thought\n",
        "cot_prompt = [\n",
        "    {\"role\": \"user\", \"content\": \"Roger has 5 tennis balls. He buys 2 more cans of tennis balls. Each can has 3 tennis balls. How many tennis balls does he have now?\"},\n",
        "    {\"role\": \"assistant\", \"content\": \"Roger started with 5 balls. 2 cans of 3 tennis balls each is 6 tennis balls. 5 + 6 = 11. The answer is 11.\"},\n",
        "    {\"role\": \"user\", \"content\": \"The cafeteria had 23 apples. If they used 20 to make lunch and bought 6 more, how many apples do they have?\"}\n",
        "]\n",
        "\n",
        "# Generate the output\n",
        "outputs = pipe(cot_prompt)\n",
        "print(outputs[0][\"generated_text\"])"
      ]
    },
    {
      "cell_type": "markdown",
      "metadata": {
        "id": "4jVOOib72Z0P"
      },
      "source": [
        "## Zero-shot Chain-of-Thought\n"
      ]
    },
    {
      "cell_type": "code",
      "execution_count": null,
      "metadata": {
        "colab": {
          "base_uri": "https://localhost:8080/"
        },
        "id": "iyHWAk2XKKGt",
        "outputId": "c6baf07b-5b72-4997-8499-aa8015303abd"
      },
      "outputs": [
        {
          "name": "stdout",
          "output_type": "stream",
          "text": [
            " Step 1: Start with the initial number of apples, which is 23.\n",
            "Step 2: Subtract the number of apples used to make lunch, which is 20. So, 23 - 20 = 3 apples remaining.\n",
            "Step 3: Add the number of apples bought, which is 6. So, 3 + 6 = 9 apples.\n",
            "\n",
            "The cafeteria now has 9 apples.\n"
          ]
        }
      ],
      "source": [
        "# Zero-shot Chain-of-Thought\n",
        "zeroshot_cot_prompt = [\n",
        "    {\"role\": \"user\", \"content\": \"The cafeteria had 23 apples. If they used 20 to make lunch and bought 6 more, how many apples do they have? Let's think step-by-step.\"}\n",
        "]\n",
        "\n",
        "# Generate the output\n",
        "outputs = pipe(zeroshot_cot_prompt)\n",
        "print(outputs[0][\"generated_text\"])"
      ]
    },
    {
      "cell_type": "markdown",
      "metadata": {
        "id": "-3-bMVLT2ehH"
      },
      "source": [
        "## Tree-of-Thought: Exploring Intermediate Steps\n"
      ]
    },
    {
      "cell_type": "code",
      "execution_count": null,
      "metadata": {
        "id": "3ZJo-4NBI1V-"
      },
      "outputs": [],
      "source": [
        "# Zero-shot Chain-of-Thought\n",
        "zeroshot_tot_prompt = [\n",
        "    {\"role\": \"user\", \"content\": \"Imagine three different experts are answering this question. All experts will write down 1 step of their thinking, then share it with the group. Then all experts will go on to the next step, etc. If any expert realises they're wrong at any point then they leave. The question is 'The cafeteria had 23 apples. If they used 20 to make lunch and bought 6 more, how many apples do they have?' Make sure to discuss the results.\"}\n",
        "]"
      ]
    },
    {
      "cell_type": "code",
      "execution_count": null,
      "metadata": {
        "colab": {
          "base_uri": "https://localhost:8080/"
        },
        "id": "qieQ9waXLbZO",
        "outputId": "6cfb9a7f-7b8f-4b0b-ac78-5aa4206175b8"
      },
      "outputs": [
        {
          "name": "stdout",
          "output_type": "stream",
          "text": [
            " Expert 1: Step 1 - Start with the initial number of apples: 23 apples.\n",
            "\n",
            "Expert 2: Step 1 - Subtract the apples used for lunch: 23 - 20 = 3 apples remaining.\n",
            "\n",
            "Expert 3: Step 1 - Add the newly bought apples: 3 + 6 = 9 apples.\n",
            "\n",
            "\n",
            "Expert 1: Step 2 - Confirm the final count: The cafeteria has 9 apples.\n",
            "\n",
            "Expert 2: Step 2 - Review the calculations: 23 - 20 = 3, then 3 + 6 = 9. The calculations are correct.\n",
            "\n",
            "Expert 3: Step 2 - Agree with the result: The cafeteria indeed has 9 apples.\n",
            "\n",
            "\n",
            "All experts agree on the final count: The cafeteria has 9 apples.\n"
          ]
        }
      ],
      "source": [
        "# Generate the output\n",
        "outputs = pipe(zeroshot_tot_prompt)\n",
        "print(outputs[0][\"generated_text\"])"
      ]
    },
    {
      "cell_type": "markdown",
      "metadata": {
        "id": "TyCw3A5GZ61D"
      },
      "source": [
        "# **Output Verification**"
      ]
    },
    {
      "cell_type": "code",
      "execution_count": null,
      "metadata": {
        "colab": {
          "base_uri": "https://localhost:8080/"
        },
        "id": "NBc_HuJQY8sh",
        "outputId": "818a31a8-7dd6-4d70-feec-5db827b491d3"
      },
      "outputs": [
        {
          "name": "stdout",
          "output_type": "stream",
          "text": [
            " {\n",
            "  \"character_profile\": {\n",
            "    \"name\": \"Eldrin Stormbringer\",\n",
            "    \"race\": \"Human\",\n",
            "    \"class\": \"Warlock\",\n",
            "    \"level\": 5,\n",
            "    \"alignment\": \"Chaotic Good\",\n",
            "    \"attributes\": {\n",
            "      \"strength\": 8,\n",
            "      \"dexterity\": 14,\n",
            "      \"constitution\": 10,\n",
            "      \"intelligence\": 12,\n",
            "      \"wisdom\": 10,\n",
            "      \"charisma\": 16\n",
            "    },\n",
            "    \"skills\": [\n",
            "      {\n",
            "        \"name\": \"Fireball\",\n",
            "        \"proficiency\": 18\n",
            "      },\n",
            "      {\n",
            "        \"name\": \"Shadowstep\",\n",
            "        \"proficiency\": 16\n",
            "      },\n",
            "      {\n",
            "        \"name\": \"Charm Person\",\n",
            "        \"proficiency\": 14\n",
            "      }\n",
            "    ],\n",
            "    \"equipment\": [\n",
            "      {\n",
            "        \"name\": \"Stormbringer Staff\",\n",
            "        \"type\": \"Magic Weapon\",\n",
            "        \"damage\": 15\n",
            "      },\n",
            "      {\n",
            "        \"name\": \"Leather Armor\",\n",
            "        \"type\": \"Light Armor\",\n",
            "        \"defense\": 10\n",
            "      },\n",
            "      {\n",
            "        \"name\": \"Ring of Protection\",\n",
            "        \"type\": \"Magic Armor\",\n",
            "        \"defense\": 5\n",
            "      }\n",
            "    ],\n",
            "    \"background\": \"Eldrin grew up in a small village, where he was known for his mischievous nature and knack for getting into trouble. However, he discovered his affinity for magic and quickly became a skilled warlock, using his powers to protect his home and those he cares about.\"\n",
            "  }\n",
            "}\n"
          ]
        }
      ],
      "source": [
        "# Zero-shot learning: Providing no examples\n",
        "zeroshot_prompt = [\n",
        "    {\"role\": \"user\", \"content\": \"Create a character profile for an RPG game in JSON format.\"}\n",
        "]\n",
        "\n",
        "# Generate the output\n",
        "outputs = pipe(zeroshot_prompt)\n",
        "print(outputs[0][\"generated_text\"])"
      ]
    },
    {
      "cell_type": "code",
      "execution_count": null,
      "metadata": {
        "colab": {
          "base_uri": "https://localhost:8080/"
        },
        "id": "4cc1U9TKZJkM",
        "outputId": "95cc264e-95a7-48e7-bef8-59d1bcef9ea9"
      },
      "outputs": [
        {
          "name": "stdout",
          "output_type": "stream",
          "text": [
            " {\n",
            "  \"description\": \"A cunning rogue with a mysterious past, skilled in stealth and deception.\",\n",
            "  \"name\": \"Lysandra Shadowstep\",\n",
            "  \"armor\": \"Leather Cloak of the Night\",\n",
            "  \"weapon\": \"Dagger of Whispers, Throwing Knives\"\n",
            "}\n"
          ]
        }
      ],
      "source": [
        "# One-shot learning: Providing an example of the output structure\n",
        "one_shot_template = \"\"\"Create a short character profile for an RPG game. Make sure to only use this format:\n",
        "\n",
        "{\n",
        "  \"description\": \"A SHORT DESCRIPTION\",\n",
        "  \"name\": \"THE CHARACTER'S NAME\",\n",
        "  \"armor\": \"ONE PIECE OF ARMOR\",\n",
        "  \"weapon\": \"ONE OR MORE WEAPONS\"\n",
        "}\n",
        "\"\"\"\n",
        "one_shot_prompt = [\n",
        "    {\"role\": \"user\", \"content\": one_shot_template}\n",
        "]\n",
        "\n",
        "# Generate the output\n",
        "outputs = pipe(one_shot_prompt)\n",
        "print(outputs[0][\"generated_text\"])"
      ]
    },
    {
      "cell_type": "markdown",
      "metadata": {
        "id": "jR3QSswQ2kAq"
      },
      "source": [
        "## Grammar: Constrained Sampling\n"
      ]
    },
    {
      "cell_type": "code",
      "execution_count": null,
      "metadata": {
        "id": "L06f1CYoc9Pp"
      },
      "outputs": [],
      "source": [
        "import gc\n",
        "import torch\n",
        "del model, tokenizer, pipe\n",
        "\n",
        "# Flush memory\n",
        "gc.collect()\n",
        "torch.cuda.empty_cache()"
      ]
    },
    {
      "cell_type": "code",
      "execution_count": null,
      "metadata": {
        "colab": {
          "base_uri": "https://localhost:8080/"
        },
        "id": "B-YykcIru20X",
        "outputId": "5754cfa9-ca0b-43bf-9e28-995ad18eaf0c"
      },
      "outputs": [
        {
          "name": "stderr",
          "output_type": "stream",
          "text": [
            "/usr/local/lib/python3.10/dist-packages/huggingface_hub/utils/_token.py:89: UserWarning: \n",
            "The secret `HF_TOKEN` does not exist in your Colab secrets.\n",
            "To authenticate with the Hugging Face Hub, create a token in your settings tab (https://huggingface.co/settings/tokens), set it as secret in your Google Colab and restart your session.\n",
            "You will be able to reuse this secret in all of your notebooks.\n",
            "Please note that authentication is recommended but still optional to access public models or datasets.\n",
            "  warnings.warn(\n"
          ]
        }
      ],
      "source": [
        "from llama_cpp.llama import Llama\n",
        "\n",
        "# Load Phi-3\n",
        "llm = Llama.from_pretrained(\n",
        "    repo_id=\"microsoft/Phi-3-mini-4k-instruct-gguf\",\n",
        "    filename=\"*fp16.gguf\",\n",
        "    n_gpu_layers=-1,\n",
        "    n_ctx=2048,\n",
        "    verbose=False\n",
        ")"
      ]
    },
    {
      "cell_type": "code",
      "execution_count": null,
      "metadata": {
        "id": "_j9TYBVIgti6"
      },
      "outputs": [],
      "source": [
        "# Generate output\n",
        "output = llm.create_chat_completion(\n",
        "    messages=[\n",
        "        {\"role\": \"user\", \"content\": \"Create a warrior for an RPG in JSON format.\"},\n",
        "    ],\n",
        "    response_format={\"type\": \"json_object\"},\n",
        "    temperature=0,\n",
        ")['choices'][0]['message'][\"content\"]\n"
      ]
    },
    {
      "cell_type": "code",
      "execution_count": null,
      "metadata": {
        "colab": {
          "base_uri": "https://localhost:8080/"
        },
        "id": "Kp7FBjFdsbHe",
        "outputId": "6f7ca54b-aca2-46c9-a04d-278baebce333"
      },
      "outputs": [
        {
          "name": "stdout",
          "output_type": "stream",
          "text": [
            "{\n",
            "    \"name\": \"Eldrin Stormbringer\",\n",
            "    \"class\": \"Ranger\",\n",
            "    \"level\": 5,\n",
            "    \"attributes\": {\n",
            "        \"strength\": 14,\n",
            "        \"dexterity\": 18,\n",
            "        \"constitution\": 12,\n",
            "        \"intelligence\": 10,\n",
            "        \"wisdom\": 13,\n",
            "        \"charisma\": 9\n",
            "    },\n",
            "    \"skills\": {\n",
            "        \"archery\": {\n",
            "            \"proficiency\": 20,\n",
            "            \"critical_hit_chance\": 5,\n",
            "            \"damage_range\": [\n",
            "                8,\n",
            "                14\n",
            "            ]\n",
            "        },\n",
            "        \"stealth\": {\n",
            "            \"proficiency\": 17,\n",
            "            \"critical_hit_chance\": 3,\n",
            "            \"damage_range\": [\n",
            "                2,\n",
            "                6\n",
            "            ]\n",
            "        },\n",
            "        \"nature_magic\": {\n",
            "            \"proficiency\": 15,\n",
            "            \"critical_hit_chance\": 4,\n",
            "            \"healing_range\": [\n",
            "                3,\n",
            "                7\n",
            "            ],\n",
            "            \"damage_range\": [\n",
            "                -2,\n",
            "                2\n",
            "            ]\n",
            "        }\n",
            "    },\n",
            "    \"equipment\": {\n",
            "        \"weapons\": [\n",
            "            \"Longbow\",\n",
            "            \"Dagger\"\n",
            "        ],\n",
            "        \"armor\": \"Leather Armor\",\n",
            "        \"accessories\": [\n",
            "            \"Boots of Speed\",\n",
            "            \"Ring of Protection\"\n",
            "        ]\n",
            "    },\n",
            "    \"background\": \"Eldrin grew up in the wilderness, learning to hunt and track from his father. He became a skilled ranger after joining a group of adventurers.\"\n",
            "}\n"
          ]
        }
      ],
      "source": [
        "import json\n",
        "\n",
        "# Format as json\n",
        "json_output = json.dumps(json.loads(output), indent=4)\n",
        "print(json_output)"
      ]
    },
    {
      "cell_type": "code",
      "execution_count": null,
      "metadata": {
        "id": "kxf4Xexhtel_"
      },
      "outputs": [],
      "source": []
    }
  ],
  "metadata": {
    "accelerator": "GPU",
    "colab": {
      "gpuType": "T4",
      "provenance": []
    },
    "kernelspec": {
      "display_name": "Python 3 (ipykernel)",
      "language": "python",
      "name": "python3"
    },
    "language_info": {
      "codemirror_mode": {
        "name": "ipython",
        "version": 3
      },
      "file_extension": ".py",
      "mimetype": "text/x-python",
      "name": "python",
      "nbconvert_exporter": "python",
      "pygments_lexer": "ipython3",
      "version": "3.10.14"
    },
    "widgets": {
      "application/vnd.jupyter.widget-state+json": {
        "0512bf845dda462395f58c06dfb0733d": {
          "model_module": "@jupyter-widgets/base",
          "model_module_version": "1.2.0",
          "model_name": "LayoutModel",
          "state": {
            "_model_module": "@jupyter-widgets/base",
            "_model_module_version": "1.2.0",
            "_model_name": "LayoutModel",
            "_view_count": null,
            "_view_module": "@jupyter-widgets/base",
            "_view_module_version": "1.2.0",
            "_view_name": "LayoutView",
            "align_content": null,
            "align_items": null,
            "align_self": null,
            "border": null,
            "bottom": null,
            "display": null,
            "flex": null,
            "flex_flow": null,
            "grid_area": null,
            "grid_auto_columns": null,
            "grid_auto_flow": null,
            "grid_auto_rows": null,
            "grid_column": null,
            "grid_gap": null,
            "grid_row": null,
            "grid_template_areas": null,
            "grid_template_columns": null,
            "grid_template_rows": null,
            "height": null,
            "justify_content": null,
            "justify_items": null,
            "left": null,
            "margin": null,
            "max_height": null,
            "max_width": null,
            "min_height": null,
            "min_width": null,
            "object_fit": null,
            "object_position": null,
            "order": null,
            "overflow": null,
            "overflow_x": null,
            "overflow_y": null,
            "padding": null,
            "right": null,
            "top": null,
            "visibility": null,
            "width": null
          }
        },
        "26985bad36884566a7bd4ba6f1037e80": {
          "model_module": "@jupyter-widgets/controls",
          "model_module_version": "1.5.0",
          "model_name": "DescriptionStyleModel",
          "state": {
            "_model_module": "@jupyter-widgets/controls",
            "_model_module_version": "1.5.0",
            "_model_name": "DescriptionStyleModel",
            "_view_count": null,
            "_view_module": "@jupyter-widgets/base",
            "_view_module_version": "1.2.0",
            "_view_name": "StyleView",
            "description_width": ""
          }
        },
        "2ff276f9bbab440bb036c1109c023582": {
          "model_module": "@jupyter-widgets/controls",
          "model_module_version": "1.5.0",
          "model_name": "FloatProgressModel",
          "state": {
            "_dom_classes": [],
            "_model_module": "@jupyter-widgets/controls",
            "_model_module_version": "1.5.0",
            "_model_name": "FloatProgressModel",
            "_view_count": null,
            "_view_module": "@jupyter-widgets/controls",
            "_view_module_version": "1.5.0",
            "_view_name": "ProgressView",
            "bar_style": "success",
            "description": "",
            "description_tooltip": null,
            "layout": "IPY_MODEL_e174502c4dfe4740922264d67a9a74b5",
            "max": 2,
            "min": 0,
            "orientation": "horizontal",
            "style": "IPY_MODEL_9da5552b33c1418d9e0190ec66f19c9d",
            "value": 2
          }
        },
        "33acfbdb950545a6a67a9b39be02e30b": {
          "model_module": "@jupyter-widgets/base",
          "model_module_version": "1.2.0",
          "model_name": "LayoutModel",
          "state": {
            "_model_module": "@jupyter-widgets/base",
            "_model_module_version": "1.2.0",
            "_model_name": "LayoutModel",
            "_view_count": null,
            "_view_module": "@jupyter-widgets/base",
            "_view_module_version": "1.2.0",
            "_view_name": "LayoutView",
            "align_content": null,
            "align_items": null,
            "align_self": null,
            "border": null,
            "bottom": null,
            "display": null,
            "flex": null,
            "flex_flow": null,
            "grid_area": null,
            "grid_auto_columns": null,
            "grid_auto_flow": null,
            "grid_auto_rows": null,
            "grid_column": null,
            "grid_gap": null,
            "grid_row": null,
            "grid_template_areas": null,
            "grid_template_columns": null,
            "grid_template_rows": null,
            "height": null,
            "justify_content": null,
            "justify_items": null,
            "left": null,
            "margin": null,
            "max_height": null,
            "max_width": null,
            "min_height": null,
            "min_width": null,
            "object_fit": null,
            "object_position": null,
            "order": null,
            "overflow": null,
            "overflow_x": null,
            "overflow_y": null,
            "padding": null,
            "right": null,
            "top": null,
            "visibility": null,
            "width": null
          }
        },
        "680d3647069b45c0b4353548ac52ef37": {
          "model_module": "@jupyter-widgets/base",
          "model_module_version": "1.2.0",
          "model_name": "LayoutModel",
          "state": {
            "_model_module": "@jupyter-widgets/base",
            "_model_module_version": "1.2.0",
            "_model_name": "LayoutModel",
            "_view_count": null,
            "_view_module": "@jupyter-widgets/base",
            "_view_module_version": "1.2.0",
            "_view_name": "LayoutView",
            "align_content": null,
            "align_items": null,
            "align_self": null,
            "border": null,
            "bottom": null,
            "display": null,
            "flex": null,
            "flex_flow": null,
            "grid_area": null,
            "grid_auto_columns": null,
            "grid_auto_flow": null,
            "grid_auto_rows": null,
            "grid_column": null,
            "grid_gap": null,
            "grid_row": null,
            "grid_template_areas": null,
            "grid_template_columns": null,
            "grid_template_rows": null,
            "height": null,
            "justify_content": null,
            "justify_items": null,
            "left": null,
            "margin": null,
            "max_height": null,
            "max_width": null,
            "min_height": null,
            "min_width": null,
            "object_fit": null,
            "object_position": null,
            "order": null,
            "overflow": null,
            "overflow_x": null,
            "overflow_y": null,
            "padding": null,
            "right": null,
            "top": null,
            "visibility": null,
            "width": null
          }
        },
        "6d5243b8997d4f64af62900cb19489d0": {
          "model_module": "@jupyter-widgets/controls",
          "model_module_version": "1.5.0",
          "model_name": "HTMLModel",
          "state": {
            "_dom_classes": [],
            "_model_module": "@jupyter-widgets/controls",
            "_model_module_version": "1.5.0",
            "_model_name": "HTMLModel",
            "_view_count": null,
            "_view_module": "@jupyter-widgets/controls",
            "_view_module_version": "1.5.0",
            "_view_name": "HTMLView",
            "description": "",
            "description_tooltip": null,
            "layout": "IPY_MODEL_33acfbdb950545a6a67a9b39be02e30b",
            "placeholder": "​",
            "style": "IPY_MODEL_c6d9399532c14ce58189b9d038e4cfa4",
            "value": " 2/2 [00:38&lt;00:00, 18.13s/it]"
          }
        },
        "931c6ca8360a4e79924399f017f5522d": {
          "model_module": "@jupyter-widgets/controls",
          "model_module_version": "1.5.0",
          "model_name": "HTMLModel",
          "state": {
            "_dom_classes": [],
            "_model_module": "@jupyter-widgets/controls",
            "_model_module_version": "1.5.0",
            "_model_name": "HTMLModel",
            "_view_count": null,
            "_view_module": "@jupyter-widgets/controls",
            "_view_module_version": "1.5.0",
            "_view_name": "HTMLView",
            "description": "",
            "description_tooltip": null,
            "layout": "IPY_MODEL_0512bf845dda462395f58c06dfb0733d",
            "placeholder": "​",
            "style": "IPY_MODEL_26985bad36884566a7bd4ba6f1037e80",
            "value": "Loading checkpoint shards: 100%"
          }
        },
        "977271302f104ebdb11c0a2a8183cc93": {
          "model_module": "@jupyter-widgets/controls",
          "model_module_version": "1.5.0",
          "model_name": "HBoxModel",
          "state": {
            "_dom_classes": [],
            "_model_module": "@jupyter-widgets/controls",
            "_model_module_version": "1.5.0",
            "_model_name": "HBoxModel",
            "_view_count": null,
            "_view_module": "@jupyter-widgets/controls",
            "_view_module_version": "1.5.0",
            "_view_name": "HBoxView",
            "box_style": "",
            "children": [
              "IPY_MODEL_931c6ca8360a4e79924399f017f5522d",
              "IPY_MODEL_2ff276f9bbab440bb036c1109c023582",
              "IPY_MODEL_6d5243b8997d4f64af62900cb19489d0"
            ],
            "layout": "IPY_MODEL_680d3647069b45c0b4353548ac52ef37"
          }
        },
        "9da5552b33c1418d9e0190ec66f19c9d": {
          "model_module": "@jupyter-widgets/controls",
          "model_module_version": "1.5.0",
          "model_name": "ProgressStyleModel",
          "state": {
            "_model_module": "@jupyter-widgets/controls",
            "_model_module_version": "1.5.0",
            "_model_name": "ProgressStyleModel",
            "_view_count": null,
            "_view_module": "@jupyter-widgets/base",
            "_view_module_version": "1.2.0",
            "_view_name": "StyleView",
            "bar_color": null,
            "description_width": ""
          }
        },
        "c6d9399532c14ce58189b9d038e4cfa4": {
          "model_module": "@jupyter-widgets/controls",
          "model_module_version": "1.5.0",
          "model_name": "DescriptionStyleModel",
          "state": {
            "_model_module": "@jupyter-widgets/controls",
            "_model_module_version": "1.5.0",
            "_model_name": "DescriptionStyleModel",
            "_view_count": null,
            "_view_module": "@jupyter-widgets/base",
            "_view_module_version": "1.2.0",
            "_view_name": "StyleView",
            "description_width": ""
          }
        },
        "e174502c4dfe4740922264d67a9a74b5": {
          "model_module": "@jupyter-widgets/base",
          "model_module_version": "1.2.0",
          "model_name": "LayoutModel",
          "state": {
            "_model_module": "@jupyter-widgets/base",
            "_model_module_version": "1.2.0",
            "_model_name": "LayoutModel",
            "_view_count": null,
            "_view_module": "@jupyter-widgets/base",
            "_view_module_version": "1.2.0",
            "_view_name": "LayoutView",
            "align_content": null,
            "align_items": null,
            "align_self": null,
            "border": null,
            "bottom": null,
            "display": null,
            "flex": null,
            "flex_flow": null,
            "grid_area": null,
            "grid_auto_columns": null,
            "grid_auto_flow": null,
            "grid_auto_rows": null,
            "grid_column": null,
            "grid_gap": null,
            "grid_row": null,
            "grid_template_areas": null,
            "grid_template_columns": null,
            "grid_template_rows": null,
            "height": null,
            "justify_content": null,
            "justify_items": null,
            "left": null,
            "margin": null,
            "max_height": null,
            "max_width": null,
            "min_height": null,
            "min_width": null,
            "object_fit": null,
            "object_position": null,
            "order": null,
            "overflow": null,
            "overflow_x": null,
            "overflow_y": null,
            "padding": null,
            "right": null,
            "top": null,
            "visibility": null,
            "width": null
          }
        }
      }
    }
  },
  "nbformat": 4,
  "nbformat_minor": 0
}